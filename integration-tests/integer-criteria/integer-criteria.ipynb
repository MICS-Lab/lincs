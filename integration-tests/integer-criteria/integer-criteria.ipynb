{
 "cells": [
  {
   "cell_type": "code",
   "execution_count": 1,
   "id": "612c4b0e-c976-4075-aa3b-a0ce826259d8",
   "metadata": {},
   "outputs": [
    {
     "name": "stdout",
     "output_type": "stream",
     "text": [
      "# Reproduction command (with lincs version 0.11.2-dev): lincs generate classification-problem 2 2 --random-seed 535747649 --denormalized-min-max --allow-decreasing-criteria --forbid-real-criteria --allow-integer-criteria\n",
      "kind: classification-problem\n",
      "format_version: 1\n",
      "criteria:\n",
      "  - name: Criterion 1\n",
      "    value_type: integer\n",
      "    preference_direction: increasing\n",
      "    min_value: -4949\n",
      "    max_value: 9942\n",
      "  - name: Criterion 2\n",
      "    value_type: integer\n",
      "    preference_direction: decreasing\n",
      "    min_value: -9264\n",
      "    max_value: 9236\n",
      "ordered_categories:\n",
      "  - name: Worst category\n",
      "  - name: Best category\n"
     ]
    }
   ],
   "source": [
    "lincs generate classification-problem 2 2 \\\n",
    "  --forbid-real-criteria --allow-integer-criteria \\\n",
    "  --denormalized-min-max \\\n",
    "  --allow-decreasing-criteria \\\n",
    "  --random-seed 535747649 >problem.yml\n",
    "cat problem.yml"
   ]
  },
  {
   "cell_type": "code",
   "execution_count": 2,
   "id": "df0ad0d5-3074-4477-a49a-f0f8dfa74f53",
   "metadata": {},
   "outputs": [
    {
     "name": "stdout",
     "output_type": "stream",
     "text": [
      "This a classification problem into 2 ordered categories named \"Worst category\" and \"Best category\".\n",
      "The best category is \"Best category\" and the worst category is \"Worst category\".\n",
      "There are 2 classification criteria (in no particular order).\n",
      "Criterion \"Criterion 1\" takes integer values between -4949 and 9942 included.\n",
      "Higher values of \"Criterion 1\" are known to be better.\n",
      "Criterion \"Criterion 2\" takes integer values between -9264 and 9236 included.\n",
      "Lower values of \"Criterion 2\" are known to be better.\n"
     ]
    }
   ],
   "source": [
    "lincs describe classification-problem problem.yml"
   ]
  },
  {
   "cell_type": "code",
   "execution_count": 3,
   "id": "6e9dd1d8-731f-4101-8dce-445270fa18d7",
   "metadata": {},
   "outputs": [
    {
     "name": "stdout",
     "output_type": "stream",
     "text": [
      "# Reproduction command (with lincs version 0.11.2-dev): lincs generate classification-model problem.yml --random-seed 86476259 --model-type mrsort\n",
      "kind: ncs-classification-model\n",
      "format_version: 1\n",
      "accepted_values:\n",
      "  - kind: thresholds\n",
      "    thresholds: [879]\n",
      "  - kind: thresholds\n",
      "    thresholds: [-4473]\n",
      "sufficient_coalitions:\n",
      "  - kind: weights\n",
      "    criterion_weights: [0.0986588299, 1.07862949]\n"
     ]
    }
   ],
   "source": [
    "lincs generate classification-model problem.yml --random-seed 86476259 >model.yml\n",
    "cat model.yml"
   ]
  },
  {
   "cell_type": "code",
   "execution_count": 4,
   "id": "66ff462c-3d16-438a-a65f-e980ea48c5e6",
   "metadata": {},
   "outputs": [
    {
     "name": "stdout",
     "output_type": "stream",
     "text": [
      "This is a MR-Sort (a.k.a. 1-Uc-NCS) model: an NCS model where the sufficient coalitions are specified using the same criterion weights for all boundaries.\n",
      "The weights associated to each criterion are:\n",
      "  - Criterion \"Criterion 1\": 0.10\n",
      "  - Criterion \"Criterion 2\": 1.08\n",
      "To get into an upper category, an alternative must be better than the following profiles on a set of criteria whose weights add up to at least 1:\n",
      "  - For category \"Best category\": at least 879 on criterion \"Criterion 1\" and at most -4473 on criterion \"Criterion 2\"\n"
     ]
    }
   ],
   "source": [
    "lincs describe classification-model problem.yml model.yml"
   ]
  },
  {
   "cell_type": "code",
   "execution_count": 5,
   "id": "1eef9357-b148-4fc8-a864-19c9ab8dee49",
   "metadata": {},
   "outputs": [
    {
     "data": {
      "image/png": "[encoded data removed]"
     },
     "metadata": {},
     "output_type": "display_data"
    }
   ],
   "source": [
    "lincs visualize classification-model problem.yml model.yml - | display"
   ]
  },
  {
   "cell_type": "code",
   "execution_count": null,
   "id": "419b5698-890e-4287-989d-86f8bbce5c8a",
   "metadata": {},
   "outputs": [],
   "source": []
  }
 ],
 "metadata": {
  "kernelspec": {
   "display_name": "Bash",
   "language": "bash",
   "name": "bash"
  },
  "language_info": {
   "codemirror_mode": "shell",
   "file_extension": ".sh",
   "mimetype": "text/x-sh",
   "name": "bash"
  }
 },
 "nbformat": 4,
 "nbformat_minor": 5
}
