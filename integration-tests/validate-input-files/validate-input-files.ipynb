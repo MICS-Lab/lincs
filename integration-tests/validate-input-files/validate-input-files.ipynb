{
 "cells": [
  {
   "cell_type": "code",
   "execution_count": 1,
   "id": "7cb5ca50-3c01-4cd1-ade1-a676cc779337",
   "metadata": {},
   "outputs": [],
   "source": [
    "lincs generate classification-problem 2 2 | lincs generate classification-model - --output-model model-2-2.yml\n",
    "lincs generate classification-problem 1 2 --output-problem problem-1-2.yml"
   ]
  },
  {
   "cell_type": "code",
   "execution_count": 2,
   "id": "55675094-ddbb-49c6-a033-7b98f108d7d4",
   "metadata": {},
   "outputs": [
    {
     "name": "stdout",
     "output_type": "stream",
     "text": [
      "ERROR: lincs found an issue with the input files: Size mismatch: 'accepted_values' in the model file does not match the number of criteria in the problem file\n"
     ]
    }
   ],
   "source": [
    "if lincs generate classified-alternatives problem-1-2.yml model-2-2.yml 100; then false; fi"
   ]
  }
 ],
 "metadata": {
  "kernelspec": {
   "display_name": "Bash",
   "language": "bash",
   "name": "bash"
  },
  "language_info": {
   "codemirror_mode": "shell",
   "file_extension": ".sh",
   "mimetype": "text/x-sh",
   "name": "bash"
  }
 },
 "nbformat": 4,
 "nbformat_minor": 5
}
