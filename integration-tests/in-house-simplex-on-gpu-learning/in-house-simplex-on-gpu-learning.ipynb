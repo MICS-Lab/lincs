{
 "cells": [
  {
   "cell_type": "code",
   "execution_count": 1,
   "id": "ac7340ae-7a88-4260-94fe-14e6a2b8573f",
   "metadata": {},
   "outputs": [],
   "source": [
    "lincs generate classification-problem 5 3 --output-problem problem.yml --random-seed 41\n",
    "lincs generate classification-model problem.yml --output-model model.yml --random-seed 42\n",
    "lincs generate classified-alternatives problem.yml model.yml 200 --output-alternatives learning-set.csv --random-seed 43"
   ]
  },
  {
   "cell_type": "code",
   "execution_count": 2,
   "id": "0240b13b-8542-43ad-9ede-62348e45afdc",
   "metadata": {},
   "outputs": [
    {
     "name": "stdout",
     "output_type": "stream",
     "text": [
      "# Reproduction command (with lincs version 2.0.0a3.dev0): lincs learn classification-model problem.yml learning-set.csv --model-type mrsort --mrsort.strategy weights-profiles-breed --mrsort.weights-profiles-breed.models-count 9 --mrsort.weights-profiles-breed.accuracy-heuristic.random-seed 255380809 --mrsort.weights-profiles-breed.initialization-strategy maximize-discrimination-per-criterion --mrsort.weights-profiles-breed.weights-strategy linear-program --mrsort.weights-profiles-breed.linear-program.solver experimental-in-house-simplex --mrsort.weights-profiles-breed.linear-program.experimental-in-house-simplex.processor gpu --mrsort.weights-profiles-breed.profiles-strategy accuracy-heuristic --mrsort.weights-profiles-breed.accuracy-heuristic.processor cpu --mrsort.weights-profiles-breed.breed-strategy reinitialize-least-accurate --mrsort.weights-profiles-breed.reinitialize-least-accurate.portion 0.5 --mrsort.weights-profiles-breed.target-accuracy 0.8\n",
      "kind: ncs-classification-model\n",
      "format_version: 1\n",
      "accepted_values:\n",
      "  - kind: thresholds\n",
      "    thresholds: [0.197147816, 0.716043651]\n",
      "  - kind: thresholds\n",
      "    thresholds: [0.427347362, 0.443312705]\n",
      "  - kind: thresholds\n",
      "    thresholds: [0.350305974, 0.789457917]\n",
      "  - kind: thresholds\n",
      "    thresholds: [0.584140837, 0.747989774]\n",
      "  - kind: thresholds\n",
      "    thresholds: [0.851149499, 0.905451]\n",
      "sufficient_coalitions:\n",
      "  - &coalitions\n",
      "    kind: weights\n",
      "    criterion_weights: [0.33333233, 0.33333233, 0.33333233, 0.666666687, 0.333333343]\n",
      "  - *coalitions\n"
     ]
    }
   ],
   "source": [
    "lincs learn classification-model problem.yml learning-set.csv \\\n",
    "  --mrsort.weights-profiles-breed.accuracy-heuristic.random-seed 255380809 \\\n",
    "  --mrsort.weights-profiles-breed.target-accuracy 0.8 \\\n",
    "  --mrsort.weights-profiles-breed.linear-program.solver experimental-in-house-simplex \\\n",
    "  --mrsort.weights-profiles-breed.linear-program.experimental-in-house-simplex.processor gpu"
   ]
  }
 ],
 "metadata": {
  "kernelspec": {
   "display_name": "Bash",
   "language": "bash",
   "name": "bash"
  },
  "language_info": {
   "codemirror_mode": "shell",
   "file_extension": ".sh",
   "mimetype": "text/x-sh",
   "name": "bash"
  }
 },
 "nbformat": 4,
 "nbformat_minor": 5
}
