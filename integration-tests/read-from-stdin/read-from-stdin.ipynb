{
 "cells": [
  {
   "cell_type": "code",
   "execution_count": 1,
   "id": "7cb5ca50-3c01-4cd1-ade1-a676cc779337",
   "metadata": {},
   "outputs": [
    {
     "name": "stdout",
     "output_type": "stream",
     "text": [
      "# Reproduction command (with lincs version 1.1.0a18.dev0): lincs generate classification-model - --random-seed 45 --model-type mrsort\n",
      "kind: ncs-classification-model\n",
      "format_version: 1\n",
      "accepted_values:\n",
      "  - kind: thresholds\n",
      "    thresholds: [0.308445692, 0.979231298]\n",
      "  - kind: thresholds\n",
      "    thresholds: [0.548553884, 0.668050051]\n",
      "  - kind: thresholds\n",
      "    thresholds: [0.285818338, 0.421735734]\n",
      "  - kind: thresholds\n",
      "    thresholds: [0.0857437775, 0.948107421]\n",
      "sufficient_coalitions:\n",
      "  - &coalitions\n",
      "    kind: weights\n",
      "    criterion_weights: [0.924295127, 0.058931224, 0.91881156, 0.177508995]\n",
      "  - *coalitions\n"
     ]
    }
   ],
   "source": [
    "lincs generate classification-problem 4 3 --random-seed 42 | lincs generate classification-model - --random-seed 45"
   ]
  }
 ],
 "metadata": {
  "kernelspec": {
   "display_name": "Bash",
   "language": "bash",
   "name": "bash"
  },
  "language_info": {
   "codemirror_mode": "shell",
   "file_extension": ".sh",
   "mimetype": "text/x-sh",
   "name": "bash"
  }
 },
 "nbformat": 4,
 "nbformat_minor": 5
}
