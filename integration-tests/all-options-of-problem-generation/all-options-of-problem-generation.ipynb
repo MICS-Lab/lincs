{
 "cells": [
  {
   "cell_type": "code",
   "execution_count": 1,
   "id": "aa176dd0-7f4a-42da-9cec-1d2347365621",
   "metadata": {},
   "outputs": [
    {
     "name": "stdout",
     "output_type": "stream",
     "text": [
      "# Reproduction command (with lincs version 1.1.0a2): lincs generate classification-problem 4 2 --random-seed 524098961\n",
      "kind: classification-problem\n",
      "format_version: 1\n",
      "criteria:\n",
      "  - name: Criterion 1\n",
      "    value_type: real\n",
      "    preference_direction: increasing\n",
      "    min_value: 0\n",
      "    max_value: 1\n",
      "  - name: Criterion 2\n",
      "    value_type: real\n",
      "    preference_direction: increasing\n",
      "    min_value: 0\n",
      "    max_value: 1\n",
      "  - name: Criterion 3\n",
      "    value_type: real\n",
      "    preference_direction: increasing\n",
      "    min_value: 0\n",
      "    max_value: 1\n",
      "  - name: Criterion 4\n",
      "    value_type: real\n",
      "    preference_direction: increasing\n",
      "    min_value: 0\n",
      "    max_value: 1\n",
      "ordered_categories:\n",
      "  - name: Worst category\n",
      "  - name: Best category\n"
     ]
    }
   ],
   "source": [
    "lincs generate classification-problem 4 2 --random-seed 524098961"
   ]
  },
  {
   "cell_type": "code",
   "execution_count": 2,
   "id": "361ec0ef-6012-4ea0-a3fc-ed9802f7b701",
   "metadata": {},
   "outputs": [
    {
     "name": "stdout",
     "output_type": "stream",
     "text": [
      "# Reproduction command (with lincs version 1.1.0a2): lincs generate classification-problem 4 2 --random-seed 707823420 --denormalized-min-max\n",
      "kind: classification-problem\n",
      "format_version: 1\n",
      "criteria:\n",
      "  - name: Criterion 1\n",
      "    value_type: real\n",
      "    preference_direction: increasing\n",
      "    min_value: 3.88116455\n",
      "    max_value: 30.6715546\n",
      "  - name: Criterion 2\n",
      "    value_type: real\n",
      "    preference_direction: increasing\n",
      "    min_value: -99.9718399\n",
      "    max_value: 47.3503571\n",
      "  - name: Criterion 3\n",
      "    value_type: real\n",
      "    preference_direction: increasing\n",
      "    min_value: -26.3865585\n",
      "    max_value: -7.68629456\n",
      "  - name: Criterion 4\n",
      "    value_type: real\n",
      "    preference_direction: increasing\n",
      "    min_value: -2.38548279\n",
      "    max_value: 83.9352875\n",
      "ordered_categories:\n",
      "  - name: Worst category\n",
      "  - name: Best category\n"
     ]
    }
   ],
   "source": [
    "lincs generate classification-problem 4 2 --denormalized-min-max --random-seed 707823420"
   ]
  },
  {
   "cell_type": "code",
   "execution_count": 3,
   "id": "7cb5ca50-3c01-4cd1-ade1-a676cc779337",
   "metadata": {},
   "outputs": [
    {
     "name": "stdout",
     "output_type": "stream",
     "text": [
      "# Reproduction command (with lincs version 1.1.0a2): lincs generate classification-problem 4 2 --random-seed 927184643 --allow-decreasing-criteria\n",
      "kind: classification-problem\n",
      "format_version: 1\n",
      "criteria:\n",
      "  - name: Criterion 1\n",
      "    value_type: real\n",
      "    preference_direction: increasing\n",
      "    min_value: 0\n",
      "    max_value: 1\n",
      "  - name: Criterion 2\n",
      "    value_type: real\n",
      "    preference_direction: decreasing\n",
      "    min_value: 0\n",
      "    max_value: 1\n",
      "  - name: Criterion 3\n",
      "    value_type: real\n",
      "    preference_direction: increasing\n",
      "    min_value: 0\n",
      "    max_value: 1\n",
      "  - name: Criterion 4\n",
      "    value_type: real\n",
      "    preference_direction: increasing\n",
      "    min_value: 0\n",
      "    max_value: 1\n",
      "ordered_categories:\n",
      "  - name: Worst category\n",
      "  - name: Best category\n"
     ]
    }
   ],
   "source": [
    "lincs generate classification-problem 4 2 --allow-decreasing-criteria --random-seed 927184643"
   ]
  },
  {
   "cell_type": "code",
   "execution_count": 4,
   "id": "b8aabbd3-4c0a-40de-80b4-aa817764088b",
   "metadata": {},
   "outputs": [
    {
     "name": "stdout",
     "output_type": "stream",
     "text": [
      "# Reproduction command (with lincs version 1.1.0a2): lincs generate classification-problem 4 2 --random-seed 42 --denormalized-min-max --allow-decreasing-criteria\n",
      "kind: classification-problem\n",
      "format_version: 1\n",
      "criteria:\n",
      "  - name: Criterion 1\n",
      "    value_type: real\n",
      "    preference_direction: decreasing\n",
      "    min_value: -25.0919724\n",
      "    max_value: 59.3085938\n",
      "  - name: Criterion 2\n",
      "    value_type: real\n",
      "    preference_direction: decreasing\n",
      "    min_value: -63.3130417\n",
      "    max_value: 46.3987885\n",
      "  - name: Criterion 3\n",
      "    value_type: real\n",
      "    preference_direction: increasing\n",
      "    min_value: 19.3700333\n",
      "    max_value: 19.7316971\n",
      "  - name: Criterion 4\n",
      "    value_type: real\n",
      "    preference_direction: increasing\n",
      "    min_value: -68.8010941\n",
      "    max_value: -10.8334503\n",
      "ordered_categories:\n",
      "  - name: Worst category\n",
      "  - name: Best category\n"
     ]
    }
   ],
   "source": [
    "lincs generate classification-problem 4 2 --denormalized-min-max --allow-decreasing-criteria --random-seed 42"
   ]
  },
  {
   "cell_type": "code",
   "execution_count": 5,
   "id": "923e23cf-3c4e-45a0-b864-dd5bd4757080",
   "metadata": {},
   "outputs": [
    {
     "name": "stdout",
     "output_type": "stream",
     "text": [
      "# Reproduction command (with lincs version 1.1.0a2): lincs generate classification-problem 4 2 --random-seed 995908924 --forbid-increasing-criteria --allow-decreasing-criteria\n",
      "kind: classification-problem\n",
      "format_version: 1\n",
      "criteria:\n",
      "  - name: Criterion 1\n",
      "    value_type: real\n",
      "    preference_direction: decreasing\n",
      "    min_value: 0\n",
      "    max_value: 1\n",
      "  - name: Criterion 2\n",
      "    value_type: real\n",
      "    preference_direction: decreasing\n",
      "    min_value: 0\n",
      "    max_value: 1\n",
      "  - name: Criterion 3\n",
      "    value_type: real\n",
      "    preference_direction: decreasing\n",
      "    min_value: 0\n",
      "    max_value: 1\n",
      "  - name: Criterion 4\n",
      "    value_type: real\n",
      "    preference_direction: decreasing\n",
      "    min_value: 0\n",
      "    max_value: 1\n",
      "ordered_categories:\n",
      "  - name: Worst category\n",
      "  - name: Best category\n"
     ]
    }
   ],
   "source": [
    "lincs generate classification-problem 4 2 --allow-decreasing-criteria --forbid-increasing-criteria --random-seed 995908924"
   ]
  },
  {
   "cell_type": "code",
   "execution_count": 6,
   "id": "a5105705-104e-4054-8c5d-3cd57ac4c3a3",
   "metadata": {},
   "outputs": [
    {
     "name": "stdout",
     "output_type": "stream",
     "text": [
      "# Reproduction command (with lincs version 1.1.0a2): lincs generate classification-problem 4 2 --random-seed 21600946 --forbid-real-criteria --allow-integer-criteria\n",
      "kind: classification-problem\n",
      "format_version: 1\n",
      "criteria:\n",
      "  - name: Criterion 1\n",
      "    value_type: integer\n",
      "    preference_direction: increasing\n",
      "    min_value: 0\n",
      "    max_value: 100\n",
      "  - name: Criterion 2\n",
      "    value_type: integer\n",
      "    preference_direction: increasing\n",
      "    min_value: 0\n",
      "    max_value: 100\n",
      "  - name: Criterion 3\n",
      "    value_type: integer\n",
      "    preference_direction: increasing\n",
      "    min_value: 0\n",
      "    max_value: 100\n",
      "  - name: Criterion 4\n",
      "    value_type: integer\n",
      "    preference_direction: increasing\n",
      "    min_value: 0\n",
      "    max_value: 100\n",
      "ordered_categories:\n",
      "  - name: Worst category\n",
      "  - name: Best category\n"
     ]
    }
   ],
   "source": [
    "lincs generate classification-problem 4 2 --allow-integer-criteria --forbid-real-criteria --random-seed 21600946"
   ]
  },
  {
   "cell_type": "code",
   "execution_count": 7,
   "id": "d326a8f3-789e-4ade-91e4-be20b6f7eac3",
   "metadata": {},
   "outputs": [
    {
     "name": "stdout",
     "output_type": "stream",
     "text": [
      "# Reproduction command (with lincs version 1.1.0a2): lincs generate classification-problem 4 2 --random-seed 630859863 --denormalized-min-max --forbid-real-criteria --allow-integer-criteria\n",
      "kind: classification-problem\n",
      "format_version: 1\n",
      "criteria:\n",
      "  - name: Criterion 1\n",
      "    value_type: integer\n",
      "    preference_direction: increasing\n",
      "    min_value: -9225\n",
      "    max_value: -7110\n",
      "  - name: Criterion 2\n",
      "    value_type: integer\n",
      "    preference_direction: increasing\n",
      "    min_value: -3117\n",
      "    max_value: -936\n",
      "  - name: Criterion 3\n",
      "    value_type: integer\n",
      "    preference_direction: increasing\n",
      "    min_value: -4993\n",
      "    max_value: 6\n",
      "  - name: Criterion 4\n",
      "    value_type: integer\n",
      "    preference_direction: increasing\n",
      "    min_value: -3512\n",
      "    max_value: 221\n",
      "ordered_categories:\n",
      "  - name: Worst category\n",
      "  - name: Best category\n"
     ]
    }
   ],
   "source": [
    "lincs generate classification-problem 4 2 --allow-integer-criteria --forbid-real-criteria --denormalized-min-max --random-seed 630859863"
   ]
  },
  {
   "cell_type": "code",
   "execution_count": 8,
   "id": "e38e4341-67db-4f25-add0-81330506645b",
   "metadata": {},
   "outputs": [
    {
     "name": "stdout",
     "output_type": "stream",
     "text": [
      "# Reproduction command (with lincs version 1.1.0a2): lincs generate classification-problem 4 2 --random-seed 958501765 --forbid-real-criteria --allow-enumerated-criteria\n",
      "kind: classification-problem\n",
      "format_version: 1\n",
      "criteria:\n",
      "  - name: Criterion 1\n",
      "    value_type: enumerated\n",
      "    ordered_values: [tet, der]\n",
      "  - name: Criterion 2\n",
      "    value_type: enumerated\n",
      "    ordered_values: [dur, taz, tur, tir, bet, gar]\n",
      "  - name: Criterion 3\n",
      "    value_type: enumerated\n",
      "    ordered_values: [rot, dor, rur, ror, dit]\n",
      "  - name: Criterion 4\n",
      "    value_type: enumerated\n",
      "    ordered_values: [rer, dez, por, dar]\n",
      "ordered_categories:\n",
      "  - name: Worst category\n",
      "  - name: Best category\n"
     ]
    }
   ],
   "source": [
    "lincs generate classification-problem 4 2 --allow-enumerated-criteria --forbid-real-criteria --random-seed 958501765"
   ]
  },
  {
   "cell_type": "code",
   "execution_count": 9,
   "id": "071521f3-3547-4b33-a648-e39012e301ca",
   "metadata": {},
   "outputs": [
    {
     "name": "stdout",
     "output_type": "stream",
     "text": [
      "# Reproduction command (with lincs version 1.1.0a2): lincs generate classification-problem 4 2 --random-seed 765795324 --allow-enumerated-criteria --allow-integer-criteria\n",
      "kind: classification-problem\n",
      "format_version: 1\n",
      "criteria:\n",
      "  - name: Criterion 1\n",
      "    value_type: enumerated\n",
      "    ordered_values: [dar, tet, bot, gur, rat, gaz, goz, tor, but]\n",
      "  - name: Criterion 2\n",
      "    value_type: real\n",
      "    preference_direction: increasing\n",
      "    min_value: 0\n",
      "    max_value: 1\n",
      "  - name: Criterion 3\n",
      "    value_type: integer\n",
      "    preference_direction: increasing\n",
      "    min_value: 0\n",
      "    max_value: 100\n",
      "  - name: Criterion 4\n",
      "    value_type: enumerated\n",
      "    ordered_values: [biz, rot, bot, dor, der, det, pot, guz, pez, tot]\n",
      "ordered_categories:\n",
      "  - name: Worst category\n",
      "  - name: Best category\n"
     ]
    }
   ],
   "source": [
    "lincs generate classification-problem 4 2 --allow-integer-criteria --allow-enumerated-criteria --random-seed 765795324"
   ]
  },
  {
   "cell_type": "code",
   "execution_count": 10,
   "id": "73fbab59-bef0-4f4d-a024-b4d60d7a3658",
   "metadata": {},
   "outputs": [
    {
     "name": "stdout",
     "output_type": "stream",
     "text": [
      "# Reproduction command (with lincs version 1.1.0a2): lincs generate classification-problem 4 2 --random-seed 608871414 --denormalized-min-max --allow-enumerated-criteria --allow-integer-criteria\n",
      "kind: classification-problem\n",
      "format_version: 1\n",
      "criteria:\n",
      "  - name: Criterion 1\n",
      "    value_type: real\n",
      "    preference_direction: increasing\n",
      "    min_value: 2.7687912\n",
      "    max_value: 35.6781464\n",
      "  - name: Criterion 2\n",
      "    value_type: integer\n",
      "    preference_direction: increasing\n",
      "    min_value: -9563\n",
      "    max_value: -8026\n",
      "  - name: Criterion 3\n",
      "    value_type: real\n",
      "    preference_direction: increasing\n",
      "    min_value: -45.0420036\n",
      "    max_value: 86.1578064\n",
      "  - name: Criterion 4\n",
      "    value_type: enumerated\n",
      "    ordered_values: [dit, bet, rur, toz, rit, ret]\n",
      "ordered_categories:\n",
      "  - name: Worst category\n",
      "  - name: Best category\n"
     ]
    }
   ],
   "source": [
    "lincs generate classification-problem 4 2 --allow-integer-criteria --allow-enumerated-criteria --denormalized-min-max --random-seed 608871414"
   ]
  }
 ],
 "metadata": {
  "kernelspec": {
   "display_name": "Bash",
   "language": "bash",
   "name": "bash"
  },
  "language_info": {
   "codemirror_mode": "shell",
   "file_extension": ".sh",
   "mimetype": "text/x-sh",
   "name": "bash"
  }
 },
 "nbformat": 4,
 "nbformat_minor": 5
}
