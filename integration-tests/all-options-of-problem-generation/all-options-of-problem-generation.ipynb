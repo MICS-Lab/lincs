{
 "cells": [
  {
   "cell_type": "code",
   "execution_count": 1,
   "id": "7cb5ca50-3c01-4cd1-ade1-a676cc779337",
   "metadata": {},
   "outputs": [
    {
     "name": "stdout",
     "output_type": "stream",
     "text": [
      "# Reproduction command (with lincs version 1.0.0): lincs generate classification-problem 4 3 --random-seed 42 --denormalized-min-max --allow-decreasing-criteria\n",
      "kind: classification-problem\n",
      "format_version: 1\n",
      "criteria:\n",
      "  - name: Criterion 1\n",
      "    value_type: real\n",
      "    preference_direction: decreasing\n",
      "    min_value: -25.0919724\n",
      "    max_value: 59.3085938\n",
      "  - name: Criterion 2\n",
      "    value_type: real\n",
      "    preference_direction: decreasing\n",
      "    min_value: -63.3130417\n",
      "    max_value: 46.3987885\n",
      "  - name: Criterion 3\n",
      "    value_type: real\n",
      "    preference_direction: increasing\n",
      "    min_value: 19.3700333\n",
      "    max_value: 19.7316971\n",
      "  - name: Criterion 4\n",
      "    value_type: real\n",
      "    preference_direction: increasing\n",
      "    min_value: -68.8010941\n",
      "    max_value: -10.8334503\n",
      "ordered_categories:\n",
      "  - name: Worst category\n",
      "  - name: Intermediate category 1\n",
      "  - name: Best category\n"
     ]
    }
   ],
   "source": [
    "lincs generate classification-problem 4 3 --denormalized-min-max --allow-decreasing-criteria --random-seed 42"
   ]
  }
 ],
 "metadata": {
  "kernelspec": {
   "display_name": "Bash",
   "language": "bash",
   "name": "bash"
  },
  "language_info": {
   "codemirror_mode": "shell",
   "file_extension": ".sh",
   "mimetype": "text/x-sh",
   "name": "bash"
  }
 },
 "nbformat": 4,
 "nbformat_minor": 5
}
