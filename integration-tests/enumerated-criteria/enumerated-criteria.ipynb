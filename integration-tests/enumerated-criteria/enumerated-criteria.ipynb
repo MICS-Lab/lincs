{
 "cells": [
  {
   "cell_type": "code",
   "execution_count": 1,
   "id": "0d28786c-3746-4290-9ad4-cd0493887dfb",
   "metadata": {},
   "outputs": [
    {
     "name": "stdout",
     "output_type": "stream",
     "text": [
      "# Reproduction command (with lincs version 0.11.2-dev): lincs generate classification-problem 2 2 --random-seed 520326314 --denormalized-min-max --forbid-real-criteria --allow-enumerated-criteria\n",
      "kind: classification-problem\n",
      "format_version: 1\n",
      "criteria:\n",
      "  - name: Criterion 1\n",
      "    value_type: enumerated\n",
      "    ordered_values: [bat, pit, bet, got, gut, tat, tuz]\n",
      "  - name: Criterion 2\n",
      "    value_type: enumerated\n",
      "    ordered_values: [piz, bir]\n",
      "ordered_categories:\n",
      "  - name: Worst category\n",
      "  - name: Best category\n"
     ]
    }
   ],
   "source": [
    "lincs generate classification-problem 2 2 \\\n",
    "  --forbid-real-criteria --allow-enumerated-criteria \\\n",
    "  --denormalized-min-max \\\n",
    "   --random-seed 520326314 >problem.yml\n",
    "cat problem.yml"
   ]
  },
  {
   "cell_type": "code",
   "execution_count": 2,
   "id": "ff36a56a-3777-4b69-a6d7-adc575c524eb",
   "metadata": {},
   "outputs": [
    {
     "name": "stdout",
     "output_type": "stream",
     "text": [
      "This a classification problem into 2 ordered categories named \"Worst category\" and \"Best category\".\n",
      "The best category is \"Best category\" and the worst category is \"Worst category\".\n",
      "There are 2 classification criteria (in no particular order).\n",
      "Criterion \"Criterion 1\" takes values in the following set: bat, pit, bet, got, gut, tat, tuz.\n",
      "The best value for criterion \"Criterion 1\" is \"tuz\" and the worst value is \"bat\".\n",
      "Criterion \"Criterion 2\" takes values in the following set: piz, bir.\n",
      "The best value for criterion \"Criterion 2\" is \"bir\" and the worst value is \"piz\".\n"
     ]
    }
   ],
   "source": [
    "lincs describe classification-problem problem.yml"
   ]
  },
  {
   "cell_type": "code",
   "execution_count": 3,
   "id": "1deb0243-078d-4ef7-895f-7d9f40b3eb2a",
   "metadata": {},
   "outputs": [
    {
     "name": "stdout",
     "output_type": "stream",
     "text": [
      "# Reproduction command (with lincs version 0.11.2-dev): lincs generate classification-model problem.yml --random-seed 564532967 --model-type mrsort\n",
      "kind: ncs-classification-model\n",
      "format_version: 1\n",
      "accepted_values:\n",
      "  - kind: thresholds\n",
      "    thresholds: [tat]\n",
      "  - kind: thresholds\n",
      "    thresholds: [bir]\n",
      "sufficient_coalitions:\n",
      "  - kind: weights\n",
      "    criterion_weights: [2.96190953, 0.452991337]\n"
     ]
    }
   ],
   "source": [
    "lincs generate classification-model problem.yml --random-seed 564532967 >model.yml\n",
    "cat model.yml"
   ]
  },
  {
   "cell_type": "code",
   "execution_count": 4,
   "id": "dfc0e03e-f245-4f15-9e27-1fcc2dbdf1d1",
   "metadata": {},
   "outputs": [
    {
     "name": "stdout",
     "output_type": "stream",
     "text": [
      "This is a MR-Sort (a.k.a. 1-Uc-NCS) model: an NCS model where the sufficient coalitions are specified using the same criterion weights for all boundaries.\n",
      "The weights associated to each criterion are:\n",
      "  - Criterion \"Criterion 1\": 2.96\n",
      "  - Criterion \"Criterion 2\": 0.45\n",
      "To get into an upper category, an alternative must be better than the following profiles on a set of criteria whose weights add up to at least 1:\n",
      "  - For category \"Best category\": at least \"tat\" on criterion \"Criterion 1\" and at least \"bir\" on criterion \"Criterion 2\"\n"
     ]
    }
   ],
   "source": [
    "lincs describe classification-model problem.yml model.yml"
   ]
  },
  {
   "cell_type": "code",
   "execution_count": 5,
   "id": "792553fd-0861-4e22-8c35-030aec711dfc",
   "metadata": {},
   "outputs": [
    {
     "data": {
      "image/png": "[encoded data removed]"
     },
     "metadata": {},
     "output_type": "display_data"
    }
   ],
   "source": [
    "lincs visualize classification-model problem.yml model.yml - | display"
   ]
  }
 ],
 "metadata": {
  "kernelspec": {
   "display_name": "Bash",
   "language": "bash",
   "name": "bash"
  },
  "language_info": {
   "codemirror_mode": "shell",
   "file_extension": ".sh",
   "mimetype": "text/x-sh",
   "name": "bash"
  }
 },
 "nbformat": 4,
 "nbformat_minor": 5
}
