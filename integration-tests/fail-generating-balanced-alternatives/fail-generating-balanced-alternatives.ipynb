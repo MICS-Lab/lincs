{
 "cells": [
  {
   "cell_type": "code",
   "execution_count": 1,
   "id": "7cb5ca50-3c01-4cd1-ade1-a676cc779337",
   "metadata": {},
   "outputs": [],
   "source": [
    "lincs generate classification-problem 3 4 --random-seed 42 >problem.yml\n",
    "lincs generate classification-model problem.yml --random-seed 24 >model.yml"
   ]
  },
  {
   "cell_type": "code",
   "execution_count": 2,
   "id": "032d5e7e-a8c2-4f16-8442-709c887a60a8",
   "metadata": {},
   "outputs": [
    {
     "name": "stdout",
     "output_type": "stream",
     "text": [
      "ERROR: lincs is unable to generate a balanced set of classified alternatives. Try to increase the allowed imbalance, or use a more lenient model?\n",
      "Reproduction command (with lincs version 1.1.0a15.dev0): lincs generate classified-alternatives problem.yml model.yml 100 --random-seed 42 --max-imbalance 0.0 --misclassified-count 0\n"
     ]
    }
   ],
   "source": [
    "if lincs generate classified-alternatives problem.yml model.yml 100 --max-imbalance 0 --random-seed 42 --output-alternatives alternatives.csv; then false; fi"
   ]
  },
  {
   "cell_type": "code",
   "execution_count": 3,
   "id": "7fea3bdc-e542-44ac-a974-fc226be235b9",
   "metadata": {},
   "outputs": [],
   "source": [
    "if test -e alternatives.csv; then false; fi"
   ]
  }
 ],
 "metadata": {
  "kernelspec": {
   "display_name": "Bash",
   "language": "bash",
   "name": "bash"
  },
  "language_info": {
   "codemirror_mode": "shell",
   "file_extension": ".sh",
   "mimetype": "text/x-sh",
   "name": "bash"
  }
 },
 "nbformat": 4,
 "nbformat_minor": 5
}
