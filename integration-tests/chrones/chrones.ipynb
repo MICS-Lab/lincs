{
 "cells": [
  {
   "cell_type": "code",
   "execution_count": 1,
   "id": "7cb5ca50-3c01-4cd1-ade1-a676cc779337",
   "metadata": {},
   "outputs": [],
   "source": [
    "lincs generate classification-problem 4 3 --random-seed 57 >problem.yml\n",
    "lincs generate classification-model problem.yml --random-seed 59 >model.yml\n",
    "lincs generate classified-alternatives problem.yml model.yml 200 --random-seed 61 >learning-set.csv"
   ]
  },
  {
   "cell_type": "code",
   "execution_count": 2,
   "id": "3baf5b0b-24e1-4853-ad51-45fb16ab9c1e",
   "metadata": {},
   "outputs": [],
   "source": [
    "lincs learn classification-model problem.yml learning-set.csv --model-type ucncs --ucncs.strategy sat-by-coalitions >learned-model-without-chrones.yml\n",
    "\n",
    "if test -f run-result.json; then false; fi\n",
    "if test -f lincs.*.chrones.csv; then false; fi"
   ]
  },
  {
   "cell_type": "code",
   "execution_count": 3,
   "id": "cb1f1c97-c5f0-4b33-a994-d9d4aad88539",
   "metadata": {},
   "outputs": [],
   "source": [
    "chrones run -- lincs learn classification-model problem.yml learning-set.csv --model-type ucncs --ucncs.strategy sat-by-coalitions >learned-model-with-chrones.yml\n",
    "test -f run-result.json\n",
    "test -f lincs.*.chrones.csv"
   ]
  },
  {
   "cell_type": "code",
   "execution_count": 4,
   "id": "47605ec4-f586-4bc1-81f8-f695b95901c5",
   "metadata": {},
   "outputs": [],
   "source": [
    "chrones report\n",
    "test -f report.png"
   ]
  },
  {
   "cell_type": "code",
   "execution_count": 5,
   "id": "eae8e6be-5b01-4aad-a2e7-56ce81ad69ef",
   "metadata": {},
   "outputs": [],
   "source": [
    "diff learned-model-without-chrones.yml learned-model-with-chrones.yml"
   ]
  },
  {
   "cell_type": "code",
   "execution_count": null,
   "id": "60149d4c-fb49-4329-9252-7a1159678cf8",
   "metadata": {},
   "outputs": [],
   "source": []
  }
 ],
 "metadata": {
  "kernelspec": {
   "display_name": "Bash",
   "language": "bash",
   "name": "bash"
  },
  "language_info": {
   "codemirror_mode": "shell",
   "file_extension": ".sh",
   "mimetype": "text/x-sh",
   "name": "bash"
  }
 },
 "nbformat": 4,
 "nbformat_minor": 5
}
