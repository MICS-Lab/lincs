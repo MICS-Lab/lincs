{
 "cells": [
  {
   "cell_type": "code",
   "execution_count": 1,
   "id": "361e4c6f-f368-4a4f-87fe-7b577ed1b3a5",
   "metadata": {},
   "outputs": [
    {
     "name": "stdout",
     "output_type": "stream",
     "text": [
      "Usage: lincs [OPTIONS] COMMAND [ARGS]...\n",
      "\n",
      "  lincs (Learn and Infer Non-Compensatory Sorting) is a set of tools for\n",
      "  training and using MCDA models.\n",
      "\n",
      "Options:\n",
      "  --version  Show the version and exit.\n",
      "  --help     Show this message and exit.\n",
      "\n",
      "Commands:\n",
      "  classification-accuracy  Compute a classification accuracy.\n",
      "  classify                 Classify alternatives.\n",
      "  generate                 Generate synthetic data.\n",
      "  info                     Get information about lincs itself.\n",
      "  learn                    Learn a model.\n",
      "  visualize                Make graphs from data.\n"
     ]
    }
   ],
   "source": [
    "lincs --help"
   ]
  }
 ],
 "metadata": {
  "kernelspec": {
   "display_name": "Bash",
   "language": "bash",
   "name": "bash"
  },
  "language_info": {
   "codemirror_mode": "shell",
   "file_extension": ".sh",
   "mimetype": "text/x-sh",
   "name": "bash"
  }
 },
 "nbformat": 4,
 "nbformat_minor": 5
}
