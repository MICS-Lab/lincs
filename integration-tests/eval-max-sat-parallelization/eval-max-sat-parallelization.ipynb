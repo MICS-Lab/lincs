{
 "cells": [
  {
   "cell_type": "code",
   "execution_count": 1,
   "id": "6fae8c93-2039-447b-9dcc-fd8f82f22801",
   "metadata": {},
   "outputs": [],
   "source": [
    "lincs generate classification-problem 4 3 --output-problem problem.yml --random-seed 400\n",
    "lincs generate classification-model problem.yml --output-model model.yml --random-seed 410\n",
    "lincs generate classified-alternatives problem.yml model.yml 300 --output-alternatives learning-set.csv --random-seed 420 --misclassified-count 30"
   ]
  },
  {
   "cell_type": "code",
   "execution_count": 2,
   "id": "dd849cc1-a955-420f-b870-09e76dc513bd",
   "metadata": {},
   "outputs": [
    {
     "name": "stdout",
     "output_type": "stream",
     "text": [
      "\n",
      "real\t0m22.556s\n",
      "user\t0m22.706s\n",
      "sys\t0m2.022s\n"
     ]
    }
   ],
   "source": [
    "time lincs learn classification-model problem.yml learning-set.csv \\\n",
    "  --model-type ucncs --ucncs.strategy max-sat-by-separation \\\n",
    "  >/dev/null"
   ]
  },
  {
   "cell_type": "code",
   "execution_count": 3,
   "id": "2e755c41-5f27-42e4-8bfb-172baa3cd216",
   "metadata": {},
   "outputs": [
    {
     "name": "stdout",
     "output_type": "stream",
     "text": [
      "\n",
      "real\t0m22.462s\n",
      "user\t0m58.862s\n",
      "sys\t0m2.100s\n"
     ]
    }
   ],
   "source": [
    "time lincs learn classification-model problem.yml learning-set.csv \\\n",
    "  --model-type ucncs --ucncs.strategy max-sat-by-separation \\\n",
    "  --ucncs.max-sat-by-separation.eval-max-sat.nb-minimize-threads 14 \\\n",
    "   >/dev/null"
   ]
  }
 ],
 "metadata": {
  "kernelspec": {
   "display_name": "Bash",
   "language": "bash",
   "name": "bash"
  },
  "language_info": {
   "codemirror_mode": "shell",
   "file_extension": ".sh",
   "mimetype": "text/x-sh",
   "name": "bash"
  }
 },
 "nbformat": 4,
 "nbformat_minor": 5
}
