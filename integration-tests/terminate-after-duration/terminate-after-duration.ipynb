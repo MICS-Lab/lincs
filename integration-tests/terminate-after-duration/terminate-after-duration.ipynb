{
 "cells": [
  {
   "cell_type": "code",
   "execution_count": 1,
   "id": "7cb5ca50-3c01-4cd1-ade1-a676cc779337",
   "metadata": {},
   "outputs": [],
   "source": [
    "lincs generate classification-problem 6 3 --random-seed 42 --output-problem problem.yml\n",
    "lincs generate classification-model problem.yml --random-seed 42 --output-model model.yml\n",
    "lincs generate classified-alternatives problem.yml model.yml 2000 --random-seed 42 --output-alternatives learning-set.csv"
   ]
  },
  {
   "cell_type": "code",
   "execution_count": 2,
   "id": "16829374-00de-484b-8700-7f5b0beb5c31",
   "metadata": {},
   "outputs": [
    {
     "name": "stdout",
     "output_type": "stream",
     "text": [
      "\u001b[0;32m\"target accuracy reached\"\u001b[0m\n",
      "2000/2000\n"
     ]
    }
   ],
   "source": [
    "lincs learn classification-model problem.yml learning-set.csv \\\n",
    "  --mrsort.weights-profiles-breed.max-duration 60 \\\n",
    "  --output-model trained-model--finished.yml \\\n",
    "  --mrsort.weights-profiles-breed.accuracy-heuristic.random-seed 42 \\\n",
    "  --mrsort.weights-profiles-breed.output-metadata - | jq '.termination_condition'\n",
    "lincs classification-accuracy problem.yml trained-model--finished.yml learning-set.csv"
   ]
  },
  {
   "cell_type": "code",
   "execution_count": 3,
   "id": "21d8079c-9cd5-4e22-975f-6c9183331959",
   "metadata": {},
   "outputs": [
    {
     "name": "stdout",
     "output_type": "stream",
     "text": [
      "\u001b[0;32m\"maximum total duration reached\"\u001b[0m\n"
     ]
    }
   ],
   "source": [
    "lincs learn classification-model problem.yml learning-set.csv \\\n",
    "  --mrsort.weights-profiles-breed.max-duration 2 \\\n",
    "  --output-model trained-model--interrupted.yml \\\n",
    "  --mrsort.weights-profiles-breed.accuracy-heuristic.random-seed 42 \\\n",
    "  --mrsort.weights-profiles-breed.output-metadata - | jq '.termination_condition'\n",
    "if diff <(echo 2000/2000) <(lincs classification-accuracy problem.yml trained-model--interrupted.yml learning-set.csv) >/dev/null; then false; fi"
   ]
  }
 ],
 "metadata": {
  "kernelspec": {
   "display_name": "Bash",
   "language": "bash",
   "name": "bash"
  },
  "language_info": {
   "codemirror_mode": "shell",
   "file_extension": ".sh",
   "mimetype": "text/x-sh",
   "name": "bash"
  }
 },
 "nbformat": 4,
 "nbformat_minor": 5
}
