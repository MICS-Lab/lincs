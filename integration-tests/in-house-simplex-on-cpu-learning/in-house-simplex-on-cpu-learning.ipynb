{
 "cells": [
  {
   "cell_type": "code",
   "execution_count": 1,
   "id": "ac7340ae-7a88-4260-94fe-14e6a2b8573f",
   "metadata": {},
   "outputs": [],
   "source": [
    "lincs generate classification-problem 5 3 --output-problem problem.yml --random-seed 41\n",
    "lincs generate classification-model problem.yml --output-model model.yml --random-seed 42\n",
    "lincs generate classified-alternatives problem.yml model.yml 200 --output-alternatives learning-set.csv --random-seed 43"
   ]
  },
  {
   "cell_type": "code",
   "execution_count": 2,
   "id": "45d4f339-0740-42eb-a721-4d93e8d73bc9",
   "metadata": {},
   "outputs": [
    {
     "name": "stdout",
     "output_type": "stream",
     "text": [
      "# Reproduction command (with lincs version 2.0.0a3.dev0): lincs learn classification-model problem.yml learning-set.csv --model-type mrsort --mrsort.strategy weights-profiles-breed --mrsort.weights-profiles-breed.models-count 9 --mrsort.weights-profiles-breed.accuracy-heuristic.random-seed 341107996 --mrsort.weights-profiles-breed.initialization-strategy maximize-discrimination-per-criterion --mrsort.weights-profiles-breed.weights-strategy linear-program --mrsort.weights-profiles-breed.linear-program.solver experimental-in-house-simplex --mrsort.weights-profiles-breed.linear-program.experimental-in-house-simplex.processor cpu --mrsort.weights-profiles-breed.profiles-strategy accuracy-heuristic --mrsort.weights-profiles-breed.accuracy-heuristic.processor cpu --mrsort.weights-profiles-breed.breed-strategy reinitialize-least-accurate --mrsort.weights-profiles-breed.reinitialize-least-accurate.portion 0.5 --mrsort.weights-profiles-breed.target-accuracy 0.8\n",
      "kind: ncs-classification-model\n",
      "format_version: 1\n",
      "accepted_values:\n",
      "  - kind: thresholds\n",
      "    thresholds: [0.810513914, 0.810513914]\n",
      "  - kind: thresholds\n",
      "    thresholds: [0.678634405, 0.680841923]\n",
      "  - kind: thresholds\n",
      "    thresholds: [0.506225705, 0.574660778]\n",
      "  - kind: thresholds\n",
      "    thresholds: [0.596327007, 0.596327007]\n",
      "  - kind: thresholds\n",
      "    thresholds: [0.143579021, 0.971809685]\n",
      "sufficient_coalitions:\n",
      "  - &coalitions\n",
      "    kind: weights\n",
      "    criterion_weights: [0, 0, 0, 0.99999696, 3.03983688e-06]\n",
      "  - *coalitions\n"
     ]
    }
   ],
   "source": [
    "lincs learn classification-model problem.yml learning-set.csv \\\n",
    "  --mrsort.weights-profiles-breed.accuracy-heuristic.random-seed 341107996 \\\n",
    "  --mrsort.weights-profiles-breed.target-accuracy 0.8 \\\n",
    "  --mrsort.weights-profiles-breed.linear-program.solver experimental-in-house-simplex \\\n",
    "  --mrsort.weights-profiles-breed.linear-program.experimental-in-house-simplex.processor cpu"
   ]
  }
 ],
 "metadata": {
  "kernelspec": {
   "display_name": "Bash",
   "language": "bash",
   "name": "bash"
  },
  "language_info": {
   "codemirror_mode": "shell",
   "file_extension": ".sh",
   "mimetype": "text/x-sh",
   "name": "bash"
  }
 },
 "nbformat": 4,
 "nbformat_minor": 5
}
