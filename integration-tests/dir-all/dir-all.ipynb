{
 "cells": [
  {
   "cell_type": "code",
   "execution_count": 1,
   "id": "1acf184c-ec19-48d0-be0f-7ba866996ef5",
   "metadata": {},
   "outputs": [],
   "source": [
    "import lincs\n",
    "import liblincs"
   ]
  },
  {
   "cell_type": "code",
   "execution_count": 2,
   "id": "947f4bf9-d6ae-4342-8b44-a719760afd6b",
   "metadata": {},
   "outputs": [],
   "source": [
    "def walk(output_file, node_name, node, parent_node=None, depth=0):\n",
    "    indent = \"    \" * depth\n",
    "    node_type = type(node)\n",
    "    node_type_name = node_type.__name__\n",
    "\n",
    "    # Don't show objects of these types\n",
    "    if node_type_name in [\n",
    "        \"ModuleSpec\", \"SourceFileLoader\", \"ExtensionFileLoader\",\n",
    "    ]:\n",
    "        return\n",
    "    \n",
    "    # Don't show special attributes\n",
    "    if node_name.startswith(\"__\") and node_name.endswith(\"__\") and node_name not in [\"__init__\"]:\n",
    "        return\n",
    "\n",
    "    # Defensive: never recurse too deep\n",
    "    if depth > 4:\n",
    "        output_file.write(f\"{indent} {node_name}: {node_type_name}  UNFINISHED\\n\")\n",
    "        return\n",
    "\n",
    "    output_file.write(f\"{indent}{node_name}: {node_type_name}\\n\")\n",
    "\n",
    "    # Don't recurse into our enums: enum values have an attribute pointing to its type\n",
    "    if node_type == parent_node:\n",
    "        return\n",
    "\n",
    "    # Don't recurse into objects of these types\n",
    "    if node_type_name in [\n",
    "        \"wrapper_descriptor\", \"getset_descriptor\", \"method_descriptor\", \"member_descriptor\",\n",
    "        \"property\", \"function\", \"method\", \"builtin_function_or_method\",\n",
    "        \"str\", \"bool\", \"int\", \"float\", \"NoneType\",\n",
    "        \"list\", \"dict\", \"tuple\",\n",
    "    ]:\n",
    "        return\n",
    "\n",
    "    for child_name in sorted(dir(node)):\n",
    "        try:\n",
    "            child_node = getattr(node, child_name)\n",
    "        except AttributeError:\n",
    "            # Don't get stuck on attributes listed in 'dir' but not actually there\n",
    "            pass\n",
    "        else:\n",
    "            walk(output_file, child_name, child_node, node, depth + 1)\n",
    "\n",
    "\n",
    "with open(\"lincs.txt\", \"w\") as f:\n",
    "    walk(f, \"lincs\", lincs)\n",
    "\n",
    "\n",
    "with open(\"liblincs.txt\", \"w\") as f:\n",
    "    walk(f, \"liblincs\", liblincs)"
   ]
  }
 ],
 "metadata": {
  "kernelspec": {
   "display_name": "Python 3 (ipykernel)",
   "language": "python",
   "name": "python3"
  },
  "language_info": {
   "codemirror_mode": {
    "name": "ipython",
    "version": 3
   },
   "file_extension": ".py",
   "mimetype": "text/x-python",
   "name": "python",
   "nbconvert_exporter": "python",
   "pygments_lexer": "ipython3",
   "version": "3.8.10"
  }
 },
 "nbformat": 4,
 "nbformat_minor": 5
}
