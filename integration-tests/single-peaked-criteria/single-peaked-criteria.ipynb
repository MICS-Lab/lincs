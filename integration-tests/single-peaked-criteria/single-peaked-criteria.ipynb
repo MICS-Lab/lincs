{
 "cells": [
  {
   "cell_type": "code",
   "execution_count": 1,
   "id": "5ce00b66-e113-4e0b-b160-74feb4d7be7c",
   "metadata": {},
   "outputs": [
    {
     "name": "stdout",
     "output_type": "stream",
     "text": [
      "# Reproduction command (with lincs version 2.0.0a1): lincs generate classification-problem 2 2 --random-seed 134400191 --forbid-increasing-criteria --allow-single-peaked-criteria --allow-integer-criteria\n",
      "kind: classification-problem\n",
      "format_version: 1\n",
      "criteria:\n",
      "  - name: Criterion 1\n",
      "    value_type: integer\n",
      "    preference_direction: single-peaked\n",
      "    min_value: 0\n",
      "    max_value: 100\n",
      "  - name: Criterion 2\n",
      "    value_type: real\n",
      "    preference_direction: single-peaked\n",
      "    min_value: 0\n",
      "    max_value: 1\n",
      "ordered_categories:\n",
      "  - name: Worst category\n",
      "  - name: Best category\n"
     ]
    }
   ],
   "source": [
    "lincs generate classification-problem 2 2 \\\n",
    "  --allow-integer-criteria \\\n",
    "  --forbid-increasing-criteria --allow-single-peaked-criteria \\\n",
    "  --random-seed 134400191 >problem.yml\n",
    "cat problem.yml"
   ]
  },
  {
   "cell_type": "code",
   "execution_count": 2,
   "id": "4cf85473-034b-4ee1-8922-c9964fa5ead4",
   "metadata": {},
   "outputs": [
    {
     "name": "stdout",
     "output_type": "stream",
     "text": [
      "This a classification problem into 2 ordered categories named \"Worst category\" and \"Best category\".\n",
      "The best category is \"Best category\" and the worst category is \"Worst category\".\n",
      "There are 2 classification criteria (in no particular order).\n",
      "Criterion \"Criterion 1\" takes integer values between 0 and 100 included.\n",
      "Intermediate values of \"Criterion 1\" are known to be better.\n",
      "Criterion \"Criterion 2\" takes real values between 0.0 and 1.0 included.\n",
      "Intermediate values of \"Criterion 2\" are known to be better.\n"
     ]
    }
   ],
   "source": [
    "lincs describe classification-problem problem.yml"
   ]
  },
  {
   "cell_type": "code",
   "execution_count": 3,
   "id": "f0fdcde3-bf9a-4070-a9ee-c27aafb8be33",
   "metadata": {},
   "outputs": [
    {
     "name": "stdout",
     "output_type": "stream",
     "text": [
      "# Reproduction command (with lincs version 2.0.0a1): lincs generate classification-model problem.yml --random-seed 86476259 --model-type mrsort\n",
      "kind: ncs-classification-model\n",
      "format_version: 1\n",
      "accepted_values:\n",
      "  - kind: intervals\n",
      "    intervals: [[26, 39]]\n",
      "  - kind: intervals\n",
      "    intervals: [[0.0921257287, 0.842421472]]\n",
      "sufficient_coalitions:\n",
      "  - kind: weights\n",
      "    criterion_weights: [0.816658974, 1.11292148]\n"
     ]
    }
   ],
   "source": [
    "lincs generate classification-model problem.yml --random-seed 86476259 >model.yml\n",
    "cat model.yml"
   ]
  },
  {
   "cell_type": "code",
   "execution_count": 4,
   "id": "ded51e46-e024-4a81-b31d-421d113afe39",
   "metadata": {},
   "outputs": [
    {
     "name": "stdout",
     "output_type": "stream",
     "text": [
      "This is a MR-Sort (a.k.a. 1-Uc-NCS) model: an NCS model where the sufficient coalitions are specified using the same criterion weights for all boundaries.\n",
      "The weights associated to each criterion are:\n",
      "  - Criterion \"Criterion 1\": 0.82\n",
      "  - Criterion \"Criterion 2\": 1.11\n",
      "To get into an upper category, an alternative must be accepted by the following boundaries on a set of criteria whose weights add up to at least 1:\n",
      "  - For category \"Best category\": between 26 and 39 on criterion \"Criterion 1\" and between 0.09 and 0.84 on criterion \"Criterion 2\"\n"
     ]
    }
   ],
   "source": [
    "lincs describe classification-model problem.yml model.yml"
   ]
  },
  {
   "cell_type": "code",
   "execution_count": 5,
   "id": "81644911-9429-4ae3-bc51-3c33f406e861",
   "metadata": {},
   "outputs": [
    {
     "name": "stdout",
     "output_type": "stream",
     "text": [
      "Single-peaked criteria are not yet supported by the visualization.\n"
     ]
    }
   ],
   "source": [
    "lincs visualize classification-model problem.yml model.yml - || true"
   ]
  },
  {
   "cell_type": "code",
   "execution_count": 6,
   "id": "7a4809b1-34aa-4782-9293-82278af78a27",
   "metadata": {},
   "outputs": [
    {
     "name": "stdout",
     "output_type": "stream",
     "text": [
      "# Reproduction command (with lincs version 2.0.0a1): lincs generate classified-alternatives problem.yml model.yml 100 --random-seed 148697048 --max-imbalance 0.1 --misclassified-count 0\n",
      "name,\"Criterion 1\",\"Criterion 2\",category\n",
      "\"Alternative 1\",97,0.728948653,\"Best category\"\n",
      "\"Alternative 2\",62,0.268311262,\"Best category\"\n",
      "\"Alternative 3\",61,0.018309854,\"Worst category\"\n",
      "\"Alternative 4\",68,0.652751505,\"Best category\"\n",
      "\"Alternative 5\",56,0.813444316,\"Best category\"\n",
      "\"Alternative 6\",29,0.239024639,\"Best category\"\n",
      "\"Alternative 7\",20,0.322511286,\"Best category\"\n",
      "\"Alternative 8\",45,0.330968291,\"Best category\"\n"
     ]
    }
   ],
   "source": [
    "lincs generate classified-alternatives problem.yml model.yml 100 --max-imbalance 0.1 --random-seed 148697048 >alternatives.csv\n",
    "head -n 10 alternatives.csv"
   ]
  },
  {
   "cell_type": "code",
   "execution_count": 7,
   "id": "a8ce193d-1a3a-4bae-8095-770c6bb96a53",
   "metadata": {},
   "outputs": [
    {
     "name": "stdout",
     "output_type": "stream",
     "text": [
      "Single-peaked criteria are not yet supported by the visualization.\n"
     ]
    }
   ],
   "source": [
    "lincs visualize classification-model problem.yml model.yml - --alternatives alternatives.csv --alternatives-count 5 || true"
   ]
  },
  {
   "cell_type": "code",
   "execution_count": 8,
   "id": "4f1ab746-2e32-43a2-90db-26e41549241a",
   "metadata": {},
   "outputs": [
    {
     "name": "stdout",
     "output_type": "stream",
     "text": [
      "100/100\n"
     ]
    }
   ],
   "source": [
    "lincs classification-accuracy problem.yml model.yml alternatives.csv"
   ]
  },
  {
   "cell_type": "code",
   "execution_count": 9,
   "id": "98359c1d-acbe-409a-be5c-57b4e99ed68e",
   "metadata": {},
   "outputs": [
    {
     "name": "stdout",
     "output_type": "stream",
     "text": [
      "# Reproduction command (with lincs version 2.0.0a1): lincs learn classification-model problem.yml alternatives.csv --model-type mrsort --mrsort.strategy weights-profiles-breed --mrsort.weights-profiles-breed.models-count 9 --mrsort.weights-profiles-breed.accuracy-heuristic.random-seed 37425142 --mrsort.weights-profiles-breed.initialization-strategy maximize-discrimination-per-criterion --mrsort.weights-profiles-breed.weights-strategy linear-program --mrsort.weights-profiles-breed.linear-program.solver glop --mrsort.weights-profiles-breed.profiles-strategy accuracy-heuristic --mrsort.weights-profiles-breed.accuracy-heuristic.processor cpu --mrsort.weights-profiles-breed.breed-strategy reinitialize-least-accurate --mrsort.weights-profiles-breed.reinitialize-least-accurate.portion 0.5 --mrsort.weights-profiles-breed.target-accuracy 1.0\n",
      "kind: ncs-classification-model\n",
      "format_version: 1\n",
      "accepted_values:\n",
      "  - kind: intervals\n",
      "    intervals: [[100, 100]]\n",
      "  - kind: intervals\n",
      "    intervals: [[0.10170377, 0.842089653]]\n",
      "sufficient_coalitions:\n",
      "  - kind: weights\n",
      "    criterion_weights: [0, 1]\n"
     ]
    }
   ],
   "source": [
    "lincs learn classification-model problem.yml alternatives.csv --mrsort.weights-profiles-breed.accuracy-heuristic.random-seed 37425142"
   ]
  }
 ],
 "metadata": {
  "kernelspec": {
   "display_name": "Bash",
   "language": "bash",
   "name": "bash"
  },
  "language_info": {
   "codemirror_mode": "shell",
   "file_extension": ".sh",
   "mimetype": "text/x-sh",
   "name": "bash"
  }
 },
 "nbformat": 4,
 "nbformat_minor": 5
}
