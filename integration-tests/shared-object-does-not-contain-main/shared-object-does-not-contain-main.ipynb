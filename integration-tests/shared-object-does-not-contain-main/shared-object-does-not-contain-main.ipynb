{
 "cells": [
  {
   "cell_type": "code",
   "execution_count": 1,
   "id": "a4a05c63-5e63-4e73-a655-696ee81adff5",
   "metadata": {},
   "outputs": [
    {
     "name": "stdout",
     "output_type": "stream",
     "text": [
      "Python 3.8\n",
      "/usr/bin/ld: /usr/lib/gcc/x86_64-linux-gnu/9/../../../x86_64-linux-gnu/Scrt1.o: in function `_start':\n",
      "(.text+0x24): undefined reference to `main'\n",
      "collect2: error: ld returned 1 exit status\n",
      "Python 3.9\n",
      "/usr/bin/ld: /usr/lib/gcc/x86_64-linux-gnu/9/../../../x86_64-linux-gnu/Scrt1.o: in function `_start':\n",
      "(.text+0x24): undefined reference to `main'\n",
      "collect2: error: ld returned 1 exit status\n",
      "Python 3.10\n",
      "/usr/bin/ld: /usr/lib/gcc/x86_64-linux-gnu/9/../../../x86_64-linux-gnu/Scrt1.o: in function `_start':\n",
      "(.text+0x24): undefined reference to `main'\n",
      "collect2: error: ld returned 1 exit status\n",
      "Python 3.11\n",
      "/usr/bin/ld: /usr/lib/gcc/x86_64-linux-gnu/9/../../../x86_64-linux-gnu/Scrt1.o: in function `_start':\n",
      "(.text+0x24): undefined reference to `main'\n",
      "collect2: error: ld returned 1 exit status\n",
      "Python 3.12\n",
      "/usr/bin/ld: /usr/lib/gcc/x86_64-linux-gnu/9/../../../x86_64-linux-gnu/Scrt1.o: in function `_start':\n",
      "(.text+0x24): undefined reference to `main'\n",
      "collect2: error: ld returned 1 exit status\n"
     ]
    }
   ],
   "source": [
    "for python_version in $LINCS_DEV_PYTHON_VERSIONS\n",
    "do\n",
    "  echo \"Python $python_version\"\n",
    "\n",
    "  lib_version=$(python$python_version -c 'import sys; suffix=\"m\" if sys.hexversion < 0x03080000 else \"\"; print(f\"{sys.version_info.major}{sys.version_info.minor}{suffix}\")')\n",
    "\n",
    "  if g++ -L/home/user/.local/lib/python$python_version/site-packages -llincs.cpython-$lib_version-x86_64-linux-gnu; then false; fi\n",
    "done"
   ]
  }
 ],
 "metadata": {
  "kernelspec": {
   "display_name": "Bash",
   "language": "bash",
   "name": "bash"
  },
  "language_info": {
   "codemirror_mode": "shell",
   "file_extension": ".sh",
   "mimetype": "text/x-sh",
   "name": "bash"
  }
 },
 "nbformat": 4,
 "nbformat_minor": 5
}
