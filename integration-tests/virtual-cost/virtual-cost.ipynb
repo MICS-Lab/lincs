{
 "cells": [
  {
   "cell_type": "code",
   "execution_count": 1,
   "id": "7cb5ca50-3c01-4cd1-ade1-a676cc779337",
   "metadata": {},
   "outputs": [],
   "source": [
    "g++ -c -O3 lib.cpp -o lib.o\n",
    "g++ -O3 no-virtual.cpp lib.o -o no-virtual\n",
    "g++ -O3 yes-virtual.cpp lib.o -o yes-virtual"
   ]
  },
  {
   "cell_type": "code",
   "execution_count": 2,
   "id": "971a31a2-12e7-4b16-83ca-12f28dbfb3b2",
   "metadata": {},
   "outputs": [
    {
     "name": "stdout",
     "output_type": "stream",
     "text": [
      "\n",
      "real\t0m1.145s\n",
      "user\t0m1.137s\n",
      "sys\t0m0.008s\n"
     ]
    }
   ],
   "source": [
    "time ./no-virtual"
   ]
  },
  {
   "cell_type": "code",
   "execution_count": 3,
   "id": "b7980f3e-921c-4543-8e35-77d7bfcec82b",
   "metadata": {},
   "outputs": [
    {
     "name": "stdout",
     "output_type": "stream",
     "text": [
      "\n",
      "real\t0m1.331s\n",
      "user\t0m1.330s\n",
      "sys\t0m0.000s\n"
     ]
    }
   ],
   "source": [
    "time ./yes-virtual"
   ]
  }
 ],
 "metadata": {
  "kernelspec": {
   "display_name": "Bash",
   "language": "bash",
   "name": "bash"
  },
  "language_info": {
   "codemirror_mode": "shell",
   "file_extension": ".sh",
   "mimetype": "text/x-sh",
   "name": "bash"
  }
 },
 "nbformat": 4,
 "nbformat_minor": 5
}
