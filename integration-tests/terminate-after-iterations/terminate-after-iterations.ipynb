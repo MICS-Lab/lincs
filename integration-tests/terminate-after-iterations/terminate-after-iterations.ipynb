{
 "cells": [
  {
   "cell_type": "code",
   "execution_count": 1,
   "id": "7cb5ca50-3c01-4cd1-ade1-a676cc779337",
   "metadata": {},
   "outputs": [],
   "source": [
    "lincs generate classification-problem 6 2 --random-seed 42 --output-problem problem.yml\n",
    "lincs generate classification-model problem.yml --random-seed 42 --output-model model.yml\n",
    "lincs generate classified-alternatives problem.yml model.yml 2000 --random-seed 42 --output-alternatives learning-set.csv"
   ]
  },
  {
   "cell_type": "code",
   "execution_count": 2,
   "id": "81f0c45a-d404-4b5a-9ef3-fa2a92d10bcd",
   "metadata": {},
   "outputs": [
    {
     "name": "stdout",
     "output_type": "stream",
     "text": [
      "1966/2000\n"
     ]
    }
   ],
   "source": [
    "lincs learn classification-model problem.yml learning-set.csv --mrsort.weights-profiles-breed.max-iterations 2 --output-model trained-model--2-iterations.yml --mrsort.weights-profiles-breed.accuracy-heuristic.random-seed 42\n",
    "lincs classification-accuracy problem.yml trained-model--2-iterations.yml learning-set.csv"
   ]
  },
  {
   "cell_type": "code",
   "execution_count": 3,
   "id": "676b1aa5-13fc-4619-a7b9-82986197fa6a",
   "metadata": {},
   "outputs": [
    {
     "name": "stdout",
     "output_type": "stream",
     "text": [
      "1965/2000\n"
     ]
    }
   ],
   "source": [
    "lincs learn classification-model problem.yml learning-set.csv --mrsort.weights-profiles-breed.max-iterations 3 --output-model trained-model--3-iterations.yml --mrsort.weights-profiles-breed.accuracy-heuristic.random-seed 42\n",
    "lincs classification-accuracy problem.yml trained-model--3-iterations.yml learning-set.csv"
   ]
  },
  {
   "cell_type": "code",
   "execution_count": 4,
   "id": "552ec79c-eaf4-464a-afb7-44e34af06e08",
   "metadata": {},
   "outputs": [
    {
     "name": "stdout",
     "output_type": "stream",
     "text": [
      "1991/2000\n"
     ]
    }
   ],
   "source": [
    "lincs learn classification-model problem.yml learning-set.csv --mrsort.weights-profiles-breed.max-iterations 4 --output-model trained-model--4-iterations.yml --mrsort.weights-profiles-breed.accuracy-heuristic.random-seed 42\n",
    "lincs classification-accuracy problem.yml trained-model--4-iterations.yml learning-set.csv"
   ]
  }
 ],
 "metadata": {
  "kernelspec": {
   "display_name": "Bash",
   "language": "bash",
   "name": "bash"
  },
  "language_info": {
   "codemirror_mode": "shell",
   "file_extension": ".sh",
   "mimetype": "text/x-sh",
   "name": "bash"
  }
 },
 "nbformat": 4,
 "nbformat_minor": 5
}
