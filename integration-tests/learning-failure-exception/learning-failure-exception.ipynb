{
 "cells": [
  {
   "cell_type": "code",
   "execution_count": 1,
   "id": "7cb5ca50-3c01-4cd1-ade1-a676cc779337",
   "metadata": {},
   "outputs": [],
   "source": [
    "lincs generate classification-problem 2 2 --random-seed 42 >problem.yml\n",
    "lincs generate classification-model problem.yml --random-seed 42 >model.yml\n",
    "lincs generate classified-alternatives problem.yml model.yml 100 --misclassified-count 10 --random-seed 42 >learning-set.csv"
   ]
  },
  {
   "cell_type": "code",
   "execution_count": 2,
   "id": "5d4005a5-78a4-4297-bb7b-bf7cf0bb160f",
   "metadata": {},
   "outputs": [
    {
     "name": "stdout",
     "output_type": "stream",
     "text": [
      "ERROR: lincs is unable to learn from this learning set using this algorithm and these parameters.\n",
      "Reproduction command (with lincs version 1.1.0a11): lincs learn classification-model problem.yml learning-set.csv --model-type ucncs --ucncs.strategy sat-by-coalitions\n"
     ]
    }
   ],
   "source": [
    "if lincs learn classification-model problem.yml learning-set.csv --model-type ucncs --ucncs.strategy sat-by-coalitions --output-model learned-model.yml; then false; fi"
   ]
  },
  {
   "cell_type": "code",
   "execution_count": 3,
   "id": "761008f5-813b-474b-aebb-b2839872c665",
   "metadata": {},
   "outputs": [],
   "source": [
    "if test -f learned-model.yml; then false; fi"
   ]
  }
 ],
 "metadata": {
  "kernelspec": {
   "display_name": "Bash",
   "language": "bash",
   "name": "bash"
  },
  "language_info": {
   "codemirror_mode": "shell",
   "file_extension": ".sh",
   "mimetype": "text/x-sh",
   "name": "bash"
  }
 },
 "nbformat": 4,
 "nbformat_minor": 5
}
