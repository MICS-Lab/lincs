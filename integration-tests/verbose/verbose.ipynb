{
 "cells": [
  {
   "cell_type": "code",
   "execution_count": 1,
   "id": "7cb5ca50-3c01-4cd1-ade1-a676cc779337",
   "metadata": {},
   "outputs": [],
   "source": [
    "lincs generate classification-problem 6 3 --random-seed 42 --output-problem problem.yml\n",
    "lincs generate classification-model problem.yml --random-seed 42 --output-model model.yml\n",
    "lincs generate classified-alternatives problem.yml model.yml 200 --random-seed 42 --output-alternatives learning-set.csv"
   ]
  },
  {
   "cell_type": "code",
   "execution_count": 2,
   "id": "0400d8eb-6c89-4b38-8926-e387a260ef00",
   "metadata": {},
   "outputs": [
    {
     "name": "stdout",
     "output_type": "stream",
     "text": [
      "Best accuracy (after 1 iterations): 182\n",
      "Best accuracy (after 2 iterations): 184\n",
      "Best accuracy (after 3 iterations): 186\n",
      "Best accuracy (after 4 iterations): 188\n",
      "Best accuracy (after 5 iterations): 188\n",
      "Best accuracy (after 6 iterations): 184\n",
      "Best accuracy (after 7 iterations): 182\n",
      "Best accuracy (after 8 iterations): 187\n",
      "Best accuracy (after 9 iterations): 189\n",
      "Best accuracy (after 10 iterations): 189\n",
      "Best accuracy (after 11 iterations): 190\n",
      "Best accuracy (after 12 iterations): 191\n",
      "Best accuracy (after 13 iterations): 192\n",
      "Best accuracy (after 14 iterations): 193\n",
      "Best accuracy (after 15 iterations): 193\n",
      "Best accuracy (after 16 iterations): 193\n",
      "Best accuracy (after 17 iterations): 193\n",
      "Best accuracy (after 18 iterations): 192\n",
      "Best accuracy (after 19 iterations): 191\n",
      "Best accuracy (after 20 iterations): 193\n",
      "Best accuracy (after 21 iterations): 190\n",
      "Best accuracy (after 22 iterations): 191\n",
      "Best accuracy (after 23 iterations): 194\n",
      "Best accuracy (after 24 iterations): 195\n",
      "Best accuracy (after 25 iterations): 196\n",
      "Best accuracy (after 26 iterations): 196\n",
      "Best accuracy (after 27 iterations): 197\n",
      "Best accuracy (after 28 iterations): 197\n",
      "Best accuracy (after 29 iterations): 196\n",
      "Best accuracy (after 30 iterations): 193\n",
      "Best accuracy (after 31 iterations): 196\n",
      "Best accuracy (after 32 iterations): 197\n",
      "Best accuracy (after 33 iterations): 198\n",
      "Best accuracy (after 34 iterations): 198\n",
      "Best accuracy (after 35 iterations): 198\n",
      "Final accuracy (after 36 iterations): 200\n",
      "# Reproduction command (with lincs version 1.1.0a7.dev0): lincs learn classification-model problem.yml learning-set.csv --model-type mrsort --mrsort.strategy weights-profiles-breed --mrsort.weights-profiles-breed.models-count 9 --mrsort.weights-profiles-breed.accuracy-heuristic.random-seed 42 --mrsort.weights-profiles-breed.initialization-strategy maximize-discrimination-per-criterion --mrsort.weights-profiles-breed.weights-strategy linear-program --mrsort.weights-profiles-breed.linear-program.solver glop --mrsort.weights-profiles-breed.profiles-strategy accuracy-heuristic --mrsort.weights-profiles-breed.accuracy-heuristic.processor cpu --mrsort.weights-profiles-breed.breed-strategy reinitialize-least-accurate --mrsort.weights-profiles-breed.reinitialize-least-accurate.portion 0.5 --mrsort.weights-profiles-breed.target-accuracy 1.0\n",
      "kind: ncs-classification-model\n",
      "format_version: 1\n",
      "accepted_values:\n",
      "  - kind: thresholds\n",
      "    thresholds: [0.150416896, 0.708072603]\n",
      "  - kind: thresholds\n",
      "    thresholds: [0.0961765498, 0.874317586]\n",
      "  - kind: thresholds\n",
      "    thresholds: [0.0514787547, 0.772244751]\n",
      "  - kind: thresholds\n",
      "    thresholds: [0.095410116, 0.611653149]\n",
      "  - kind: thresholds\n",
      "    thresholds: [0.0453040078, 0.454541057]\n",
      "  - kind: thresholds\n",
      "    thresholds: [0, 0.164655849]\n",
      "sufficient_coalitions:\n",
      "  - &coalitions\n",
      "    kind: weights\n",
      "    criterion_weights: [0.333333343, 0.333333343, 0.333333343, 0.333333343, 1, 0.666666687]\n",
      "  - *coalitions\n"
     ]
    }
   ],
   "source": [
    "lincs learn classification-model problem.yml learning-set.csv \\\n",
    "  --mrsort.weights-profiles-breed.verbose \\\n",
    "  --mrsort.weights-profiles-breed.accuracy-heuristic.random-seed 42"
   ]
  },
  {
   "cell_type": "code",
   "execution_count": 3,
   "id": "5ed2fb4a-bd7c-4dcb-8e8e-980977cec6d7",
   "metadata": {},
   "outputs": [
    {
     "name": "stdout",
     "output_type": "stream",
     "text": [
      "Best accuracy (after 1 iterations): 182\n",
      "Best accuracy (after 2 iterations): 184\n",
      "Final accuracy (after 3 iterations): 186\n",
      "# Reproduction command (with lincs version 1.1.0a7.dev0): lincs learn classification-model problem.yml learning-set.csv --model-type mrsort --mrsort.strategy weights-profiles-breed --mrsort.weights-profiles-breed.models-count 9 --mrsort.weights-profiles-breed.accuracy-heuristic.random-seed 42 --mrsort.weights-profiles-breed.initialization-strategy maximize-discrimination-per-criterion --mrsort.weights-profiles-breed.weights-strategy linear-program --mrsort.weights-profiles-breed.linear-program.solver glop --mrsort.weights-profiles-breed.profiles-strategy accuracy-heuristic --mrsort.weights-profiles-breed.accuracy-heuristic.processor cpu --mrsort.weights-profiles-breed.breed-strategy reinitialize-least-accurate --mrsort.weights-profiles-breed.reinitialize-least-accurate.portion 0.5 --mrsort.weights-profiles-breed.target-accuracy 1.0 --mrsort.weights-profiles-breed.max-iterations 3\n",
      "kind: ncs-classification-model\n",
      "format_version: 1\n",
      "accepted_values:\n",
      "  - kind: thresholds\n",
      "    thresholds: [0.150416896, 0.708072603]\n",
      "  - kind: thresholds\n",
      "    thresholds: [0.680307567, 0.710662901]\n",
      "  - kind: thresholds\n",
      "    thresholds: [0.0813487768, 0.427541018]\n",
      "  - kind: thresholds\n",
      "    thresholds: [0.336554229, 0.372282773]\n",
      "  - kind: thresholds\n",
      "    thresholds: [0.0635583475, 0.492625117]\n",
      "  - kind: thresholds\n",
      "    thresholds: [0.330750316, 0.493893713]\n",
      "sufficient_coalitions:\n",
      "  - &coalitions\n",
      "    kind: weights\n",
      "    criterion_weights: [1, 0.999997973, 1.01327896e-06, 0.999998987, 1, 0]\n",
      "  - *coalitions\n"
     ]
    }
   ],
   "source": [
    "lincs learn classification-model problem.yml learning-set.csv \\\n",
    "  --mrsort.weights-profiles-breed.verbose \\\n",
    "  --mrsort.weights-profiles-breed.max-iterations 3 \\\n",
    "  --mrsort.weights-profiles-breed.accuracy-heuristic.random-seed 42"
   ]
  },
  {
   "cell_type": "code",
   "execution_count": 4,
   "id": "9f040e56-3988-48e9-85a2-c5911d643258",
   "metadata": {},
   "outputs": [
    {
     "name": "stdout",
     "output_type": "stream",
     "text": [
      "Best accuracy (after 1 iterations): 182\n",
      "Best accuracy (after 2 iterations): 184\n",
      "Best accuracy (after 3 iterations): 186\n",
      "Best accuracy (after 4 iterations): 188\n",
      "Best accuracy (after 5 iterations): 188\n",
      "Best accuracy (after 6 iterations): 184\n",
      "Final accuracy (after 7 iterations): 182\n",
      "# Reproduction command (with lincs version 1.1.0a7.dev0): lincs learn classification-model problem.yml learning-set.csv --model-type mrsort --mrsort.strategy weights-profiles-breed --mrsort.weights-profiles-breed.models-count 9 --mrsort.weights-profiles-breed.accuracy-heuristic.random-seed 42 --mrsort.weights-profiles-breed.initialization-strategy maximize-discrimination-per-criterion --mrsort.weights-profiles-breed.weights-strategy linear-program --mrsort.weights-profiles-breed.linear-program.solver glop --mrsort.weights-profiles-breed.profiles-strategy accuracy-heuristic --mrsort.weights-profiles-breed.accuracy-heuristic.processor cpu --mrsort.weights-profiles-breed.breed-strategy reinitialize-least-accurate --mrsort.weights-profiles-breed.reinitialize-least-accurate.portion 0.5 --mrsort.weights-profiles-breed.target-accuracy 1.0 --mrsort.weights-profiles-breed.max-iterations-without-progress 3\n",
      "kind: ncs-classification-model\n",
      "format_version: 1\n",
      "accepted_values:\n",
      "  - kind: thresholds\n",
      "    thresholds: [0.11607264, 0.708072603]\n",
      "  - kind: thresholds\n",
      "    thresholds: [0.0906064361, 0.260694534]\n",
      "  - kind: thresholds\n",
      "    thresholds: [0.0514787547, 0.212339118]\n",
      "  - kind: thresholds\n",
      "    thresholds: [0.095410116, 0.133185118]\n",
      "  - kind: thresholds\n",
      "    thresholds: [0.129159421, 0.28975144]\n",
      "  - kind: thresholds\n",
      "    thresholds: [0.148086935, 0.297635168]\n",
      "sufficient_coalitions:\n",
      "  - &coalitions\n",
      "    kind: weights\n",
      "    criterion_weights: [0.499999493, 0.499999493, 1.01327896e-06, 0.499999493, 0.500000477, 0]\n",
      "  - *coalitions\n"
     ]
    }
   ],
   "source": [
    "lincs learn classification-model problem.yml learning-set.csv \\\n",
    "  --mrsort.weights-profiles-breed.verbose \\\n",
    "  --mrsort.weights-profiles-breed.max-iterations-without-progress 3 \\\n",
    "  --mrsort.weights-profiles-breed.accuracy-heuristic.random-seed 42"
   ]
  }
 ],
 "metadata": {
  "kernelspec": {
   "display_name": "Bash",
   "language": "bash",
   "name": "bash"
  },
  "language_info": {
   "codemirror_mode": "shell",
   "file_extension": ".sh",
   "mimetype": "text/x-sh",
   "name": "bash"
  }
 },
 "nbformat": 4,
 "nbformat_minor": 5
}
