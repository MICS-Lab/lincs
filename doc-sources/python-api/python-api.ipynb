{
 "cells": [
  {
   "cell_type": "markdown",
   "id": "288ce3de-e3c8-4cb4-9768-036ccbfd2fd1",
   "metadata": {},
   "source": [
    "# Do it again, in Python\n",
    "\n",
    "First, lets do exactly the same thing as in our \"Get started\" guide, but using the Python API."
   ]
  },
  {
   "cell_type": "code",
   "execution_count": 1,
   "id": "cc98014b-89ef-41c5-924c-e904f9e59128",
   "metadata": {},
   "outputs": [],
   "source": [
    "import sys"
   ]
  },
  {
   "cell_type": "code",
   "execution_count": 2,
   "id": "95e99181-2406-4e1d-b55f-41cb53cf14b5",
   "metadata": {},
   "outputs": [],
   "source": [
    "import lincs"
   ]
  },
  {
   "cell_type": "code",
   "execution_count": 3,
   "id": "54087249-c20a-48ba-b272-386104803a32",
   "metadata": {},
   "outputs": [
    {
     "name": "stdout",
     "output_type": "stream",
     "text": [
      "kind: classification-problem\n",
      "format_version: 1\n",
      "criteria:\n",
      "  - name: Criterion 1\n",
      "    value_type: real\n",
      "    preference_direction: increasing\n",
      "    min_value: 0\n",
      "    max_value: 1\n",
      "  - name: Criterion 2\n",
      "    value_type: real\n",
      "    preference_direction: increasing\n",
      "    min_value: 0\n",
      "    max_value: 1\n",
      "  - name: Criterion 3\n",
      "    value_type: real\n",
      "    preference_direction: increasing\n",
      "    min_value: 0\n",
      "    max_value: 1\n",
      "  - name: Criterion 4\n",
      "    value_type: real\n",
      "    preference_direction: increasing\n",
      "    min_value: 0\n",
      "    max_value: 1\n",
      "ordered_categories:\n",
      "  - name: Worst category\n",
      "  - name: Intermediate category 1\n",
      "  - name: Best category\n"
     ]
    }
   ],
   "source": [
    "# @todo(Feature, v1.1) Make sure all the API can be called with arguments passed by name\n",
    "problem = lincs.generate_classification_problem(4, 3, 40)\n",
    "\n",
    "# @todo(Feature, v1.1) Provide __repr__ and __str__ where applicable\n",
    "problem.dump(sys.stdout)"
   ]
  },
  {
   "cell_type": "code",
   "execution_count": 4,
   "id": "9eb7f340-1b18-49a4-ac31-182d62a6e5b8",
   "metadata": {},
   "outputs": [],
   "source": [
    "import lincs.description"
   ]
  },
  {
   "cell_type": "code",
   "execution_count": 5,
   "id": "4e37c394-a2e5-46ec-8813-5475f0a5c6f3",
   "metadata": {},
   "outputs": [
    {
     "name": "stdout",
     "output_type": "stream",
     "text": [
      "This a classification problem into 3 ordered categories named \"Worst category\", \"Intermediate category 1\" and \"Best category\".\n",
      "The best category is \"Best category\" and the worst category is \"Worst category\".\n",
      "There are 4 classification criteria (in no particular order).\n",
      "Criterion \"Criterion 1\" takes real values between 0.0 and 1.0 included.\n",
      "Higher values of \"Criterion 1\" are known to be better.\n",
      "Criterion \"Criterion 2\" takes real values between 0.0 and 1.0 included.\n",
      "Higher values of \"Criterion 2\" are known to be better.\n",
      "Criterion \"Criterion 3\" takes real values between 0.0 and 1.0 included.\n",
      "Higher values of \"Criterion 3\" are known to be better.\n",
      "Criterion \"Criterion 4\" takes real values between 0.0 and 1.0 included.\n",
      "Higher values of \"Criterion 4\" are known to be better.\n"
     ]
    }
   ],
   "source": [
    "print(\"\\n\".join(lincs.description.describe_classification_problem(problem)))"
   ]
  },
  {
   "cell_type": "code",
   "execution_count": 6,
   "id": "ba5ba906-1457-4544-a754-fa33f30c19d5",
   "metadata": {},
   "outputs": [
    {
     "name": "stdout",
     "output_type": "stream",
     "text": [
      "kind: ncs-classification-model\n",
      "format_version: 1\n",
      "accepted_values:\n",
      "  - kind: thresholds\n",
      "    thresholds: [0.255905151, 0.676961303]\n",
      "  - kind: thresholds\n",
      "    thresholds: [0.0551739037, 0.324553937]\n",
      "  - kind: thresholds\n",
      "    thresholds: [0.162252158, 0.673279881]\n",
      "  - kind: thresholds\n",
      "    thresholds: [0.0526000932, 0.598555863]\n",
      "sufficient_coalitions:\n",
      "  - &coalitions\n",
      "    kind: weights\n",
      "    criterion_weights: [0.147771254, 0.618687689, 0.406786472, 0.0960085914]\n",
      "  - *coalitions\n"
     ]
    }
   ],
   "source": [
    "model = lincs.generate_mrsort_classification_model(problem, 41)\n",
    "\n",
    "model.dump(problem, sys.stdout)"
   ]
  },
  {
   "cell_type": "code",
   "execution_count": 7,
   "id": "4ef64c1f-1f27-4864-b527-a21b0b8b9596",
   "metadata": {},
   "outputs": [],
   "source": [
    "import matplotlib.pyplot as plt\n",
    "\n",
    "import lincs.visualization"
   ]
  },
  {
   "cell_type": "code",
   "execution_count": 8,
   "id": "3c2c0bb7-e738-4cd9-83cf-bd60e4774d58",
   "metadata": {},
   "outputs": [
    {
     "data": {
      "image/png": "[encoded data removed]",
      "text/plain": [
       "<Figure size 600x400 with 1 Axes>"
      ]
     },
     "metadata": {},
     "output_type": "display_data"
    }
   ],
   "source": [
    "axes = plt.subplots(1, 1, figsize=(6, 4), layout=\"constrained\")[1]\n",
    "lincs.visualization.visualize_classification_model(problem, model, [], axes)"
   ]
  },
  {
   "cell_type": "code",
   "execution_count": 9,
   "id": "d2eadcf7-4565-45fe-bbc3-9e5cd7c9b73b",
   "metadata": {},
   "outputs": [
    {
     "name": "stdout",
     "output_type": "stream",
     "text": [
      "This is a MR-Sort (a.k.a. 1-Uc-NCS) model: an NCS model where the sufficient coalitions are specified using the same criterion weights for all boundaries.\n",
      "The weights associated to each criterion are:\n",
      "  - Criterion \"Criterion 1\": 0.15\n",
      "  - Criterion \"Criterion 2\": 0.62\n",
      "  - Criterion \"Criterion 3\": 0.41\n",
      "  - Criterion \"Criterion 4\": 0.10\n",
      "To get into an upper category, an alternative must be better than the following profiles on a set of criteria whose weights add up to at least 1:\n",
      "  - For category \"Intermediate category 1\": at least 0.26 on criterion \"Criterion 1\", at least 0.06 on criterion \"Criterion 2\", at least 0.16 on criterion \"Criterion 3\", and at least 0.05 on criterion \"Criterion 4\"\n",
      "  - For category \"Best category\": at least 0.68 on criterion \"Criterion 1\", at least 0.32 on criterion \"Criterion 2\", at least 0.67 on criterion \"Criterion 3\", and at least 0.60 on criterion \"Criterion 4\"\n"
     ]
    }
   ],
   "source": [
    "print(\"\\n\".join(lincs.description.describe_classification_model(problem, model)))"
   ]
  },
  {
   "cell_type": "code",
   "execution_count": 10,
   "id": "1f5aa883-0a7b-4f10-937c-ebbcc7e20f32",
   "metadata": {},
   "outputs": [
    {
     "name": "stdout",
     "output_type": "stream",
     "text": [
      "Alternative 1: [0.3745401203632355, 0.7965430021286011, 0.9507142901420593, 0.18343478441238403] -> Best category\n",
      "Alternative 2: [0.7319939136505127, 0.7796909809112549, 0.5986585021018982, 0.5968501567840576] -> Intermediate category 1\n",
      "Alternative 3: [0.15601864457130432, 0.445832759141922, 0.15599451959133148, 0.09997492283582687] -> Worst category\n",
      "Alternative 4: [0.058083612471818924, 0.4592489004135132, 0.8661761283874512, 0.33370861411094666] -> Best category\n",
      "Alternative 5: [0.6011149883270264, 0.1428668200969696, 0.7080726027488708, 0.6508885025978088] -> Intermediate category 1\n"
     ]
    }
   ],
   "source": [
    "learning_set = lincs.generate_classified_alternatives(problem, model, 1000, 42)\n",
    "\n",
    "for alt in learning_set.alternatives[:5]:\n",
    "    print(f\"{alt.name}: {[perf.real_value for perf in alt.profile]} -> {problem.ordered_categories[alt.category_index].name}\")"
   ]
  },
  {
   "cell_type": "code",
   "execution_count": 11,
   "id": "3c2d9304-eeb3-4b56-8dcf-368e46117048",
   "metadata": {},
   "outputs": [
    {
     "data": {
      "image/png": "[encoded data removed]",
      "text/plain": [
       "<Figure size 600x400 with 1 Axes>"
      ]
     },
     "metadata": {},
     "output_type": "display_data"
    }
   ],
   "source": [
    "axes = plt.subplots(1, 1, figsize=(6, 4), layout=\"constrained\")[1]\n",
    "lincs.visualization.visualize_classification_model(problem, model, learning_set.alternatives[:5], axes)"
   ]
  },
  {
   "cell_type": "code",
   "execution_count": 12,
   "id": "a9445562-79f8-485b-bbe9-6829a98ac9a9",
   "metadata": {},
   "outputs": [
    {
     "name": "stdout",
     "output_type": "stream",
     "text": [
      "kind: ncs-classification-model\n",
      "format_version: 1\n",
      "accepted_values:\n",
      "  - kind: thresholds\n",
      "    thresholds: [0.339874953, 0.421424538]\n",
      "  - kind: thresholds\n",
      "    thresholds: [0.0556534864, 0.326433569]\n",
      "  - kind: thresholds\n",
      "    thresholds: [0.162616938, 0.67343241]\n",
      "  - kind: thresholds\n",
      "    thresholds: [0.0878681168, 0.252649099]\n",
      "sufficient_coalitions:\n",
      "  - &coalitions\n",
      "    kind: weights\n",
      "    criterion_weights: [0, 1.01327896e-06, 0.999998987, 0]\n",
      "  - *coalitions\n"
     ]
    }
   ],
   "source": [
    "# @todo(Feature, v1.1) Support using temporary strategies (i.e. passing 'lincs.OptimizeWeightsUsingGlop(learning_data)' directly to 'lincs.LearnMrsortByWeightsProfilesBreed' without capturing it in a variable)\n",
    "learning_data = lincs.LearnMrsortByWeightsProfilesBreed.LearningData(problem, learning_set, 9, 43)\n",
    "profiles_initialization_strategy = lincs.InitializeProfilesForProbabilisticMaximalDiscriminationPowerPerCriterion(learning_data)\n",
    "weights_optimization_strategy = lincs.OptimizeWeightsUsingGlop(learning_data)\n",
    "profiles_improvement_strategy = lincs.ImproveProfilesWithAccuracyHeuristicOnCpu(learning_data)\n",
    "breeding_strategy = lincs.ReinitializeLeastAccurate(learning_data, profiles_initialization_strategy, 4)\n",
    "termination_strategy = lincs.TerminateAtAccuracy(learning_data, len(learning_set.alternatives))\n",
    "\n",
    "learning = lincs.LearnMrsortByWeightsProfilesBreed(\n",
    "    learning_data,\n",
    "    profiles_initialization_strategy,\n",
    "    weights_optimization_strategy,\n",
    "    profiles_improvement_strategy,\n",
    "    breeding_strategy,\n",
    "    termination_strategy,\n",
    ")\n",
    "\n",
    "learned_model = learning.perform()\n",
    "learned_model.dump(problem, sys.stdout)"
   ]
  },
  {
   "cell_type": "code",
   "execution_count": 13,
   "id": "1fdb4fa6-f54e-4981-832c-f0175fc1c54b",
   "metadata": {},
   "outputs": [
    {
     "data": {
      "text/plain": [
       "(4, 2996)"
      ]
     },
     "execution_count": 13,
     "metadata": {},
     "output_type": "execute_result"
    }
   ],
   "source": [
    "testing_set = lincs.generate_classified_alternatives(problem, model, 3000, 44)\n",
    "classification_result = lincs.classify_alternatives(problem, learned_model, testing_set)\n",
    "classification_result.changed, classification_result.unchanged"
   ]
  },
  {
   "cell_type": "markdown",
   "id": "fe8d221a-368c-4940-b7c8-5e5d9c91f9cf",
   "metadata": {},
   "source": [
    "# Do more, with the Python API\n",
    "\n",
    "## Create classification problem and model\n",
    "\n",
    "You don't have to use our pseudo-random generation functions; you can create `Problem` and `Model` instances yourself:"
   ]
  },
  {
   "cell_type": "code",
   "execution_count": 14,
   "id": "ed9ed7fd-6dcd-4b0f-95de-5118a266056d",
   "metadata": {},
   "outputs": [
    {
     "name": "stdout",
     "output_type": "stream",
     "text": [
      "kind: classification-problem\n",
      "format_version: 1\n",
      "criteria:\n",
      "  - name: Physics grade\n",
      "    value_type: integer\n",
      "    preference_direction: increasing\n",
      "    min_value: 0\n",
      "    max_value: 100\n",
      "  - name: Literature grade\n",
      "    value_type: enumerated\n",
      "    ordered_values: [f, e, d, c, b, a]\n",
      "ordered_categories:\n",
      "  - name: Failed\n",
      "  - name: Passed\n",
      "  - name: Congratulations\n"
     ]
    }
   ],
   "source": [
    "# @todo(Feature, v1.1) Rename to 'ClassificationProblem'? And everything to 'ClassificationXxx'? Or namespace into 'lincs.classification'?\n",
    "problem = lincs.Problem(\n",
    "    [\n",
    "        lincs.Criterion(\"Physics grade\", lincs.Criterion.IntegerValues(lincs.Criterion.PreferenceDirection.increasing, 0, 100)),\n",
    "        lincs.Criterion(\"Literature grade\", lincs.Criterion.EnumeratedValues([\"f\", \"e\", \"d\", \"c\", \"b\", \"a\"])),\n",
    "    ],\n",
    "    [lincs.Category(\"Failed\"), lincs.Category(\"Passed\"), lincs.Category(\"Congratulations\")],\n",
    ")\n",
    "\n",
    "problem.dump(sys.stdout)"
   ]
  },
  {
   "cell_type": "markdown",
   "id": "60d24fd0-67ef-42ec-b76a-fa5729658e4d",
   "metadata": {},
   "source": [
    "You can access all their attributes in code as well:"
   ]
  },
  {
   "cell_type": "code",
   "execution_count": 15,
   "id": "a0dc62c9-9f5a-4ffb-98aa-cae20a56492e",
   "metadata": {},
   "outputs": [],
   "source": [
    "criterion = problem.criteria[0]"
   ]
  },
  {
   "cell_type": "code",
   "execution_count": 16,
   "id": "0ae00d4a-4890-436b-8e81-b0f113e37f9b",
   "metadata": {},
   "outputs": [
    {
     "data": {
      "text/plain": [
       "'Physics grade'"
      ]
     },
     "execution_count": 16,
     "metadata": {},
     "output_type": "execute_result"
    }
   ],
   "source": [
    "criterion.name"
   ]
  },
  {
   "cell_type": "code",
   "execution_count": 17,
   "id": "6f7e7b92-d111-47aa-bd3d-02837b1392e0",
   "metadata": {},
   "outputs": [
    {
     "data": {
      "text/plain": [
       "(liblincs.ValueType.integer, False, True, False)"
      ]
     },
     "execution_count": 17,
     "metadata": {},
     "output_type": "execute_result"
    }
   ],
   "source": [
    "criterion.value_type, criterion.is_real, criterion.is_integer, criterion.is_enumerated"
   ]
  },
  {
   "cell_type": "code",
   "execution_count": 18,
   "id": "35d2c1c0-9836-479c-a440-2f68ab35d050",
   "metadata": {},
   "outputs": [],
   "source": [
    "values = criterion.integer_values"
   ]
  },
  {
   "cell_type": "code",
   "execution_count": 19,
   "id": "fb85c12f-5cb3-49cc-9778-c7f702cbc11a",
   "metadata": {},
   "outputs": [
    {
     "data": {
      "text/plain": [
       "(liblincs.PreferenceDirection.isotone, True, False)"
      ]
     },
     "execution_count": 19,
     "metadata": {},
     "output_type": "execute_result"
    }
   ],
   "source": [
    "values.preference_direction, values.is_increasing, values.is_decreasing"
   ]
  },
  {
   "cell_type": "code",
   "execution_count": 20,
   "id": "9c39cda6-5fa8-41c9-83fb-324148628d09",
   "metadata": {},
   "outputs": [
    {
     "data": {
      "text/plain": [
       "(0, 100)"
      ]
     },
     "execution_count": 20,
     "metadata": {},
     "output_type": "execute_result"
    }
   ],
   "source": [
    "values.min_value, values.max_value"
   ]
  },
  {
   "cell_type": "code",
   "execution_count": 21,
   "id": "706551fd-25aa-4cfd-8778-a556ce99fc36",
   "metadata": {},
   "outputs": [],
   "source": [
    "criterion = problem.criteria[1]"
   ]
  },
  {
   "cell_type": "code",
   "execution_count": 22,
   "id": "13843008-4dcc-4da7-8a4d-73a3b449a8f1",
   "metadata": {},
   "outputs": [
    {
     "data": {
      "text/plain": [
       "'Literature grade'"
      ]
     },
     "execution_count": 22,
     "metadata": {},
     "output_type": "execute_result"
    }
   ],
   "source": [
    "criterion.name"
   ]
  },
  {
   "cell_type": "code",
   "execution_count": 23,
   "id": "2b3f21b9-39d8-41ef-bfaa-76106f31834b",
   "metadata": {},
   "outputs": [
    {
     "data": {
      "text/plain": [
       "(liblincs.ValueType.enumerated, False, False, True)"
      ]
     },
     "execution_count": 23,
     "metadata": {},
     "output_type": "execute_result"
    }
   ],
   "source": [
    "criterion.value_type, criterion.is_real, criterion.is_integer, criterion.is_enumerated"
   ]
  },
  {
   "cell_type": "code",
   "execution_count": 24,
   "id": "17b53592-8a71-4286-91da-0c92b941ad93",
   "metadata": {},
   "outputs": [],
   "source": [
    "values = criterion.enumerated_values"
   ]
  },
  {
   "cell_type": "code",
   "execution_count": 25,
   "id": "c71ea01f-0f6d-4a55-b462-9fafbf1013fa",
   "metadata": {},
   "outputs": [
    {
     "data": {
      "text/plain": [
       "['f', 'e', 'd', 'c', 'b', 'a']"
      ]
     },
     "execution_count": 25,
     "metadata": {},
     "output_type": "execute_result"
    }
   ],
   "source": [
    "list(values.ordered_values)"
   ]
  },
  {
   "cell_type": "code",
   "execution_count": 26,
   "id": "3d2c5f72-04c4-4a2e-8df0-23551beef9f1",
   "metadata": {},
   "outputs": [
    {
     "data": {
      "text/plain": [
       "5"
      ]
     },
     "execution_count": 26,
     "metadata": {},
     "output_type": "execute_result"
    }
   ],
   "source": [
    "values.get_value_rank(\"a\")"
   ]
  },
  {
   "cell_type": "code",
   "execution_count": 27,
   "id": "8142b595-1213-42ad-bfbe-c38f5f9113d7",
   "metadata": {},
   "outputs": [
    {
     "name": "stdout",
     "output_type": "stream",
     "text": [
      "kind: ncs-classification-model\n",
      "format_version: 1\n",
      "accepted_values:\n",
      "  - kind: thresholds\n",
      "    thresholds: [50, 80]\n",
      "  - kind: thresholds\n",
      "    thresholds: [c, a]\n",
      "sufficient_coalitions:\n",
      "  - kind: weights\n",
      "    criterion_weights: [0.5, 0.5]\n"
     ]
    }
   ],
   "source": [
    "model = lincs.Model(\n",
    "    problem,\n",
    "    [lincs.AcceptedValues(lincs.AcceptedValues.IntegerThresholds([50, 80])), lincs.AcceptedValues(lincs.AcceptedValues.EnumeratedThresholds([\"c\", \"a\"]))],\n",
    "    [lincs.SufficientCoalitions(lincs.SufficientCoalitions.Weights([0.5, 0.5]))],\n",
    ")\n",
    "\n",
    "model.dump(problem, sys.stdout)"
   ]
  },
  {
   "cell_type": "code",
   "execution_count": 28,
   "id": "4d9286ed-1fde-42ea-854b-3ef3cd532f82",
   "metadata": {},
   "outputs": [],
   "source": [
    "accepted = model.accepted_values[0]"
   ]
  },
  {
   "cell_type": "code",
   "execution_count": 29,
   "id": "161f926c-f9e5-4bc7-9382-c069d10458d8",
   "metadata": {},
   "outputs": [
    {
     "data": {
      "text/plain": [
       "(liblincs.ValueType.integer, False, True, False)"
      ]
     },
     "execution_count": 29,
     "metadata": {},
     "output_type": "execute_result"
    }
   ],
   "source": [
    "accepted.value_type, accepted.is_real, accepted.is_integer, accepted.is_enumerated"
   ]
  },
  {
   "cell_type": "code",
   "execution_count": 30,
   "id": "c1298109-a0e9-4660-bd49-c325c0222d72",
   "metadata": {},
   "outputs": [
    {
     "data": {
      "text/plain": [
       "(liblincs.Kind.thresholds, True)"
      ]
     },
     "execution_count": 30,
     "metadata": {},
     "output_type": "execute_result"
    }
   ],
   "source": [
    "accepted.kind, accepted.is_thresholds"
   ]
  },
  {
   "cell_type": "code",
   "execution_count": 31,
   "id": "767b2049-aad2-45a1-9bfc-1e3f7273be46",
   "metadata": {},
   "outputs": [
    {
     "data": {
      "text/plain": [
       "[50, 80]"
      ]
     },
     "execution_count": 31,
     "metadata": {},
     "output_type": "execute_result"
    }
   ],
   "source": [
    "list(accepted.integer_thresholds.thresholds)"
   ]
  },
  {
   "cell_type": "code",
   "execution_count": 32,
   "id": "36256e92-7b2a-4131-b088-35f52dae6dd3",
   "metadata": {},
   "outputs": [],
   "source": [
    "accepted = model.accepted_values[1]"
   ]
  },
  {
   "cell_type": "code",
   "execution_count": 33,
   "id": "62c1aa27-cbc8-4032-9282-e1acf76ffa01",
   "metadata": {},
   "outputs": [
    {
     "data": {
      "text/plain": [
       "(liblincs.ValueType.enumerated, False, False, True)"
      ]
     },
     "execution_count": 33,
     "metadata": {},
     "output_type": "execute_result"
    }
   ],
   "source": [
    "accepted.value_type, accepted.is_real, accepted.is_integer, accepted.is_enumerated"
   ]
  },
  {
   "cell_type": "code",
   "execution_count": 34,
   "id": "ffc03b33-b0cc-4211-b8f3-d0dbedc8131a",
   "metadata": {},
   "outputs": [
    {
     "data": {
      "text/plain": [
       "(liblincs.Kind.thresholds, True)"
      ]
     },
     "execution_count": 34,
     "metadata": {},
     "output_type": "execute_result"
    }
   ],
   "source": [
    "accepted.kind, accepted.is_thresholds"
   ]
  },
  {
   "cell_type": "code",
   "execution_count": 35,
   "id": "26a4d2eb-5d2b-42a3-8348-da1d16b5303f",
   "metadata": {},
   "outputs": [
    {
     "data": {
      "text/plain": [
       "['c', 'a']"
      ]
     },
     "execution_count": 35,
     "metadata": {},
     "output_type": "execute_result"
    }
   ],
   "source": [
    "list(accepted.enumerated_thresholds.thresholds)"
   ]
  },
  {
   "cell_type": "code",
   "execution_count": 36,
   "id": "4690357c-2082-420e-b294-0010ef46f662",
   "metadata": {},
   "outputs": [],
   "source": [
    "sufficient = model.sufficient_coalitions[0]"
   ]
  },
  {
   "cell_type": "code",
   "execution_count": 37,
   "id": "bc0e16b6-ac03-4f81-9c03-79f6c6c91a8b",
   "metadata": {},
   "outputs": [
    {
     "data": {
      "text/plain": [
       "(liblincs.Kind.weights, True, False)"
      ]
     },
     "execution_count": 37,
     "metadata": {},
     "output_type": "execute_result"
    }
   ],
   "source": [
    "sufficient.kind, sufficient.is_weights, sufficient.is_roots"
   ]
  },
  {
   "cell_type": "code",
   "execution_count": 38,
   "id": "6fb81ac9-3f62-4f90-874f-de827d8d761a",
   "metadata": {},
   "outputs": [
    {
     "data": {
      "text/plain": [
       "[0.5, 0.5]"
      ]
     },
     "execution_count": 38,
     "metadata": {},
     "output_type": "execute_result"
    }
   ],
   "source": [
    "list(sufficient.weights.criterion_weights)"
   ]
  }
 ],
 "metadata": {
  "kernelspec": {
   "display_name": "Python 3 (ipykernel)",
   "language": "python",
   "name": "python3"
  },
  "language_info": {
   "codemirror_mode": {
    "name": "ipython",
    "version": 3
   },
   "file_extension": ".py",
   "mimetype": "text/x-python",
   "name": "python",
   "nbconvert_exporter": "python",
   "pygments_lexer": "ipython3",
   "version": "3.8.10"
  }
 },
 "nbformat": 4,
 "nbformat_minor": 5
}
