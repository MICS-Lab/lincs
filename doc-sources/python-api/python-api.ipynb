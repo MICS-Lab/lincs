{
 "cells": [
  {
   "cell_type": "markdown",
   "id": "03918549-cc28-44e3-9d3c-627c2a4e1683",
   "metadata": {},
   "source": [
    "# The Python API"
   ]
  },
  {
   "cell_type": "markdown",
   "id": "ef1a1243-f769-4cf1-9016-960e656e2e3e",
   "metadata": {},
   "source": [
    "This document builds up on [our \"Get Started\" guide](https://mics-lab.github.io/lincs/get-started.html) and our [user guide](https://mics-lab.github.io/lincs/user-guide.html), and introduces *lincs*' Python API.\n",
    "This API is more flexible, albeit more complex, than the command-line interface you've been using so far.\n",
    "\n",
    "If you're a Jupyter user, you can [download the notebook](python-api/python-api.ipynb) this document is based on."
   ]
  },
  {
   "cell_type": "markdown",
   "id": "110a27c5-0f21-4c03-84d7-1947a86bb8fd",
   "metadata": {},
   "source": [
    "## Do it again, in Python"
   ]
  },
  {
   "cell_type": "markdown",
   "id": "a567f03d-64aa-4cbb-9ec5-d12a6ab4bec7",
   "metadata": {},
   "source": [
    "First, lets do exactly the same thing as in our \"Get started\" guide, but using the Python API."
   ]
  },
  {
   "cell_type": "code",
   "execution_count": 1,
   "id": "77963196-9956-460c-989f-e7772f800a01",
   "metadata": {},
   "outputs": [],
   "source": [
    "from lincs import classification as lc"
   ]
  },
  {
   "cell_type": "markdown",
   "id": "d85a8506-401f-4a3d-893c-996b11e99fe2",
   "metadata": {},
   "source": [
    "Generate a synthetic classification problem:"
   ]
  },
  {
   "cell_type": "code",
   "execution_count": 2,
   "id": "08948c5a-22e5-498a-96a7-9826d47e2f5d",
   "metadata": {},
   "outputs": [],
   "source": [
    "problem = lc.generate_problem(criteria_count=4, categories_count=3, random_seed=40)"
   ]
  },
  {
   "cell_type": "markdown",
   "id": "0a9103e8-8884-4606-88ca-ed41b2b0972f",
   "metadata": {},
   "source": [
    "The first difference with the command-line interface is the third argument to the call to `generate_problem`: it's the pseudo-random seed optionally passed by the `--random-seed` option on the command line. All pseudo-random seeds are mandatory in the Python API, so that you have full control of reproducibility. If you don't care about it, you can use `random.randrange(2**30)` to use pseudo-random pseudo-random seeds. (No typo here: the pseudo-random seeds are pseudo-random.)\n",
    "\n",
    "Generated problems are returned as Python objects of class `lincs.Problem`. You can print them:"
   ]
  },
  {
   "cell_type": "code",
   "execution_count": 3,
   "id": "65d792e1-0720-45d8-b756-fe74537865b0",
   "metadata": {},
   "outputs": [
    {
     "name": "stdout",
     "output_type": "stream",
     "text": [
      "kind: classification-problem\n",
      "format_version: 1\n",
      "criteria:\n",
      "  - name: Criterion 1\n",
      "    value_type: real\n",
      "    preference_direction: increasing\n",
      "    min_value: 0\n",
      "    max_value: 1\n",
      "  - name: Criterion 2\n",
      "    value_type: real\n",
      "    preference_direction: increasing\n",
      "    min_value: 0\n",
      "    max_value: 1\n",
      "  - name: Criterion 3\n",
      "    value_type: real\n",
      "    preference_direction: increasing\n",
      "    min_value: 0\n",
      "    max_value: 1\n",
      "  - name: Criterion 4\n",
      "    value_type: real\n",
      "    preference_direction: increasing\n",
      "    min_value: 0\n",
      "    max_value: 1\n",
      "ordered_categories:\n",
      "  - name: Worst category\n",
      "  - name: Intermediate category 1\n",
      "  - name: Best category\n"
     ]
    }
   ],
   "source": [
    "import sys\n",
    "problem.dump(sys.stdout)"
   ]
  },
  {
   "attachments": {},
   "cell_type": "markdown",
   "id": "6875cdf0-9e37-4733-9b1d-11b474a09380",
   "metadata": {},
   "source": [
    "Description functions generate a list of strings:"
   ]
  },
  {
   "cell_type": "code",
   "execution_count": 4,
   "id": "4e37c394-a2e5-46ec-8813-5475f0a5c6f3",
   "metadata": {},
   "outputs": [
    {
     "name": "stdout",
     "output_type": "stream",
     "text": [
      "This a classification problem into 3 ordered categories named \"Worst category\", \"Intermediate category 1\" and \"Best category\".\n",
      "The best category is \"Best category\" and the worst category is \"Worst category\".\n",
      "There are 4 classification criteria (in no particular order).\n",
      "Criterion \"Criterion 1\" takes real values between 0.0 and 1.0 included.\n",
      "Higher values of \"Criterion 1\" are known to be better.\n",
      "Criterion \"Criterion 2\" takes real values between 0.0 and 1.0 included.\n",
      "Higher values of \"Criterion 2\" are known to be better.\n",
      "Criterion \"Criterion 3\" takes real values between 0.0 and 1.0 included.\n",
      "Higher values of \"Criterion 3\" are known to be better.\n",
      "Criterion \"Criterion 4\" takes real values between 0.0 and 1.0 included.\n",
      "Higher values of \"Criterion 4\" are known to be better.\n"
     ]
    }
   ],
   "source": [
    "print(\"\\n\".join(lc.describe_problem(problem)))"
   ]
  },
  {
   "cell_type": "markdown",
   "id": "5b170efd-eef5-4d4b-b435-b3c246a5fda6",
   "metadata": {},
   "source": [
    "Generate a synthetic MR-Sort classification model, again with an explicit pseudo-random seed:"
   ]
  },
  {
   "cell_type": "code",
   "execution_count": 5,
   "id": "ba5ba906-1457-4544-a754-fa33f30c19d5",
   "metadata": {},
   "outputs": [
    {
     "name": "stdout",
     "output_type": "stream",
     "text": [
      "kind: ncs-classification-model\n",
      "format_version: 1\n",
      "accepted_values:\n",
      "  - kind: thresholds\n",
      "    thresholds: [0.255905151, 0.676961303]\n",
      "  - kind: thresholds\n",
      "    thresholds: [0.0551739037, 0.324553937]\n",
      "  - kind: thresholds\n",
      "    thresholds: [0.162252158, 0.673279881]\n",
      "  - kind: thresholds\n",
      "    thresholds: [0.0526000932, 0.598555863]\n",
      "sufficient_coalitions:\n",
      "  - &coalitions\n",
      "    kind: weights\n",
      "    criterion_weights: [0.147771254, 0.618687689, 0.406786472, 0.0960085914]\n",
      "  - *coalitions\n"
     ]
    }
   ],
   "source": [
    "model = lc.generate_mrsort_model(problem, random_seed=41)\n",
    "\n",
    "model.dump(problem, sys.stdout)"
   ]
  },
  {
   "cell_type": "markdown",
   "id": "b836036d-1da3-427b-8c78-c9b457fca7a9",
   "metadata": {},
   "source": [
    "Visualization functions interface with [Matplotlib](https://matplotlib.org/):"
   ]
  },
  {
   "cell_type": "code",
   "execution_count": 6,
   "id": "4ef64c1f-1f27-4864-b527-a21b0b8b9596",
   "metadata": {},
   "outputs": [],
   "source": [
    "import matplotlib.pyplot as plt"
   ]
  },
  {
   "cell_type": "code",
   "execution_count": 7,
   "id": "3c2c0bb7-e738-4cd9-83cf-bd60e4774d58",
   "metadata": {},
   "outputs": [
    {
     "data": {
      "image/png": "[encoded data removed]",
      "text/plain": [
       "<Figure size 600x400 with 1 Axes>"
      ]
     },
     "metadata": {},
     "output_type": "display_data"
    }
   ],
   "source": [
    "axes = plt.subplots(1, 1, figsize=(6, 4), layout=\"constrained\")[1]\n",
    "lc.visualize_model(problem, model, [], axes)"
   ]
  },
  {
   "cell_type": "markdown",
   "id": "3bee34aa-beec-41ba-813a-3cd582aee9b0",
   "metadata": {},
   "source": [
    "Get the model's description:"
   ]
  },
  {
   "cell_type": "code",
   "execution_count": 8,
   "id": "d2eadcf7-4565-45fe-bbc3-9e5cd7c9b73b",
   "metadata": {},
   "outputs": [
    {
     "name": "stdout",
     "output_type": "stream",
     "text": [
      "This is a MR-Sort (a.k.a. 1-Uc-NCS) model: an NCS model where the sufficient coalitions are specified using the same criterion weights for all boundaries.\n",
      "The weights associated to each criterion are:\n",
      "  - Criterion \"Criterion 1\": 0.15\n",
      "  - Criterion \"Criterion 2\": 0.62\n",
      "  - Criterion \"Criterion 3\": 0.41\n",
      "  - Criterion \"Criterion 4\": 0.10\n",
      "To get into an upper category, an alternative must be accepted by the following boundaries on a set of criteria whose weights add up to at least 1:\n",
      "  - For category \"Intermediate category 1\": at least 0.26 on criterion \"Criterion 1\", at least 0.06 on criterion \"Criterion 2\", at least 0.16 on criterion \"Criterion 3\", and at least 0.05 on criterion \"Criterion 4\"\n",
      "  - For category \"Best category\": at least 0.68 on criterion \"Criterion 1\", at least 0.32 on criterion \"Criterion 2\", at least 0.67 on criterion \"Criterion 3\", and at least 0.60 on criterion \"Criterion 4\"\n"
     ]
    }
   ],
   "source": [
    "print(\"\\n\".join(lc.describe_model(problem, model)))"
   ]
  },
  {
   "cell_type": "markdown",
   "id": "00fab94b-22a7-41ae-8dfa-48263d3d8dfe",
   "metadata": {},
   "source": [
    "Generate a synthetic learning set (with an explicit pseudo-random seed):"
   ]
  },
  {
   "cell_type": "code",
   "execution_count": 9,
   "id": "dac523f0-1340-4465-b487-7eca3bcd7c64",
   "metadata": {},
   "outputs": [],
   "source": [
    "learning_set = lc.generate_alternatives(problem, model, alternatives_count=1000, random_seed=42)"
   ]
  },
  {
   "cell_type": "markdown",
   "id": "76b3a98d-e69c-4164-8ba0-557ff039bef9",
   "metadata": {},
   "source": [
    "Dump it (in memory instead of on `sys.stdout` to print only the first few lines):"
   ]
  },
  {
   "cell_type": "code",
   "execution_count": 10,
   "id": "0d3fc508-480b-40dc-b7c9-1f7eb5637d8c",
   "metadata": {},
   "outputs": [
    {
     "name": "stdout",
     "output_type": "stream",
     "text": [
      "name,\"Criterion 1\",\"Criterion 2\",\"Criterion 3\",\"Criterion 4\",category\n",
      "\"Alternative 1\",0.37454012,0.796543002,0.95071429,0.183434784,\"Best category\"\n",
      "\"Alternative 2\",0.731993914,0.779690981,0.598658502,0.596850157,\"Intermediate category 1\"\n",
      "\"Alternative 3\",0.156018645,0.445832759,0.15599452,0.0999749228,\"Worst category\"\n",
      "\"Alternative 4\",0.0580836125,0.4592489,0.866176128,0.333708614,\"Best category\"\n",
      "\"Alternative 5\",0.601114988,0.14286682,0.708072603,0.650888503,\"Intermediate category 1\"\n",
      "...\n"
     ]
    }
   ],
   "source": [
    "import io\n",
    "f = io.StringIO()\n",
    "learning_set.dump(problem, f)\n",
    "print(\"\\n\".join(f.getvalue().splitlines()[:6] + ['...']))"
   ]
  },
  {
   "cell_type": "markdown",
   "id": "6e864665-f7b1-454e-ae4e-8b397e211266",
   "metadata": {},
   "source": [
    "Visualize it:"
   ]
  },
  {
   "cell_type": "code",
   "execution_count": 11,
   "id": "3c2d9304-eeb3-4b56-8dcf-368e46117048",
   "metadata": {},
   "outputs": [
    {
     "data": {
      "image/png": "[encoded data removed]",
      "text/plain": [
       "<Figure size 600x400 with 1 Axes>"
      ]
     },
     "metadata": {},
     "output_type": "display_data"
    }
   ],
   "source": [
    "axes = plt.subplots(1, 1, figsize=(6, 4), layout=\"constrained\")[1]\n",
    "lc.visualize_model(problem, model, learning_set.alternatives[:5], axes)"
   ]
  },
  {
   "cell_type": "markdown",
   "id": "b625f1a5-ef14-4533-912c-cc281e269641",
   "metadata": {},
   "source": [
    "Let's now train a new model from this synthetic learning set.\n",
    "The command-line interface of `lincs learn classification-model` accepts quite a few options.\n",
    "Most of them set up the strategies used for the learning, as described further in our [user guide](https://mics-lab.github.io/lincs/user-guide.html).\n",
    "When using the Python API, you have to create these strategies yourself:"
   ]
  },
  {
   "cell_type": "code",
   "execution_count": 12,
   "id": "c552db53-b77d-4011-9298-6e2504e4093c",
   "metadata": {},
   "outputs": [],
   "source": [
    "preprocessed_learning_set = lc.PreprocessedLearningSet(problem, learning_set)\n",
    "models_being_learned = lc.LearnMrsortByWeightsProfilesBreed.ModelsBeingLearned(preprocessed_learning_set, models_count=9, random_seed=43)\n",
    "profiles_initialization_strategy = lc.InitializeProfilesForProbabilisticMaximalDiscriminationPowerPerCriterion(preprocessed_learning_set, models_being_learned)\n",
    "weights_optimization_strategy = lc.OptimizeWeightsUsingGlop(preprocessed_learning_set, models_being_learned)\n",
    "profiles_improvement_strategy = lc.ImproveProfilesWithAccuracyHeuristicOnCpu(preprocessed_learning_set, models_being_learned)\n",
    "breeding_strategy = lc.ReinitializeLeastAccurate(models_being_learned, profiles_initialization_strategy=profiles_initialization_strategy, count=4)\n",
    "termination_strategy = lc.TerminateAtAccuracy(models_being_learned, target_accuracy=len(learning_set.alternatives))"
   ]
  },
  {
   "cell_type": "markdown",
   "id": "e9eb59f7-3c47-429f-857a-2c88b1d2deb6",
   "metadata": {},
   "source": [
    "Then create the learning itself:"
   ]
  },
  {
   "cell_type": "code",
   "execution_count": 13,
   "id": "df2de7ed-4a91-4dc9-b5b2-598a277c9a5a",
   "metadata": {},
   "outputs": [],
   "source": [
    "learning = lc.LearnMrsortByWeightsProfilesBreed(\n",
    "    preprocessed_learning_set,\n",
    "    models_being_learned,\n",
    "    profiles_initialization_strategy,\n",
    "    weights_optimization_strategy,\n",
    "    profiles_improvement_strategy,\n",
    "    breeding_strategy,\n",
    "    termination_strategy,\n",
    ")"
   ]
  },
  {
   "cell_type": "markdown",
   "id": "8848f232-beda-41d0-9ba7-0889f15e6216",
   "metadata": {},
   "source": [
    "And `.perform` it to create the learned `Model` object:"
   ]
  },
  {
   "cell_type": "code",
   "execution_count": 14,
   "id": "4f752442-f9ee-43ce-bd51-341b6e6a5081",
   "metadata": {},
   "outputs": [
    {
     "name": "stdout",
     "output_type": "stream",
     "text": [
      "kind: ncs-classification-model\n",
      "format_version: 1\n",
      "accepted_values:\n",
      "  - kind: thresholds\n",
      "    thresholds: [0.339874953, 0.421424538]\n",
      "  - kind: thresholds\n",
      "    thresholds: [0.0556534864, 0.326433569]\n",
      "  - kind: thresholds\n",
      "    thresholds: [0.162616938, 0.67343241]\n",
      "  - kind: thresholds\n",
      "    thresholds: [0.0878681168, 0.252649099]\n",
      "sufficient_coalitions:\n",
      "  - &coalitions\n",
      "    kind: weights\n",
      "    criterion_weights: [0, 1.01327896e-06, 0.999998987, 0]\n",
      "  - *coalitions\n"
     ]
    }
   ],
   "source": [
    "learned_model = learning.perform()\n",
    "learned_model.dump(problem, sys.stdout)"
   ]
  },
  {
   "cell_type": "markdown",
   "id": "a6f694fa-f820-4869-bde6-d46ff90cf9b6",
   "metadata": {},
   "source": [
    "Create a testing set and classify it, taking notes of the accuracy of the new model on that testing set:"
   ]
  },
  {
   "cell_type": "code",
   "execution_count": 15,
   "id": "1fdb4fa6-f54e-4981-832c-f0175fc1c54b",
   "metadata": {},
   "outputs": [
    {
     "data": {
      "text/plain": [
       "(4, 2996)"
      ]
     },
     "execution_count": 15,
     "metadata": {},
     "output_type": "execute_result"
    }
   ],
   "source": [
    "testing_set = lc.generate_alternatives(problem, model, alternatives_count=3000, random_seed=44)\n",
    "classification_result = lc.classify_alternatives(problem, learned_model, testing_set)\n",
    "classification_result.changed, classification_result.unchanged"
   ]
  },
  {
   "cell_type": "markdown",
   "id": "44f38224-0b66-42c3-becb-7b44e3924305",
   "metadata": {},
   "source": [
    "This covers what was done in our \"Get started\" guide.\n",
    "As you can see the Python API is more verbose, but for good reasons: it's more powerful as you'll see in the next section."
   ]
  },
  {
   "cell_type": "markdown",
   "id": "e04a3a27-824d-41c6-9d0f-3ded09b205a8",
   "metadata": {},
   "source": [
    "## Do more, with the Python API"
   ]
  },
  {
   "cell_type": "markdown",
   "id": "3dd98560-201c-4634-9e9c-2c54d73ca0a8",
   "metadata": {},
   "source": [
    "### Create classification objects"
   ]
  },
  {
   "cell_type": "markdown",
   "id": "8f4aa99e-35a7-449c-bd00-4bea102390fa",
   "metadata": {},
   "source": [
    "You don't have to use our pseudo-random generation functions; you can create `Problem`, `Model`, *etc.* instances yourself."
   ]
  },
  {
   "cell_type": "markdown",
   "id": "4e95efaf-8714-4868-b7e1-aaecf4c21885",
   "metadata": {},
   "source": [
    "#### Create a `Problem`"
   ]
  },
  {
   "cell_type": "code",
   "execution_count": 16,
   "id": "ed9ed7fd-6dcd-4b0f-95de-5118a266056d",
   "metadata": {},
   "outputs": [
    {
     "name": "stdout",
     "output_type": "stream",
     "text": [
      "kind: classification-problem\n",
      "format_version: 1\n",
      "criteria:\n",
      "  - name: Physics grade\n",
      "    value_type: integer\n",
      "    preference_direction: increasing\n",
      "    min_value: 0\n",
      "    max_value: 100\n",
      "  - name: Literature grade\n",
      "    value_type: enumerated\n",
      "    ordered_values: [f, e, d, c, b, a]\n",
      "ordered_categories:\n",
      "  - name: Failed\n",
      "  - name: Passed\n",
      "  - name: Congratulations\n"
     ]
    }
   ],
   "source": [
    "problem = lc.Problem(\n",
    "    criteria=[\n",
    "        lc.Criterion(\"Physics grade\", lc.Criterion.IntegerValues(lc.Criterion.PreferenceDirection.increasing, 0, 100)),\n",
    "        lc.Criterion(\"Literature grade\", lc.Criterion.EnumeratedValues([\"f\", \"e\", \"d\", \"c\", \"b\", \"a\"])),\n",
    "    ],\n",
    "    ordered_categories=[lc.Category(\"Failed\"), lc.Category(\"Passed\"), lc.Category(\"Congratulations\")],\n",
    ")\n",
    "\n",
    "problem.dump(sys.stdout)"
   ]
  },
  {
   "cell_type": "markdown",
   "id": "60d24fd0-67ef-42ec-b76a-fa5729658e4d",
   "metadata": {},
   "source": [
    "You can access all their attributes in code as well:"
   ]
  },
  {
   "cell_type": "code",
   "execution_count": 17,
   "id": "a0dc62c9-9f5a-4ffb-98aa-cae20a56492e",
   "metadata": {},
   "outputs": [],
   "source": [
    "criterion = problem.criteria[0]"
   ]
  },
  {
   "cell_type": "code",
   "execution_count": 18,
   "id": "0ae00d4a-4890-436b-8e81-b0f113e37f9b",
   "metadata": {},
   "outputs": [
    {
     "data": {
      "text/plain": [
       "'Physics grade'"
      ]
     },
     "execution_count": 18,
     "metadata": {},
     "output_type": "execute_result"
    }
   ],
   "source": [
    "criterion.name"
   ]
  },
  {
   "cell_type": "code",
   "execution_count": 19,
   "id": "6f7e7b92-d111-47aa-bd3d-02837b1392e0",
   "metadata": {},
   "outputs": [
    {
     "data": {
      "text/plain": [
       "(<ValueType.integer: 1>, False, True, False)"
      ]
     },
     "execution_count": 19,
     "metadata": {},
     "output_type": "execute_result"
    }
   ],
   "source": [
    "criterion.value_type, criterion.is_real, criterion.is_integer, criterion.is_enumerated"
   ]
  },
  {
   "cell_type": "code",
   "execution_count": 20,
   "id": "35d2c1c0-9836-479c-a440-2f68ab35d050",
   "metadata": {},
   "outputs": [],
   "source": [
    "values = criterion.integer_values"
   ]
  },
  {
   "cell_type": "code",
   "execution_count": 21,
   "id": "fb85c12f-5cb3-49cc-9778-c7f702cbc11a",
   "metadata": {},
   "outputs": [
    {
     "data": {
      "text/plain": [
       "(<PreferenceDirection.increasing: 0>, True, False)"
      ]
     },
     "execution_count": 21,
     "metadata": {},
     "output_type": "execute_result"
    }
   ],
   "source": [
    "values.preference_direction, values.is_increasing, values.is_decreasing"
   ]
  },
  {
   "cell_type": "code",
   "execution_count": 22,
   "id": "9c39cda6-5fa8-41c9-83fb-324148628d09",
   "metadata": {},
   "outputs": [
    {
     "data": {
      "text/plain": [
       "(0, 100)"
      ]
     },
     "execution_count": 22,
     "metadata": {},
     "output_type": "execute_result"
    }
   ],
   "source": [
    "values.min_value, values.max_value"
   ]
  },
  {
   "cell_type": "code",
   "execution_count": 23,
   "id": "706551fd-25aa-4cfd-8778-a556ce99fc36",
   "metadata": {},
   "outputs": [],
   "source": [
    "criterion = problem.criteria[1]"
   ]
  },
  {
   "cell_type": "code",
   "execution_count": 24,
   "id": "13843008-4dcc-4da7-8a4d-73a3b449a8f1",
   "metadata": {},
   "outputs": [
    {
     "data": {
      "text/plain": [
       "'Literature grade'"
      ]
     },
     "execution_count": 24,
     "metadata": {},
     "output_type": "execute_result"
    }
   ],
   "source": [
    "criterion.name"
   ]
  },
  {
   "cell_type": "code",
   "execution_count": 25,
   "id": "2b3f21b9-39d8-41ef-bfaa-76106f31834b",
   "metadata": {},
   "outputs": [
    {
     "data": {
      "text/plain": [
       "(<ValueType.enumerated: 2>, False, False, True)"
      ]
     },
     "execution_count": 25,
     "metadata": {},
     "output_type": "execute_result"
    }
   ],
   "source": [
    "criterion.value_type, criterion.is_real, criterion.is_integer, criterion.is_enumerated"
   ]
  },
  {
   "cell_type": "code",
   "execution_count": 26,
   "id": "17b53592-8a71-4286-91da-0c92b941ad93",
   "metadata": {},
   "outputs": [],
   "source": [
    "values = criterion.enumerated_values"
   ]
  },
  {
   "cell_type": "code",
   "execution_count": 27,
   "id": "c71ea01f-0f6d-4a55-b462-9fafbf1013fa",
   "metadata": {},
   "outputs": [
    {
     "data": {
      "text/plain": [
       "['f', 'e', 'd', 'c', 'b', 'a']"
      ]
     },
     "execution_count": 27,
     "metadata": {},
     "output_type": "execute_result"
    }
   ],
   "source": [
    "list(values.ordered_values)"
   ]
  },
  {
   "cell_type": "code",
   "execution_count": 28,
   "id": "3d2c5f72-04c4-4a2e-8df0-23551beef9f1",
   "metadata": {},
   "outputs": [
    {
     "data": {
      "text/plain": [
       "5"
      ]
     },
     "execution_count": 28,
     "metadata": {},
     "output_type": "execute_result"
    }
   ],
   "source": [
    "values.get_value_rank(value=\"a\")"
   ]
  },
  {
   "cell_type": "markdown",
   "id": "e74adcad-1a37-4628-8435-077c7587c9dd",
   "metadata": {},
   "source": [
    "#### Create a `Model`"
   ]
  },
  {
   "cell_type": "code",
   "execution_count": 29,
   "id": "8142b595-1213-42ad-bfbe-c38f5f9113d7",
   "metadata": {},
   "outputs": [
    {
     "name": "stdout",
     "output_type": "stream",
     "text": [
      "kind: ncs-classification-model\n",
      "format_version: 1\n",
      "accepted_values:\n",
      "  - kind: thresholds\n",
      "    thresholds: [50, 80]\n",
      "  - kind: thresholds\n",
      "    thresholds: [c, a]\n",
      "sufficient_coalitions:\n",
      "  - &coalitions\n",
      "    kind: weights\n",
      "    criterion_weights: [0.5, 0.5]\n",
      "  - *coalitions\n"
     ]
    }
   ],
   "source": [
    "model = lc.Model(\n",
    "    problem,\n",
    "    accepted_values=[\n",
    "        lc.AcceptedValues(lc.AcceptedValues.IntegerThresholds([50, 80])),\n",
    "        lc.AcceptedValues(lc.AcceptedValues.EnumeratedThresholds([\"c\", \"a\"])),\n",
    "    ],\n",
    "    sufficient_coalitions=[\n",
    "        lc.SufficientCoalitions(lc.SufficientCoalitions.Weights([0.5, 0.5])),\n",
    "        lc.SufficientCoalitions(lc.SufficientCoalitions.Weights([0.5, 0.5])),\n",
    "    ],\n",
    ")\n",
    "\n",
    "model.dump(problem, sys.stdout)"
   ]
  },
  {
   "cell_type": "code",
   "execution_count": 30,
   "id": "4d9286ed-1fde-42ea-854b-3ef3cd532f82",
   "metadata": {},
   "outputs": [],
   "source": [
    "accepted = model.accepted_values[0]"
   ]
  },
  {
   "cell_type": "code",
   "execution_count": 31,
   "id": "161f926c-f9e5-4bc7-9382-c069d10458d8",
   "metadata": {},
   "outputs": [
    {
     "data": {
      "text/plain": [
       "(<ValueType.integer: 1>, False, True, False)"
      ]
     },
     "execution_count": 31,
     "metadata": {},
     "output_type": "execute_result"
    }
   ],
   "source": [
    "accepted.value_type, accepted.is_real, accepted.is_integer, accepted.is_enumerated"
   ]
  },
  {
   "cell_type": "code",
   "execution_count": 32,
   "id": "c1298109-a0e9-4660-bd49-c325c0222d72",
   "metadata": {},
   "outputs": [
    {
     "data": {
      "text/plain": [
       "(<Kind.thresholds: 0>, True)"
      ]
     },
     "execution_count": 32,
     "metadata": {},
     "output_type": "execute_result"
    }
   ],
   "source": [
    "accepted.kind, accepted.is_thresholds"
   ]
  },
  {
   "cell_type": "code",
   "execution_count": 33,
   "id": "767b2049-aad2-45a1-9bfc-1e3f7273be46",
   "metadata": {},
   "outputs": [
    {
     "data": {
      "text/plain": [
       "[50, 80]"
      ]
     },
     "execution_count": 33,
     "metadata": {},
     "output_type": "execute_result"
    }
   ],
   "source": [
    "list(accepted.integer_thresholds.thresholds)"
   ]
  },
  {
   "cell_type": "code",
   "execution_count": 34,
   "id": "36256e92-7b2a-4131-b088-35f52dae6dd3",
   "metadata": {},
   "outputs": [],
   "source": [
    "accepted = model.accepted_values[1]"
   ]
  },
  {
   "cell_type": "code",
   "execution_count": 35,
   "id": "62c1aa27-cbc8-4032-9282-e1acf76ffa01",
   "metadata": {},
   "outputs": [
    {
     "data": {
      "text/plain": [
       "(<ValueType.enumerated: 2>, False, False, True)"
      ]
     },
     "execution_count": 35,
     "metadata": {},
     "output_type": "execute_result"
    }
   ],
   "source": [
    "accepted.value_type, accepted.is_real, accepted.is_integer, accepted.is_enumerated"
   ]
  },
  {
   "cell_type": "code",
   "execution_count": 36,
   "id": "ffc03b33-b0cc-4211-b8f3-d0dbedc8131a",
   "metadata": {},
   "outputs": [
    {
     "data": {
      "text/plain": [
       "(<Kind.thresholds: 0>, True)"
      ]
     },
     "execution_count": 36,
     "metadata": {},
     "output_type": "execute_result"
    }
   ],
   "source": [
    "accepted.kind, accepted.is_thresholds"
   ]
  },
  {
   "cell_type": "code",
   "execution_count": 37,
   "id": "26a4d2eb-5d2b-42a3-8348-da1d16b5303f",
   "metadata": {},
   "outputs": [
    {
     "data": {
      "text/plain": [
       "['c', 'a']"
      ]
     },
     "execution_count": 37,
     "metadata": {},
     "output_type": "execute_result"
    }
   ],
   "source": [
    "list(accepted.enumerated_thresholds.thresholds)"
   ]
  },
  {
   "cell_type": "code",
   "execution_count": 38,
   "id": "4690357c-2082-420e-b294-0010ef46f662",
   "metadata": {},
   "outputs": [],
   "source": [
    "sufficient = model.sufficient_coalitions[0]"
   ]
  },
  {
   "cell_type": "code",
   "execution_count": 39,
   "id": "bc0e16b6-ac03-4f81-9c03-79f6c6c91a8b",
   "metadata": {},
   "outputs": [
    {
     "data": {
      "text/plain": [
       "(<Kind.weights: 0>, True, False)"
      ]
     },
     "execution_count": 39,
     "metadata": {},
     "output_type": "execute_result"
    }
   ],
   "source": [
    "sufficient.kind, sufficient.is_weights, sufficient.is_roots"
   ]
  },
  {
   "cell_type": "code",
   "execution_count": 40,
   "id": "6fb81ac9-3f62-4f90-874f-de827d8d761a",
   "metadata": {},
   "outputs": [
    {
     "data": {
      "text/plain": [
       "[0.5, 0.5]"
      ]
     },
     "execution_count": 40,
     "metadata": {},
     "output_type": "execute_result"
    }
   ],
   "source": [
    "list(sufficient.weights.criterion_weights)"
   ]
  },
  {
   "cell_type": "markdown",
   "id": "34adef06-2a98-4278-976f-0bfbcdae399b",
   "metadata": {},
   "source": [
    "#### Create (classified) `Alternatives`"
   ]
  },
  {
   "cell_type": "code",
   "execution_count": 41,
   "id": "44429b29-e039-46ab-b5ad-e2939a729406",
   "metadata": {},
   "outputs": [],
   "source": [
    "alternatives = lc.Alternatives(problem, [\n",
    "    lc.Alternative(\n",
    "        \"Unclassified alternative\",\n",
    "        [\n",
    "            lc.Performance(lc.Performance.Integer(50)),\n",
    "            lc.Performance(lc.Performance.Enumerated(\"c\")),\n",
    "        ],\n",
    "        None\n",
    "    ),\n",
    "    lc.Alternative(\n",
    "        \"Classified alternative\",\n",
    "        [\n",
    "            lc.Performance(lc.Performance.Integer(90)),\n",
    "            lc.Performance(lc.Performance.Enumerated(\"a\")),\n",
    "        ],\n",
    "        2\n",
    "    ),\n",
    "])"
   ]
  },
  {
   "cell_type": "code",
   "execution_count": 42,
   "id": "55a42ccb-27e8-46ea-89c5-3b2828cb34e8",
   "metadata": {},
   "outputs": [],
   "source": [
    "alternative = alternatives.alternatives[0]"
   ]
  },
  {
   "cell_type": "code",
   "execution_count": 43,
   "id": "2dfdf211-2120-4098-a84b-c3b71ac7b8c7",
   "metadata": {},
   "outputs": [
    {
     "data": {
      "text/plain": [
       "True"
      ]
     },
     "execution_count": 43,
     "metadata": {},
     "output_type": "execute_result"
    }
   ],
   "source": [
    "alternative.category_index is None"
   ]
  },
  {
   "cell_type": "code",
   "execution_count": 44,
   "id": "3ddd8143-0374-4e5d-9d97-8673907062cd",
   "metadata": {},
   "outputs": [],
   "source": [
    "performance = alternative.profile[0]"
   ]
  },
  {
   "cell_type": "code",
   "execution_count": 45,
   "id": "168d930a-f8e9-4777-b489-7e3214b2fc54",
   "metadata": {},
   "outputs": [
    {
     "data": {
      "text/plain": [
       "(<ValueType.integer: 1>, False, True, False)"
      ]
     },
     "execution_count": 45,
     "metadata": {},
     "output_type": "execute_result"
    }
   ],
   "source": [
    "performance.value_type, performance.is_real, performance.is_integer, performance.is_enumerated"
   ]
  },
  {
   "cell_type": "code",
   "execution_count": 46,
   "id": "77e19ca9-1fa5-4a4c-99b9-18be4b660596",
   "metadata": {},
   "outputs": [
    {
     "data": {
      "text/plain": [
       "50"
      ]
     },
     "execution_count": 46,
     "metadata": {},
     "output_type": "execute_result"
    }
   ],
   "source": [
    "performance.integer.value"
   ]
  },
  {
   "cell_type": "code",
   "execution_count": 47,
   "id": "95ee2b32-0210-4b77-a0b6-66812bcb1e45",
   "metadata": {},
   "outputs": [
    {
     "data": {
      "text/plain": [
       "'Congratulations'"
      ]
     },
     "execution_count": 47,
     "metadata": {},
     "output_type": "execute_result"
    }
   ],
   "source": [
    "problem.ordered_categories[alternatives.alternatives[1].category_index].name"
   ]
  },
  {
   "cell_type": "markdown",
   "id": "14c1121f-8cfc-4df8-ae73-1574970a382f",
   "metadata": {},
   "source": [
    "### Clone classification objects"
   ]
  },
  {
   "cell_type": "markdown",
   "id": "269d4ce1-75de-4107-b89d-3d86787fa6aa",
   "metadata": {},
   "source": [
    "Just use [`copy.deepcopy`](https://docs.python.org/3/library/copy.html#copy.deepcopy):"
   ]
  },
  {
   "cell_type": "code",
   "execution_count": 48,
   "id": "b3927282-a8d3-4f91-959a-9c4d23e5f473",
   "metadata": {},
   "outputs": [],
   "source": [
    "import copy\n",
    "\n",
    "copied_problem = copy.deepcopy(problem)\n",
    "copied_model = copy.deepcopy(model)\n",
    "copied_alternatives = copy.deepcopy(alternatives)"
   ]
  },
  {
   "cell_type": "markdown",
   "id": "5b97e1f1-00b2-4274-9eb3-145cab40542d",
   "metadata": {},
   "source": [
    "This is especially useful *e.g.* if you want to identify alternatives that are classified differently by two models, because `lc.classify_alternatives` mutates the alternatives: clone the `Alternatives`, classify the copy and iterate over the [`zip`](https://docs.python.org/3/library/functions.html#zip) of both `Alternatives`, comparing their `.category_index`."
   ]
  },
  {
   "cell_type": "markdown",
   "id": "97c52075-e6df-4763-ac72-7ea8e3adebe5",
   "metadata": {},
   "source": [
    "### Serialize classification objects"
   ]
  },
  {
   "cell_type": "markdown",
   "id": "f04191af-4bce-4328-91e8-eb5292d26ebd",
   "metadata": {},
   "source": [
    "#### In YAML and CSV like the command-line\n",
    "\n",
    "(and the upcoming C++ API)"
   ]
  },
  {
   "cell_type": "markdown",
   "id": "395bbfef-ce1a-4d56-81d5-fa9bcbbbd410",
   "metadata": {},
   "source": [
    "Classification objects have a `.dump` method, and their classes have a static `.load` method that accept file-like objects.\n",
    "\n",
    "We've used them above to print classification objects to `sys.stdout`. Here is an example of how to use them with actual files:"
   ]
  },
  {
   "cell_type": "code",
   "execution_count": 49,
   "id": "b76a3046-5e1c-4ad8-9b00-4dc24486a4d9",
   "metadata": {},
   "outputs": [],
   "source": [
    "with open(\"problem.yml\", \"w\") as f:\n",
    "    problem.dump(f)\n",
    "\n",
    "with open(\"model.yml\", \"w\") as f:\n",
    "    model.dump(problem, f)\n",
    "\n",
    "with open(\"alternatives.csv\", \"w\") as f:\n",
    "    alternatives.dump(problem, f)\n",
    "\n",
    "with open(\"problem.yml\") as f:\n",
    "    problem = lc.Problem.load(f)\n",
    "\n",
    "with open(\"model.yml\") as f:\n",
    "    model = lc.Model.load(problem, f)\n",
    "\n",
    "with open(\"alternatives.csv\") as f:\n",
    "    alternatives = lc.Alternatives.load(problem, f)"
   ]
  },
  {
   "cell_type": "markdown",
   "id": "87932b00-021c-4389-87ed-690d1f30effb",
   "metadata": {},
   "source": [
    "And here with in-memory [io](https://docs.python.org/3/library/io.html) objects:"
   ]
  },
  {
   "cell_type": "code",
   "execution_count": 50,
   "id": "8844542e-b8bf-4a6e-b370-828d6e05c3ab",
   "metadata": {},
   "outputs": [
    {
     "name": "stdout",
     "output_type": "stream",
     "text": [
      "kind: classification-problem\n",
      "format_version: 1\n",
      "criteria:\n",
      "  - name: Physics grade\n",
      "    value_type: integer\n",
      "    preference_direction: increasing\n",
      "    min_value: 0\n",
      "    max_value: 100\n",
      "  - name: Literature grade\n",
      "    value_type: enumerated\n",
      "    ordered_values: [f, e, d, c, b, a]\n",
      "ordered_categories:\n",
      "  - name: Failed\n",
      "  - name: Passed\n",
      "  - name: Congratulations\n",
      "\n"
     ]
    }
   ],
   "source": [
    "f = io.StringIO()\n",
    "problem.dump(f)\n",
    "s = f.getvalue()\n",
    "print(s)"
   ]
  },
  {
   "cell_type": "code",
   "execution_count": 51,
   "id": "b5fe484c-7d80-40ea-9098-0b2776833510",
   "metadata": {},
   "outputs": [],
   "source": [
    "f = io.StringIO(s)\n",
    "problem = lc.Problem.load(f)"
   ]
  },
  {
   "cell_type": "markdown",
   "id": "784d7f86-0b02-4bd6-a4a9-280232b05fde",
   "metadata": {},
   "source": [
    "#### Using the Python-specific `pickle` module"
   ]
  },
  {
   "cell_type": "markdown",
   "id": "57f2a0dc-608d-4db8-b3b6-ac0b4d198a6d",
   "metadata": {},
   "source": [
    "Classification objects simply support [pickling](https://docs.python.org/3/library/pickle.html) and unpickling. We recommend using the YAML and CSV formats whenever possible because they are not tied to the Python language (or the *lincs* library for that matter)."
   ]
  },
  {
   "cell_type": "code",
   "execution_count": 52,
   "id": "1e1b8f9d-c82d-4525-b094-13a55c445ff0",
   "metadata": {},
   "outputs": [
    {
     "name": "stdout",
     "output_type": "stream",
     "text": [
      "kind: classification-problem\n",
      "format_version: 1\n",
      "criteria:\n",
      "  - name: Physics grade\n",
      "    value_type: integer\n",
      "    preference_direction: increasing\n",
      "    min_value: 0\n",
      "    max_value: 100\n",
      "  - name: Literature grade\n",
      "    value_type: enumerated\n",
      "    ordered_values: [f, e, d, c, b, a]\n",
      "ordered_categories:\n",
      "  - name: Failed\n",
      "  - name: Passed\n",
      "  - name: Congratulations\n"
     ]
    }
   ],
   "source": [
    "import pickle\n",
    "\n",
    "pickle.loads(pickle.dumps(problem)).dump(sys.stdout)"
   ]
  },
  {
   "cell_type": "markdown",
   "id": "eba4a737-e844-44d3-9158-a63a7fdefc3d",
   "metadata": {},
   "source": [
    "Note however that learning objects (*e.g.* instances of `LearnMrsortByWeightsProfilesBreed`) are *not* picklable."
   ]
  },
  {
   "cell_type": "markdown",
   "id": "c33628cc-d611-4ed3-954d-0b7bbc04c698",
   "metadata": {},
   "source": [
    "### Customize the model visualization"
   ]
  },
  {
   "cell_type": "markdown",
   "id": "fafa89bd-06ce-44c5-8e45-d14302827886",
   "metadata": {},
   "source": [
    "We've decided to not implement any customization for the visualizations produced by `lincs.classification.visualize_model` (and thus `lincs visualize classification-model`) because this would make it less robust and increase its complexity beyond the scope of *lincs*.\n",
    "\n",
    "However, `lincs.classification.visualize_model` is written in Python, using the Python API described in this guide. This means that you can get inspiration from its [source code](https://github.com/MICS-Lab/lincs/blob/main/lincs/visualization.py) (*i.e.* copy-paste it) to produce custom visualizations for your needs.\n",
    "\n",
    "Be aware that our implementation supports a few edge cases, so it might be a bit more complex than what you actually need:\n",
    "\n",
    "- problems and models with a single criterion are visualized in a sensible way"
   ]
  },
  {
   "cell_type": "code",
   "execution_count": 53,
   "id": "8f83bff0-8aa7-4d95-80fa-751db07c1eb8",
   "metadata": {},
   "outputs": [
    {
     "data": {
      "image/png": "[encoded data removed]",
      "text/plain": [
       "<Figure size 600x400 with 1 Axes>"
      ]
     },
     "metadata": {},
     "output_type": "display_data"
    }
   ],
   "source": [
    "problem = lc.Problem([lc.Criterion(\"Criterion\", lc.Criterion.RealValues(lc.Criterion.PreferenceDirection.increasing, 0, 100))], [lc.Category(\"Bad\"), lc.Category(\"Good\")])\n",
    "model = lc.generate_mrsort_model(problem, 42)\n",
    "axes = plt.subplots(1, 1, figsize=(6, 4), layout=\"constrained\")[1]\n",
    "lc.visualize_model(problem, model, [], axes)"
   ]
  },
  {
   "cell_type": "markdown",
   "id": "d5346483-8bb2-416f-87a2-0efb656d0576",
   "metadata": {},
   "source": [
    "- all value types (real, integer and enumerated) are visualized on vertical axes"
   ]
  },
  {
   "cell_type": "code",
   "execution_count": 54,
   "id": "1eb8c26b-91f3-4958-a2ea-0c17d2120676",
   "metadata": {},
   "outputs": [
    {
     "data": {
      "image/png": "[encoded data removed]",
      "text/plain": [
       "<Figure size 600x400 with 1 Axes>"
      ]
     },
     "metadata": {},
     "output_type": "display_data"
    }
   ],
   "source": [
    "problem = lc.Problem(\n",
    "    [\n",
    "        lc.Criterion(\"Real criterion\", lc.Criterion.RealValues(lc.Criterion.PreferenceDirection.increasing, 0, 100)),\n",
    "        lc.Criterion(\"Integer criterion\", lc.Criterion.IntegerValues(lc.Criterion.PreferenceDirection.increasing, 0, 100)),\n",
    "        lc.Criterion(\"Enumerated criterion\", lc.Criterion.EnumeratedValues([\"E\", \"D\", \"C\", \"B\", \"A\"])),\n",
    "    ],\n",
    "    [lc.Category(\"Bad\"), lc.Category(\"Good\")]\n",
    ")\n",
    "model = lc.generate_mrsort_model(problem, 43)\n",
    "axes = plt.subplots(1, 1, figsize=(6, 4), layout=\"constrained\")[1]\n",
    "lc.visualize_model(problem, model, [], axes)"
   ]
  },
  {
   "cell_type": "markdown",
   "id": "1dd8d9d2-d0bc-430f-a2dd-8e1ef1f9ef57",
   "metadata": {},
   "source": [
    "- increasing and decreasing criteria are visualized with axes going up or down"
   ]
  },
  {
   "cell_type": "code",
   "execution_count": 55,
   "id": "c8befa97-e82d-4ce7-8aee-0a551bf267f2",
   "metadata": {},
   "outputs": [
    {
     "data": {
      "image/png": "[encoded data removed]",
      "text/plain": [
       "<Figure size 600x400 with 1 Axes>"
      ]
     },
     "metadata": {},
     "output_type": "display_data"
    }
   ],
   "source": [
    "problem = lc.Problem(\n",
    "    [\n",
    "        lc.Criterion(\"Increasing criterion\", lc.Criterion.RealValues(lc.Criterion.PreferenceDirection.increasing, 0, 100)),\n",
    "        lc.Criterion(\"Decreasing criterion\", lc.Criterion.RealValues(lc.Criterion.PreferenceDirection.decreasing, 0, 100)),\n",
    "    ],\n",
    "    [lc.Category(\"Bad\"), lc.Category(\"Good\")]\n",
    ")\n",
    "model = lc.generate_mrsort_model(problem, 42)\n",
    "axes = plt.subplots(1, 1, figsize=(6, 4), layout=\"constrained\")[1]\n",
    "lc.visualize_model(problem, model, [], axes)"
   ]
  },
  {
   "cell_type": "markdown",
   "id": "5b16bf13-63a8-4b69-9f9b-50a0e3068349",
   "metadata": {},
   "source": [
    "- any min and max values are aligned horizontally at the top and bottom of vertical axes"
   ]
  },
  {
   "cell_type": "code",
   "execution_count": 56,
   "id": "7ef93639-3cd9-4c6d-af47-65d22024ef73",
   "metadata": {},
   "outputs": [
    {
     "data": {
      "image/png": "[encoded data removed]",
      "text/plain": [
       "<Figure size 600x400 with 1 Axes>"
      ]
     },
     "metadata": {},
     "output_type": "display_data"
    }
   ],
   "source": [
    "problem = lc.Problem(\n",
    "    [\n",
    "        lc.Criterion(\"A\", lc.Criterion.RealValues(lc.Criterion.PreferenceDirection.increasing, 0, 1)),\n",
    "        lc.Criterion(\"B\", lc.Criterion.RealValues(lc.Criterion.PreferenceDirection.increasing, -10, 10)),\n",
    "    ],\n",
    "    [lc.Category(\"Bad\"), lc.Category(\"Good\")]\n",
    ")\n",
    "model = lc.generate_mrsort_model(problem, 44)\n",
    "axes = plt.subplots(1, 1, figsize=(6, 4), layout=\"constrained\")[1]\n",
    "lc.visualize_model(problem, model, [], axes)"
   ]
  },
  {
   "cell_type": "markdown",
   "id": "ed82571e-fbb6-4336-8849-95a74b2eea83",
   "metadata": {},
   "source": [
    "- labels for integer criteria with any number of intervals"
   ]
  },
  {
   "cell_type": "code",
   "execution_count": 57,
   "id": "07bfbf8a-bc61-45c8-9fad-80ed08c359e8",
   "metadata": {},
   "outputs": [
    {
     "data": {
      "image/png": "[encoded data removed]",
      "text/plain": [
       "<Figure size 600x400 with 1 Axes>"
      ]
     },
     "metadata": {},
     "output_type": "display_data"
    }
   ],
   "source": [
    "problem = lc.Problem(\n",
    "    [\n",
    "        lc.Criterion(\"1 interval\", lc.Criterion.IntegerValues(lc.Criterion.PreferenceDirection.increasing, 0, 1)),\n",
    "        lc.Criterion(\"2 intervals\", lc.Criterion.IntegerValues(lc.Criterion.PreferenceDirection.increasing, 10, 12)),\n",
    "        lc.Criterion(\"3 intervals\", lc.Criterion.IntegerValues(lc.Criterion.PreferenceDirection.increasing, -10, -7)),\n",
    "        lc.Criterion(\"Even number\\nof intervals\", lc.Criterion.IntegerValues(lc.Criterion.PreferenceDirection.increasing, 100, 200)),\n",
    "        lc.Criterion(\"Odd number\\nof intervals\", lc.Criterion.IntegerValues(lc.Criterion.PreferenceDirection.increasing, 1000, 1201)),\n",
    "    ],\n",
    "    [lc.Category(\"Bad\"), lc.Category(\"Good\")]\n",
    ")\n",
    "model = lc.generate_mrsort_model(problem, 43)\n",
    "axes = plt.subplots(1, 1, figsize=(6, 4), layout=\"constrained\")[1]\n",
    "lc.visualize_model(problem, model, [], axes)"
   ]
  },
  {
   "cell_type": "markdown",
   "id": "e8556878-23a0-45d2-964f-f82f1a217b1d",
   "metadata": {},
   "source": [
    "### Create your own learning strategies"
   ]
  },
  {
   "cell_type": "markdown",
   "id": "e5326968-1069-4c3f-b1a1-8823c7956e3b",
   "metadata": {},
   "source": [
    "The \"Weights, profiles, breed\" learning approach uses strategies for each of its steps. *lincs* provides effective strategies as you've seen in the first part of this guide. You can also define your own strategies, to experiment with new ways to learn.\n",
    "\n",
    "Let's create a problem and learning set for this section:"
   ]
  },
  {
   "cell_type": "code",
   "execution_count": 58,
   "id": "de3701e6-784a-4fb8-84cf-aa65ecc26d71",
   "metadata": {},
   "outputs": [],
   "source": [
    "problem = lc.Problem(\n",
    "    [\n",
    "        lc.Criterion(\"Criterion 1\", lc.Criterion.RealValues(lc.Criterion.PreferenceDirection.decreasing, 0, 10)),\n",
    "        lc.Criterion(\"Criterion 2\", lc.Criterion.IntegerValues(lc.Criterion.PreferenceDirection.increasing, 0, 100)),\n",
    "        lc.Criterion(\"Criterion 3\", lc.Criterion.EnumeratedValues([\"F\", \"E\", \"D\", \"C\", \"B\", \"A\"])),\n",
    "    ],\n",
    "    [lc.Category(\"Bad\"), lc.Category(\"Medium\"), lc.Category(\"Good\")],\n",
    ")\n",
    "learning_set = lc.generate_alternatives(problem, lc.generate_mrsort_model(problem, random_seed=42), alternatives_count=1000, random_seed=43)"
   ]
  },
  {
   "cell_type": "markdown",
   "id": "89022cc0-86d2-41ae-9492-60ce1623425f",
   "metadata": {},
   "source": [
    "#### `PreprocessedLearningSet`"
   ]
  },
  {
   "cell_type": "markdown",
   "id": "6b3b861f-f16a-4574-9956-c6087482e302",
   "metadata": {},
   "source": [
    "First, let's get more familiar with `PreprocessedLearningSet` and `ModelsBeingLearned`.\n",
    "You've seen them briefly in the first part of this guide but their purpose might still be quite obscure at this point."
   ]
  },
  {
   "cell_type": "code",
   "execution_count": 59,
   "id": "2400ce8d-6494-4bc7-be70-eb86c9d36992",
   "metadata": {},
   "outputs": [],
   "source": [
    "preprocessed_learning_set = lc.PreprocessedLearningSet(problem, learning_set)"
   ]
  },
  {
   "cell_type": "markdown",
   "id": "5e6c6b8c-3121-4fc0-8f2b-87c46919c9eb",
   "metadata": {},
   "source": [
    "Learning algorithms don't need to know if a criterion has `integer` or `real` values, or if it has `increasing` or `decreasing` preference direction.\n",
    "The `PreprocessedLearningSet` gives them a simplified, unified view in the form of parformance \"ranks\": for each alternative, on each criterion, it contains the rank of that alternatives performance. This is like having only `increasing` `integer` criteria taking consecuteive values up from zero with no gaps."
   ]
  },
  {
   "cell_type": "markdown",
   "id": "6e40ad12-e93b-40a9-96a9-3b3e7c717152",
   "metadata": {},
   "source": [
    "First, it provides the different counts from the problem and learning set, in a unified way:"
   ]
  },
  {
   "cell_type": "code",
   "execution_count": 60,
   "id": "5e6d7c88-af1e-474f-b631-8ff6d84ab60e",
   "metadata": {},
   "outputs": [
    {
     "data": {
      "text/plain": [
       "(3, 3, 2, 1000)"
      ]
     },
     "execution_count": 60,
     "metadata": {},
     "output_type": "execute_result"
    }
   ],
   "source": [
    "(preprocessed_learning_set.criteria_count, preprocessed_learning_set.categories_count, preprocessed_learning_set.boundaries_count, preprocessed_learning_set.alternatives_count)"
   ]
  },
  {
   "cell_type": "markdown",
   "id": "a718bf27-98dc-4d60-a824-7baac5f607cb",
   "metadata": {},
   "source": [
    "The number of distinct values actually seen for each criterion (including the min and max values for numerical criteria):"
   ]
  },
  {
   "cell_type": "code",
   "execution_count": 61,
   "id": "c2531e9f-a957-4903-9e77-ad7ee513ca63",
   "metadata": {},
   "outputs": [
    {
     "data": {
      "text/plain": [
       "[1002, 101, 6]"
      ]
     },
     "execution_count": 61,
     "metadata": {},
     "output_type": "execute_result"
    }
   ],
   "source": [
    "list(preprocessed_learning_set.values_counts)  # Indexed by [criterion_index]"
   ]
  },
  {
   "cell_type": "markdown",
   "id": "e0eb4ea9-f857-479e-b1c9-a87c44e151bf",
   "metadata": {},
   "source": [
    "We see that the learning data knows 1002 values for the real-valued criterion. This is usual as it's rare for two floating point values to be exactly equal, so the 1000 alternatives have distinct values, and the min and max are two more values. The learning data contains 101 values for the integer-valued criterion, meaning that the alternatives in the learning set do actually cover the whole set of possible values. And similarly, 6 values for the enumerated criterion.\n",
    "\n",
    "For each criterion, the ranks of the performance of each alternative:"
   ]
  },
  {
   "cell_type": "code",
   "execution_count": 62,
   "id": "085a36fa-7c82-43da-aa29-1687b693dcb2",
   "metadata": {},
   "outputs": [
    {
     "data": {
      "text/plain": [
       "[[883, 900, 753, 216, 365, 410, 302, 852, 738, 45, '...'],\n",
       " [50, 13, 17, 86, 4, 2, 25, 81, 47, 87, '...'],\n",
       " [3, 0, 1, 0, 3, 3, 2, 0, 0, 3, '...']]"
      ]
     },
     "execution_count": 62,
     "metadata": {},
     "output_type": "execute_result"
    }
   ],
   "source": [
    "[list(v)[:10] + ['...'] for v in preprocessed_learning_set.performance_ranks]  # Indexed by [criterion_index][alternative_index]"
   ]
  },
  {
   "cell_type": "markdown",
   "id": "544df6c0-be0c-41b7-ac0e-11a31c5b7be8",
   "metadata": {},
   "source": [
    "The assignment of each alternative, *i.e.* the index of its category:"
   ]
  },
  {
   "cell_type": "markdown",
   "id": "0ee66c14-f199-4042-9129-74a429ab4474",
   "metadata": {},
   "source": [
    "All these attributes are iterable and allow random access through an integer index. They do not support splicing."
   ]
  },
  {
   "cell_type": "code",
   "execution_count": 63,
   "id": "899f4584-98b4-440e-808c-efa194a0b526",
   "metadata": {},
   "outputs": [
    {
     "data": {
      "text/plain": [
       "2"
      ]
     },
     "execution_count": 63,
     "metadata": {},
     "output_type": "execute_result"
    }
   ],
   "source": [
    "preprocessed_learning_set.assignments[0]"
   ]
  },
  {
   "cell_type": "code",
   "execution_count": 64,
   "id": "26d14839-e77c-4c6b-9957-86d8c8f2d4b4",
   "metadata": {},
   "outputs": [
    {
     "data": {
      "text/plain": [
       "[2, 2, 2, 0, 1, 1, 1, 2, 2, 0, '...']"
      ]
     },
     "execution_count": 64,
     "metadata": {},
     "output_type": "execute_result"
    }
   ],
   "source": [
    "list(preprocessed_learning_set.assignments)[:10] + ['...']  # Indexed by [alternative_index]"
   ]
  },
  {
   "cell_type": "markdown",
   "id": "45f31655-1184-42e2-b6c4-fbde43f9babb",
   "metadata": {},
   "source": [
    "#### `ModelsBeingLearned`"
   ]
  },
  {
   "cell_type": "code",
   "execution_count": 65,
   "id": "bff5fb0b-519b-4848-b772-7f5aa10454a3",
   "metadata": {},
   "outputs": [],
   "source": [
    "models_being_learned = lc.LearnMrsortByWeightsProfilesBreed.ModelsBeingLearned(preprocessed_learning_set, models_count=9, random_seed=43)"
   ]
  },
  {
   "cell_type": "markdown",
   "id": "dc4244fd-f862-4ba9-8d6f-6e669c273530",
   "metadata": {},
   "source": [
    "This object is shared by all strategies. They communicate by changing it, using side effects. It's the state of the WPB algorithm."
   ]
  },
  {
   "cell_type": "markdown",
   "id": "bbeccc8f-4b25-4029-a5fb-76d6257c4df7",
   "metadata": {},
   "source": [
    "The WPB approach operates on several \"in progress\" models. Their number is constant:"
   ]
  },
  {
   "cell_type": "code",
   "execution_count": 66,
   "id": "e4ca254f-3629-4b3d-9811-745d054fc344",
   "metadata": {},
   "outputs": [
    {
     "data": {
      "text/plain": [
       "9"
      ]
     },
     "execution_count": 66,
     "metadata": {},
     "output_type": "execute_result"
    }
   ],
   "source": [
    "models_being_learned.models_count"
   ]
  },
  {
   "cell_type": "markdown",
   "id": "9807dc89-c81b-4e87-8671-07bce5a79edb",
   "metadata": {},
   "source": [
    "Each model comes with a uniform random bits generator:"
   ]
  },
  {
   "cell_type": "code",
   "execution_count": 67,
   "id": "cbd965fe-19b5-41b5-8428-17b59b5c9d3b",
   "metadata": {},
   "outputs": [
    {
     "data": {
      "text/plain": [
       "['<liblincs.UniformRandomBitsGenerator object>',\n",
       " '<liblincs.UniformRandomBitsGenerator object>',\n",
       " '<liblincs.UniformRandomBitsGenerator object>',\n",
       " '<liblincs.UniformRandomBitsGenerator object>',\n",
       " '<liblincs.UniformRandomBitsGenerator object>',\n",
       " '<liblincs.UniformRandomBitsGenerator object>',\n",
       " '<liblincs.UniformRandomBitsGenerator object>',\n",
       " '<liblincs.UniformRandomBitsGenerator object>',\n",
       " '<liblincs.UniformRandomBitsGenerator object>']"
      ]
     },
     "execution_count": 67,
     "metadata": {},
     "output_type": "execute_result"
    }
   ],
   "source": [
    "[str(random_generator)[:43] + '>' for random_generator in models_being_learned.random_generators]  # Indexed by [model_index]"
   ]
  },
  {
   "cell_type": "markdown",
   "id": "b6e0e786-1a6f-4b1f-b173-c91398d0e3f4",
   "metadata": {},
   "source": [
    "This lets heuristic strategies operate in parallel on models and still produce deterministic results. Random generators are callable to get the next pseudo-random integer:"
   ]
  },
  {
   "cell_type": "code",
   "execution_count": 68,
   "id": "79f1d0ca-68b0-4d2b-aabb-5191cac23c74",
   "metadata": {},
   "outputs": [
    {
     "data": {
      "text/plain": [
       "[494155588,\n",
       " 870190228,\n",
       " 2450414687,\n",
       " 641676058,\n",
       " 661088198,\n",
       " 363471047,\n",
       " 1448606581,\n",
       " 1348129397,\n",
       " 2542538607]"
      ]
     },
     "execution_count": 68,
     "metadata": {},
     "output_type": "execute_result"
    }
   ],
   "source": [
    "[r() for r in models_being_learned.random_generators]"
   ]
  },
  {
   "cell_type": "markdown",
   "id": "485e3ba4-f926-402a-b4ae-32363861a132",
   "metadata": {},
   "source": [
    "The WPB learning approach is iterative, and the `iteration_index` is stored in the learning data. It starts at zero and tells you the current iteration:"
   ]
  },
  {
   "cell_type": "code",
   "execution_count": 69,
   "id": "aa17bb83-d47f-42bc-a0d1-da6d201d4ad2",
   "metadata": {},
   "outputs": [
    {
     "data": {
      "text/plain": [
       "0"
      ]
     },
     "execution_count": 69,
     "metadata": {},
     "output_type": "execute_result"
    }
   ],
   "source": [
    "models_being_learned.iteration_index"
   ]
  },
  {
   "cell_type": "markdown",
   "id": "acaa99a2-e744-4063-8d2e-90aa24bc92b9",
   "metadata": {},
   "source": [
    "The remaining attributes are modified at each iteration, and start uninitialized. For this presentation, we'll first run one iteration of WPB so that their values make sense."
   ]
  },
  {
   "cell_type": "code",
   "execution_count": 70,
   "id": "72a72efe-2404-4f92-8ffc-cee6fbbeced1",
   "metadata": {},
   "outputs": [],
   "source": [
    "preprocessed_learning_set = lc.PreprocessedLearningSet(problem, learning_set)\n",
    "models_being_learned = lc.LearnMrsortByWeightsProfilesBreed.ModelsBeingLearned(preprocessed_learning_set, models_count=9, random_seed=43)\n",
    "profiles_initialization_strategy = lc.InitializeProfilesForProbabilisticMaximalDiscriminationPowerPerCriterion(preprocessed_learning_set, models_being_learned)\n",
    "weights_optimization_strategy = lc.OptimizeWeightsUsingGlop(preprocessed_learning_set, models_being_learned)\n",
    "profiles_improvement_strategy = lc.ImproveProfilesWithAccuracyHeuristicOnCpu(preprocessed_learning_set, models_being_learned)\n",
    "breeding_strategy = lc.ReinitializeLeastAccurate(models_being_learned, profiles_initialization_strategy=profiles_initialization_strategy, count=4)\n",
    "termination_strategy = lc.TerminateAfterIterations(models_being_learned, max_iterations_count=1)\n",
    "\n",
    "lc.LearnMrsortByWeightsProfilesBreed(\n",
    "    preprocessed_learning_set,\n",
    "    models_being_learned,\n",
    "    profiles_initialization_strategy,\n",
    "    weights_optimization_strategy,\n",
    "    profiles_improvement_strategy,\n",
    "    breeding_strategy,\n",
    "    termination_strategy,\n",
    ").perform()\n",
    "\n",
    "assert(models_being_learned.iteration_index == 0)"
   ]
  },
  {
   "cell_type": "markdown",
   "id": "b3a8e44f-ced5-4e34-bdbe-0cd33a854348",
   "metadata": {},
   "source": [
    "Its `model_indexes` contains indexes of models in increasing order of accuracy."
   ]
  },
  {
   "cell_type": "code",
   "execution_count": 71,
   "id": "e9f9a2e9-dbc3-444a-a0f3-4b090dd46ca5",
   "metadata": {},
   "outputs": [
    {
     "data": {
      "text/plain": [
       "[1, 5, 4, 8, 3, 6, 2, 0, 7]"
      ]
     },
     "execution_count": 71,
     "metadata": {},
     "output_type": "execute_result"
    }
   ],
   "source": [
    "list(models_being_learned.model_indexes)"
   ]
  },
  {
   "cell_type": "markdown",
   "id": "b7f78a52-a965-4872-b6cf-a6fb45dd597d",
   "metadata": {},
   "source": [
    "Its `accuracies` attribute holds the accuracy of each model. They are stored as the count of correctly-classified alternatives, between 0 and `alternatives_count` included:"
   ]
  },
  {
   "cell_type": "code",
   "execution_count": 72,
   "id": "504796aa-7aa1-424f-a458-e9e1df7c550f",
   "metadata": {},
   "outputs": [
    {
     "data": {
      "text/plain": [
       "[728, 593, 725, 671, 637, 609, 676, 833, 640]"
      ]
     },
     "execution_count": 72,
     "metadata": {},
     "output_type": "execute_result"
    }
   ],
   "source": [
    "list(models_being_learned.accuracies)  # Indexed by model_index"
   ]
  },
  {
   "cell_type": "markdown",
   "id": "b5b5d24e-d8f0-45e0-adda-c4978a943872",
   "metadata": {},
   "source": [
    "If you iterate the `accuracies` in the order of `model_indexes`, they are sorted:"
   ]
  },
  {
   "cell_type": "code",
   "execution_count": 73,
   "id": "dccb02f0-4eff-4452-b7f4-15d71b5db16a",
   "metadata": {},
   "outputs": [
    {
     "data": {
      "text/plain": [
       "True"
      ]
     },
     "execution_count": 73,
     "metadata": {},
     "output_type": "execute_result"
    }
   ],
   "source": [
    "[models_being_learned.accuracies[index] for index in models_being_learned.model_indexes] == sorted(models_being_learned.accuracies)"
   ]
  },
  {
   "cell_type": "markdown",
   "id": "d80a063d-1456-4ae6-a57a-96a28bfda3a1",
   "metadata": {},
   "source": [
    "Its `low_profile_ranks` hold, for each in-progress model, boundary, and criterion, the rank of the boundary's performance, on the same scale as the `performance_ranks` attributes."
   ]
  },
  {
   "cell_type": "code",
   "execution_count": 74,
   "id": "85b36a2f-39c0-45df-8648-083d0a85071c",
   "metadata": {},
   "outputs": [
    {
     "data": {
      "text/plain": [
       "[[[124, 9, 0], [633, 9, 3]],\n",
       " [[492, 8, 1], [965, 8, 4]],\n",
       " [[268, 15, 0], [506, 54, 3]],\n",
       " [[230, 8, 1], [272, 26, 4]],\n",
       " [[201, 1, 1], [201, 2, 3]],\n",
       " [[86, 64, 0], [86, 99, 0]],\n",
       " [[223, 60, 2], [310, 80, 5]],\n",
       " [[235, 20, 2], [595, 20, 3]],\n",
       " [[261, 52, 0], [262, 52, 3]]]"
      ]
     },
     "execution_count": 74,
     "metadata": {},
     "output_type": "execute_result"
    }
   ],
   "source": [
    "[[list(vv) for vv in v] for v in models_being_learned.low_profile_ranks]  # Indexed by [model_index][boundary_index][criterion_index]"
   ]
  },
  {
   "cell_type": "markdown",
   "id": "fc0441fa-244f-4ed3-ad57-cf8cbea3ecf4",
   "metadata": {},
   "source": [
    "Its `weights` attribute holds the MR-Sort weight of each criterion in each in-progress model."
   ]
  },
  {
   "cell_type": "code",
   "execution_count": 75,
   "id": "382c323a-f9ac-437a-8a28-3472ca341efa",
   "metadata": {},
   "outputs": [
    {
     "data": {
      "text/plain": [
       "[[1.0132789611816406e-06, 0.9999989867210388, 1.0132789611816406e-06],\n",
       " [0.9999989867210388, 0.9999989867210388, 1.0132789611816406e-06],\n",
       " [1.0, 0.0, 0.9999989867210388],\n",
       " [0.5000004768371582, 0.4999994933605194, 0.4999994933605194],\n",
       " [1.0132789611816406e-06, 0.9999989867210388, 0.0],\n",
       " [0.9999989867210388, 0.0, 1.0132789611816406e-06],\n",
       " [1.0, 0.0, 0.0],\n",
       " [1.0, 0.9999989867210388, 1.0132789611816406e-06],\n",
       " [0.9999989867210388, 0.0, 0.9999989867210388]]"
      ]
     },
     "execution_count": 75,
     "metadata": {},
     "output_type": "execute_result"
    }
   ],
   "source": [
    "[list(v) for v in models_being_learned.weights]  # Indexed by [model_index][criterion_index]"
   ]
  },
  {
   "cell_type": "markdown",
   "id": "2d96baa7-4382-4de4-b9a4-baf6521f31a8",
   "metadata": {},
   "source": [
    "Finally, `ModelsBeingLearned` has two methods about the best model so far: `get_best_model` and `get_best_accuracy`, which respectively return the best `Model` so far and its accuracy."
   ]
  },
  {
   "cell_type": "code",
   "execution_count": 76,
   "id": "873404b1-724f-45e3-9bb9-f92d1045bed8",
   "metadata": {},
   "outputs": [
    {
     "name": "stdout",
     "output_type": "stream",
     "text": [
      "kind: ncs-classification-model\n",
      "format_version: 1\n",
      "accepted_values:\n",
      "  - kind: thresholds\n",
      "    thresholds: [7.7909708, 4.06594753]\n",
      "  - kind: thresholds\n",
      "    thresholds: [20, 20]\n",
      "  - kind: thresholds\n",
      "    thresholds: [D, C]\n",
      "sufficient_coalitions:\n",
      "  - &coalitions\n",
      "    kind: weights\n",
      "    criterion_weights: [1, 0.999998987, 1.01327896e-06]\n",
      "  - *coalitions\n"
     ]
    }
   ],
   "source": [
    "models_being_learned.get_best_model().dump(problem, sys.stdout)"
   ]
  },
  {
   "cell_type": "code",
   "execution_count": 77,
   "id": "9bf05513-7cfa-46bc-89c9-540dc4ee89d7",
   "metadata": {},
   "outputs": [
    {
     "data": {
      "text/plain": [
       "833"
      ]
     },
     "execution_count": 77,
     "metadata": {},
     "output_type": "execute_result"
    }
   ],
   "source": [
    "models_being_learned.get_best_accuracy()"
   ]
  },
  {
   "cell_type": "markdown",
   "id": "6b4697a0-1ef4-4702-a261-fd909c29f08a",
   "metadata": {},
   "source": [
    "#### `Observer` strategies"
   ]
  },
  {
   "cell_type": "markdown",
   "id": "99070e74-7640-4e05-a0e0-8066f304eb83",
   "metadata": {},
   "source": [
    "With this hopefully better understanding of `PreprocessedLearningSet` and `ModelsBeingLearned`, let's write our own `Observer` strategy.\n",
    "It's arguably the simplest to starts with, because it's not expected to *change* the `ModelsBeingLearned`, but only *observe* it at some key points of the learning.\n",
    "\n",
    "To start as simple as possible, lets reproduce the behavior of the `--...-verbose` flag on the command line, by creating an observer that just prints the best accuracy at each step.\n",
    "\n",
    "`Observer` strategies must define two methods to be called by the learning algorithm: `after_iteration`, to be called at the end of each iteration, after the breeding of models is done, and `before_return`, to be called just before the final model is returned."
   ]
  },
  {
   "cell_type": "code",
   "execution_count": 78,
   "id": "11b11239-c0fb-4755-a61f-83e4a9a57494",
   "metadata": {},
   "outputs": [],
   "source": [
    "class VerboseObserver(lc.LearnMrsortByWeightsProfilesBreed.Observer):\n",
    "    def __init__(self, models_being_learned):\n",
    "        super().__init__()\n",
    "        self.models_being_learned = models_being_learned\n",
    "\n",
    "    def after_iteration(self):\n",
    "        print(f\"Best accuracy (after {self.models_being_learned.iteration_index + 1} iterations): {self.models_being_learned.get_best_accuracy()}\")\n",
    "\n",
    "    def before_return(self):\n",
    "        print(f\"Final accuracy (after {self.models_being_learned.iteration_index + 1} iterations): {self.models_being_learned.get_best_accuracy()}\")"
   ]
  },
  {
   "cell_type": "markdown",
   "id": "f69b75d0-3a80-4c80-b7aa-c2ffe3b58973",
   "metadata": {},
   "source": [
    "We can now pass it to a learning and perform that learning to observe its effects:"
   ]
  },
  {
   "cell_type": "code",
   "execution_count": 79,
   "id": "8925d4ec-5716-428b-b895-9a34be3216ce",
   "metadata": {},
   "outputs": [
    {
     "name": "stdout",
     "output_type": "stream",
     "text": [
      "Best accuracy (after 1 iterations): 938\n",
      "Best accuracy (after 2 iterations): 992\n",
      "Best accuracy (after 3 iterations): 997\n",
      "Best accuracy (after 4 iterations): 997\n",
      "Best accuracy (after 5 iterations): 997\n",
      "Best accuracy (after 6 iterations): 997\n",
      "Best accuracy (after 7 iterations): 997\n",
      "Best accuracy (after 8 iterations): 999\n",
      "Final accuracy (after 9 iterations): 1000\n"
     ]
    }
   ],
   "source": [
    "profiles_initialization_strategy = lc.InitializeProfilesForProbabilisticMaximalDiscriminationPowerPerCriterion(preprocessed_learning_set, models_being_learned)\n",
    "weights_optimization_strategy = lc.OptimizeWeightsUsingGlop(preprocessed_learning_set, models_being_learned)\n",
    "profiles_improvement_strategy = lc.ImproveProfilesWithAccuracyHeuristicOnCpu(preprocessed_learning_set, models_being_learned)\n",
    "breeding_strategy = lc.ReinitializeLeastAccurate(models_being_learned, profiles_initialization_strategy=profiles_initialization_strategy, count=4)\n",
    "termination_strategy = lc.TerminateAtAccuracy(models_being_learned, target_accuracy=len(learning_set.alternatives))\n",
    "observer = VerboseObserver(models_being_learned)\n",
    "\n",
    "learned_model = lc.LearnMrsortByWeightsProfilesBreed(\n",
    "    preprocessed_learning_set,\n",
    "    models_being_learned,\n",
    "    profiles_initialization_strategy,\n",
    "    weights_optimization_strategy,\n",
    "    profiles_improvement_strategy,\n",
    "    breeding_strategy,\n",
    "    termination_strategy,\n",
    "    [observer],\n",
    ").perform()"
   ]
  },
  {
   "cell_type": "markdown",
   "id": "a558c178-0ba7-49fe-b7c0-95a89e13ff0b",
   "metadata": {},
   "source": [
    "Now let's do something slightly more complicated: our goal for `IntermediatesObserver` is to keep track of the best model so far at different times during the learning. Specifically, we want to keep the models at iterations 1, 2, 4, 8, *etc.*."
   ]
  },
  {
   "cell_type": "code",
   "execution_count": 80,
   "id": "b953eeba-6185-4432-b6ae-a262d88a635c",
   "metadata": {},
   "outputs": [
    {
     "name": "stdout",
     "output_type": "stream",
     "text": [
      "kind: ncs-classification-model\n",
      "format_version: 1\n",
      "accepted_values:\n",
      "  - kind: thresholds\n",
      "    thresholds: [7.7909708, 4.06594753]\n",
      "  - kind: thresholds\n",
      "    thresholds: [20, 20]\n",
      "  - kind: thresholds\n",
      "    thresholds: [D, C]\n",
      "sufficient_coalitions:\n",
      "  - &coalitions\n",
      "    kind: weights\n",
      "    criterion_weights: [1, 0.999998987, 1.01327896e-06]\n",
      "  - *coalitions\n",
      "kind: ncs-classification-model\n",
      "format_version: 1\n",
      "accepted_values:\n",
      "  - kind: thresholds\n",
      "    thresholds: [7.95116329, 3.89878368]\n",
      "  - kind: thresholds\n",
      "    thresholds: [0, 21]\n",
      "  - kind: thresholds\n",
      "    thresholds: [C, B]\n",
      "sufficient_coalitions:\n",
      "  - &coalitions\n",
      "    kind: weights\n",
      "    criterion_weights: [1, 0, 1]\n",
      "  - *coalitions\n",
      "kind: ncs-classification-model\n",
      "format_version: 1\n",
      "accepted_values:\n",
      "  - kind: thresholds\n",
      "    thresholds: [7.96338844, 3.82566905]\n",
      "  - kind: thresholds\n",
      "    thresholds: [73, 84]\n",
      "  - kind: thresholds\n",
      "    thresholds: [B, B]\n",
      "sufficient_coalitions:\n",
      "  - &coalitions\n",
      "    kind: weights\n",
      "    criterion_weights: [1, 0, 1]\n",
      "  - *coalitions\n",
      "kind: ncs-classification-model\n",
      "format_version: 1\n",
      "accepted_values:\n",
      "  - kind: thresholds\n",
      "    thresholds: [7.96338844, 3.74707603]\n",
      "  - kind: thresholds\n",
      "    thresholds: [94, 99]\n",
      "  - kind: thresholds\n",
      "    thresholds: [B, B]\n",
      "sufficient_coalitions:\n",
      "  - &coalitions\n",
      "    kind: weights\n",
      "    criterion_weights: [1, 0, 1]\n",
      "  - *coalitions\n",
      "kind: ncs-classification-model\n",
      "format_version: 1\n",
      "accepted_values:\n",
      "  - kind: thresholds\n",
      "    thresholds: [7.95116329, 3.74707603]\n",
      "  - kind: thresholds\n",
      "    thresholds: [94, 99]\n",
      "  - kind: thresholds\n",
      "    thresholds: [B, B]\n",
      "sufficient_coalitions:\n",
      "  - &coalitions\n",
      "    kind: weights\n",
      "    criterion_weights: [1, 0, 1]\n",
      "  - *coalitions\n"
     ]
    }
   ],
   "source": [
    "import math\n",
    "\n",
    "class IntermediatesObserver(lc.LearnMrsortByWeightsProfilesBreed.Observer):\n",
    "    def __init__(self, problem, models_being_learned):\n",
    "        super().__init__()\n",
    "        self.problem = problem\n",
    "        self.models_being_learned = models_being_learned\n",
    "        self.intermediate_models = []\n",
    "\n",
    "    def after_iteration(self):\n",
    "        if math.log2(self.models_being_learned.iteration_index + 1).is_integer():\n",
    "            self.intermediate_models.append(self.models_being_learned.get_best_model())\n",
    "\n",
    "    def before_return(self):\n",
    "        pass\n",
    "\n",
    "preprocessed_learning_set = lc.PreprocessedLearningSet(problem, learning_set)\n",
    "models_being_learned = lc.LearnMrsortByWeightsProfilesBreed.ModelsBeingLearned(preprocessed_learning_set, models_count=9, random_seed=43)  # Do *not* reuse the same `ModelsBeingLearned` for several learnings\n",
    "profiles_initialization_strategy = lc.InitializeProfilesForProbabilisticMaximalDiscriminationPowerPerCriterion(preprocessed_learning_set, models_being_learned)\n",
    "weights_optimization_strategy = lc.OptimizeWeightsUsingGlop(preprocessed_learning_set, models_being_learned)\n",
    "profiles_improvement_strategy = lc.ImproveProfilesWithAccuracyHeuristicOnCpu(preprocessed_learning_set, models_being_learned)\n",
    "breeding_strategy = lc.ReinitializeLeastAccurate(models_being_learned, profiles_initialization_strategy=profiles_initialization_strategy, count=4)\n",
    "termination_strategy = lc.TerminateAtAccuracy(models_being_learned, target_accuracy=len(learning_set.alternatives))\n",
    "observer = IntermediatesObserver(problem, models_being_learned)\n",
    "\n",
    "final_model = lc.LearnMrsortByWeightsProfilesBreed(\n",
    "    preprocessed_learning_set,\n",
    "    models_being_learned,\n",
    "    profiles_initialization_strategy,\n",
    "    weights_optimization_strategy,\n",
    "    profiles_improvement_strategy,\n",
    "    breeding_strategy,\n",
    "    termination_strategy,\n",
    "    [observer],\n",
    ").perform()\n",
    "\n",
    "for model in observer.intermediate_models:\n",
    "    model.dump(problem, sys.stdout)\n",
    "final_model.dump(problem, sys.stdout)"
   ]
  },
  {
   "cell_type": "markdown",
   "id": "76bbaf16-0934-4cb2-b969-8a4f3f8cdf3e",
   "metadata": {},
   "source": [
    "#### Other strategies"
   ]
  },
  {
   "cell_type": "markdown",
   "id": "97df99f5-1e00-42b1-96e8-4b12039ab47b",
   "metadata": {},
   "source": [
    "Coming up with new interesting strategies is far from easy, so in this guide, we'll just describe the interfaces that the WPB approach expects from these strategies, and not even *try* to do anything intelligent. That part is up to you!\n",
    "\n",
    "Each strategy must inherit from a given abstract base class, as you can see below. Each strategy must override a given method as is detailed below."
   ]
  },
  {
   "cell_type": "markdown",
   "id": "8314a2cc-2df9-44dc-b679-ec7f2d620fc6",
   "metadata": {},
   "source": [
    "Profiles initialization strategies must implement `.initialize_profiles(model_indexes_begin, model_indexes_end)`, that should initialize all `low_profile_ranks` and `high_profile_ranks` for models at indexes in `[models_being_learned.model_index[i] for i in range(model_indexes_begin, model_indexes_end)]`."
   ]
  },
  {
   "cell_type": "code",
   "execution_count": 81,
   "id": "be09001f-c705-4991-888e-1127f956cedd",
   "metadata": {},
   "outputs": [],
   "source": [
    "class SillyProfilesInitializationStrategy(lc.LearnMrsortByWeightsProfilesBreed.ProfilesInitializationStrategy):\n",
    "    def __init__(self, preprocessed_learning_set, models_being_learned):\n",
    "        super().__init__()\n",
    "        self.preprocessed_learning_set = preprocessed_learning_set\n",
    "        self.models_being_learned = models_being_learned\n",
    "\n",
    "    def initialize_profiles(self, model_indexes_begin, model_indexes_end):\n",
    "        print(\"initialize_profiles\", model_indexes_begin, model_indexes_end, file=sys.stderr)\n",
    "        for model_index_index in range(model_indexes_begin, model_indexes_end):\n",
    "            model_index = models_being_learned.model_indexes[model_index_index]\n",
    "            for boundary_index in range(self.preprocessed_learning_set.boundaries_count):\n",
    "                for criterion_index in range(self.preprocessed_learning_set.criteria_count):\n",
    "                    self.models_being_learned.low_profile_ranks[model_index][boundary_index][criterion_index] = 0"
   ]
  },
  {
   "cell_type": "markdown",
   "id": "3fd08860-7e6c-4481-8996-43a6859f528e",
   "metadata": {},
   "source": [
    "Weights optimization strategies must implement `.optimize_weights(model_indexes_begin, model_indexes_end)`, that should optimize all `weights` for models at indexes in `[models_being_learned.model_index[i] for i in range(model_indexes_begin, model_indexes_end)]`."
   ]
  },
  {
   "cell_type": "code",
   "execution_count": 82,
   "id": "4f291740-d975-439d-98d9-57e531b24d92",
   "metadata": {},
   "outputs": [],
   "source": [
    "class SillyWeightsOptimizationStrategy(lc.LearnMrsortByWeightsProfilesBreed.WeightsOptimizationStrategy):\n",
    "    def __init__(self, preprocessed_learning_set, models_being_learned):\n",
    "        super().__init__()\n",
    "        self.preprocessed_learning_set = preprocessed_learning_set\n",
    "        self.models_being_learned = models_being_learned\n",
    "\n",
    "    def optimize_weights(self, model_indexes_begin, model_indexes_end):\n",
    "        print(\"optimize_weights\", model_indexes_begin, model_indexes_end, file=sys.stderr)\n",
    "        for model_index_index in range(model_indexes_begin, model_indexes_end):\n",
    "            model_index = models_being_learned.model_indexes[model_index_index]\n",
    "            for criterion_index in range(self.preprocessed_learning_set.criteria_count):\n",
    "                self.models_being_learned.weights[model_index][criterion_index] = 1.1 / self.preprocessed_learning_set.criteria_count"
   ]
  },
  {
   "cell_type": "markdown",
   "id": "19466da5-3095-4952-a863-8eda76c516e7",
   "metadata": {},
   "source": [
    "Profiles improvement strategies must implement `.improve_profiles(model_indexes_begin, model_indexes_end)`, that should improve `low_profile_ranks` and `high_profile_ranks` for models at indexes in `[models_being_learned.model_index[i] for i in range(model_indexes_begin, model_indexes_end)]`."
   ]
  },
  {
   "cell_type": "code",
   "execution_count": 83,
   "id": "813e650d-1496-4949-bcb4-9632f0b30534",
   "metadata": {},
   "outputs": [],
   "source": [
    "class SillyProfilesImprovementStrategy(lc.LearnMrsortByWeightsProfilesBreed.ProfilesImprovementStrategy):\n",
    "    def __init__(self, preprocessed_learning_set, models_being_learned):\n",
    "        super().__init__()\n",
    "        self.preprocessed_learning_set = preprocessed_learning_set\n",
    "        self.models_being_learned = models_being_learned\n",
    "\n",
    "    def improve_profiles(self, model_indexes_begin, model_indexes_end):\n",
    "        print(\"improve_profiles\", model_indexes_begin, model_indexes_end, file=sys.stderr)\n",
    "        for model_index_index in range(model_indexes_begin, model_indexes_end):\n",
    "            model_index = self.models_being_learned.model_indexes[model_index_index]\n",
    "            for boundary_index in range(self.preprocessed_learning_set.boundaries_count):\n",
    "                for criterion_index in range(self.preprocessed_learning_set.criteria_count):\n",
    "                    rank = (boundary_index + 1) * (self.preprocessed_learning_set.values_counts[criterion_index] // (self.preprocessed_learning_set.boundaries_count + 1))\n",
    "                    self.models_being_learned.low_profile_ranks[model_index][boundary_index][criterion_index] = rank"
   ]
  },
  {
   "cell_type": "markdown",
   "id": "d8255069-9f59-4840-88f5-50cd1b0c53a0",
   "metadata": {},
   "source": [
    "Breeding strategies must implement `.breed()`, that should breed all models."
   ]
  },
  {
   "cell_type": "code",
   "execution_count": 84,
   "id": "4fc3949f-0a0a-403d-a7c1-8853f25e1fc2",
   "metadata": {},
   "outputs": [],
   "source": [
    "class SillyBreedingStrategy(lc.LearnMrsortByWeightsProfilesBreed.BreedingStrategy):\n",
    "    def __init__(self, models_being_learned):\n",
    "        super().__init__()\n",
    "        self.models_being_learned = models_being_learned\n",
    "\n",
    "    def breed(self):\n",
    "        print(\"breed\", file=sys.stderr)"
   ]
  },
  {
   "cell_type": "markdown",
   "id": "a4cec20d-16ad-431f-a47b-f2061aae5dc7",
   "metadata": {},
   "source": [
    "Termination strategies must implement `.terminate()`, that should return `True` to terminate the learning."
   ]
  },
  {
   "cell_type": "code",
   "execution_count": 85,
   "id": "1a639168-9e4e-4228-91b7-ef1cbea09874",
   "metadata": {},
   "outputs": [],
   "source": [
    "class SillyTerminationStrategy(lc.LearnMrsortByWeightsProfilesBreed.TerminationStrategy):\n",
    "    def __init__(self, models_being_learned):\n",
    "        super().__init__()\n",
    "        self.models_being_learned = models_being_learned\n",
    "\n",
    "    def terminate(self):\n",
    "        print(\"terminate\", file=sys.stderr)\n",
    "        return self.models_being_learned.iteration_index == 3"
   ]
  },
  {
   "cell_type": "code",
   "execution_count": 86,
   "id": "1c24180f-c468-4576-b14f-6a4451e81112",
   "metadata": {},
   "outputs": [],
   "source": [
    "problem = lc.Problem(\n",
    "    [\n",
    "        lc.Criterion(\"Criterion 1\", lc.Criterion.RealValues(lc.Criterion.PreferenceDirection.decreasing, 0, 10)),\n",
    "        lc.Criterion(\"Criterion 2\", lc.Criterion.IntegerValues(lc.Criterion.PreferenceDirection.increasing, 0, 100)),\n",
    "        lc.Criterion(\"Criterion 3\", lc.Criterion.EnumeratedValues([\"F\", \"E\", \"D\", \"C\", \"B\", \"A\"])),\n",
    "    ],\n",
    "    [lc.Category(\"Bad\"), lc.Category(\"Medium\"), lc.Category(\"Good\")],\n",
    ")\n",
    "learning_set = lc.generate_alternatives(problem, lc.generate_mrsort_model(problem, random_seed=42), alternatives_count=1000, random_seed=43)\n",
    "\n",
    "preprocessed_learning_set = lc.PreprocessedLearningSet(problem, learning_set)\n",
    "models_being_learned = lc.LearnMrsortByWeightsProfilesBreed.ModelsBeingLearned(preprocessed_learning_set, models_count=9, random_seed=43)\n",
    "profiles_initialization_strategy = SillyProfilesInitializationStrategy(preprocessed_learning_set, models_being_learned)\n",
    "weights_optimization_strategy = SillyWeightsOptimizationStrategy(preprocessed_learning_set, models_being_learned)\n",
    "profiles_improvement_strategy = SillyProfilesImprovementStrategy(preprocessed_learning_set, models_being_learned)\n",
    "breeding_strategy = SillyBreedingStrategy(models_being_learned)\n",
    "termination_strategy = SillyTerminationStrategy(models_being_learned)"
   ]
  },
  {
   "cell_type": "markdown",
   "id": "f7880c36-9285-415c-ac6d-de17235f2bc2",
   "metadata": {},
   "source": [
    "Here are the logs produced by these silly strategies during the learning:"
   ]
  },
  {
   "cell_type": "code",
   "execution_count": 87,
   "id": "cbcb0bb6-7fbc-42ff-b000-277c1e2a3658",
   "metadata": {},
   "outputs": [
    {
     "name": "stderr",
     "output_type": "stream",
     "text": [
      "initialize_profiles 0 9\n",
      "optimize_weights 0 9\n",
      "improve_profiles 0 9\n",
      "terminate\n",
      "breed\n",
      "optimize_weights 0 9\n",
      "improve_profiles 0 9\n",
      "terminate\n",
      "breed\n",
      "optimize_weights 0 9\n",
      "improve_profiles 0 9\n",
      "terminate\n",
      "breed\n",
      "optimize_weights 0 9\n",
      "improve_profiles 0 9\n",
      "terminate\n"
     ]
    }
   ],
   "source": [
    "learned_model = lc.LearnMrsortByWeightsProfilesBreed(\n",
    "    preprocessed_learning_set,\n",
    "    models_being_learned,\n",
    "    profiles_initialization_strategy,\n",
    "    weights_optimization_strategy,\n",
    "    profiles_improvement_strategy,\n",
    "    breeding_strategy,\n",
    "    termination_strategy,\n",
    ").perform()"
   ]
  },
  {
   "cell_type": "markdown",
   "id": "7b1c6c36-d377-4cb7-8223-45068d0b443a",
   "metadata": {},
   "source": [
    "And here is the silly model they produce:"
   ]
  },
  {
   "cell_type": "code",
   "execution_count": 88,
   "id": "e1a54453-f94b-4c9b-8663-9628ff71ee79",
   "metadata": {},
   "outputs": [
    {
     "name": "stdout",
     "output_type": "stream",
     "text": [
      "kind: ncs-classification-model\n",
      "format_version: 1\n",
      "accepted_values:\n",
      "  - kind: thresholds\n",
      "    thresholds: [6.94936371, 3.24692106]\n",
      "  - kind: thresholds\n",
      "    thresholds: [33, 66]\n",
      "  - kind: thresholds\n",
      "    thresholds: [D, B]\n",
      "sufficient_coalitions:\n",
      "  - &coalitions\n",
      "    kind: weights\n",
      "    criterion_weights: [0.366666675, 0.366666675, 0.366666675]\n",
      "  - *coalitions\n"
     ]
    }
   ],
   "source": [
    "learned_model.dump(problem, sys.stdout)"
   ]
  }
 ],
 "metadata": {
  "kernelspec": {
   "display_name": "Python 3 (ipykernel)",
   "language": "python",
   "name": "python3"
  },
  "language_info": {
   "codemirror_mode": {
    "name": "ipython",
    "version": 3
   },
   "file_extension": ".py",
   "mimetype": "text/x-python",
   "name": "python",
   "nbconvert_exporter": "python",
   "pygments_lexer": "ipython3",
   "version": "3.8.10"
  }
 },
 "nbformat": 4,
 "nbformat_minor": 5
}
