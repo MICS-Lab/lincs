{
 "cells": [
  {
   "cell_type": "code",
   "execution_count": 1,
   "id": "1412d4f0-27b6-4ac7-a47f-de9240db2ec1",
   "metadata": {},
   "outputs": [],
   "source": [
    "lincs generate classification-problem 4 3 --output-problem problem.yml --random-seed 40\n",
    "lincs generate classification-model problem.yml --output-model model.yml --random-seed 41\n",
    "lincs generate classified-alternatives problem.yml model.yml 1000 --output-alternatives learning-set.csv --random-seed 42"
   ]
  },
  {
   "cell_type": "code",
   "execution_count": 2,
   "id": "706fc755-8697-499b-905b-c44c652fad34",
   "metadata": {},
   "outputs": [
    {
     "name": "stdout",
     "output_type": "stream",
     "text": [
      "# Reproduction command (with lincs version 0.11.1): lincs learn classification-model problem.yml learning-set.csv --model-type ucncs --ucncs.strategy sat-by-coalitions\n",
      "kind: ncs-classification-model\n",
      "format_version: 1\n",
      "accepted_values:\n",
      "  - kind: thresholds\n",
      "    thresholds: [0.999706864, 0.999706864]\n",
      "  - kind: thresholds\n",
      "    thresholds: [0.0552680492, 0.325211823]\n",
      "  - kind: thresholds\n",
      "    thresholds: [0.161919117, 0.672662616]\n",
      "  - kind: thresholds\n",
      "    thresholds: [0.995402098, 0.996754646]\n",
      "sufficient_coalitions:\n",
      "  - &coalitions\n",
      "    kind: roots\n",
      "    upset_roots:\n",
      "      - [1, 2]\n",
      "  - *coalitions\n"
     ]
    }
   ],
   "source": [
    "lincs learn classification-model problem.yml learning-set.csv \\\n",
    "  --model-type ucncs --ucncs.strategy sat-by-coalitions"
   ]
  },
  {
   "cell_type": "code",
   "execution_count": 3,
   "id": "7827dec5-fd55-4b0d-a603-9d8f6e92d7f6",
   "metadata": {},
   "outputs": [
    {
     "name": "stdout",
     "output_type": "stream",
     "text": [
      "# Reproduction command (with lincs version 0.11.1): lincs learn classification-model problem.yml learning-set.csv --model-type ucncs --ucncs.strategy max-sat-by-separation\n",
      "kind: ncs-classification-model\n",
      "format_version: 1\n",
      "accepted_values:\n",
      "  - kind: thresholds\n",
      "    thresholds: [0.944162905, 0.944440365]\n",
      "  - kind: thresholds\n",
      "    thresholds: [0.0552680492, 0.325211823]\n",
      "  - kind: thresholds\n",
      "    thresholds: [0.161919117, 0.672662616]\n",
      "  - kind: thresholds\n",
      "    thresholds: [0.000378949801, 0.224962443]\n",
      "sufficient_coalitions:\n",
      "  - &coalitions\n",
      "    kind: roots\n",
      "    upset_roots:\n",
      "      - [1, 2]\n",
      "  - *coalitions\n"
     ]
    }
   ],
   "source": [
    "lincs learn classification-model problem.yml learning-set.csv \\\n",
    "  --model-type ucncs --ucncs.strategy max-sat-by-separation"
   ]
  }
 ],
 "metadata": {
  "kernelspec": {
   "display_name": "Bash",
   "language": "bash",
   "name": "bash"
  },
  "language_info": {
   "codemirror_mode": "shell",
   "file_extension": ".sh",
   "mimetype": "text/x-sh",
   "name": "bash"
  }
 },
 "nbformat": 4,
 "nbformat_minor": 5
}
