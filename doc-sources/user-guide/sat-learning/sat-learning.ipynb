{
 "cells": [
  {
   "cell_type": "code",
   "execution_count": 1,
   "id": "1412d4f0-27b6-4ac7-a47f-de9240db2ec1",
   "metadata": {},
   "outputs": [],
   "source": [
    "lincs generate classification-problem 4 3 --output-problem problem.yml --random-seed 40\n",
    "lincs generate classification-model problem.yml --output-model model.yml --random-seed 41\n",
    "lincs generate classified-alternatives problem.yml model.yml 1000 --output-alternatives learning-set.csv --random-seed 42"
   ]
  },
  {
   "cell_type": "code",
   "execution_count": 2,
   "id": "706fc755-8697-499b-905b-c44c652fad34",
   "metadata": {},
   "outputs": [
    {
     "name": "stdout",
     "output_type": "stream",
     "text": [
      "# Reproduction command (with lincs version 2.0.0a3): lincs learn classification-model problem.yml learning-set.csv --model-type ucncs --ucncs.strategy sat-by-coalitions\n",
      "kind: ncs-classification-model\n",
      "format_version: 1\n",
      "accepted_values:\n",
      "  - kind: thresholds\n",
      "    thresholds: [1, 1]\n",
      "  - kind: thresholds\n",
      "    thresholds: [0.0556534864, 0.326433569]\n",
      "  - kind: thresholds\n",
      "    thresholds: [0.162616938, 0.67343241]\n",
      "  - kind: thresholds\n",
      "    thresholds: [0.996253729, 0.997255564]\n",
      "sufficient_coalitions:\n",
      "  - &coalitions\n",
      "    kind: roots\n",
      "    upset_roots:\n",
      "      - [1, 2]\n",
      "  - *coalitions\n"
     ]
    }
   ],
   "source": [
    "lincs learn classification-model problem.yml learning-set.csv \\\n",
    "  --model-type ucncs --ucncs.strategy sat-by-coalitions"
   ]
  },
  {
   "cell_type": "code",
   "execution_count": 3,
   "id": "7827dec5-fd55-4b0d-a603-9d8f6e92d7f6",
   "metadata": {},
   "outputs": [
    {
     "name": "stdout",
     "output_type": "stream",
     "text": [
      "# Reproduction command (with lincs version 2.0.0a3): lincs learn classification-model problem.yml learning-set.csv --model-type ucncs --ucncs.strategy max-sat-by-separation --ucncs.max-sat-by-separation.solver eval-max-sat --ucncs.max-sat-by-separation.eval-max-sat.nb-minimize-threads 0 --ucncs.max-sat-by-separation.eval-max-sat.timeout-fast-minimize 60 --ucncs.max-sat-by-separation.eval-max-sat.coef-minimize-time 2\n",
      "kind: ncs-classification-model\n",
      "format_version: 1\n",
      "accepted_values:\n",
      "  - kind: thresholds\n",
      "    thresholds: [0.944266498, 0.944614232]\n",
      "  - kind: thresholds\n",
      "    thresholds: [0.0556534864, 0.326433569]\n",
      "  - kind: thresholds\n",
      "    thresholds: [0.162616938, 0.67343241]\n",
      "  - kind: thresholds\n",
      "    thresholds: [0.000520376489, 0.225223705]\n",
      "sufficient_coalitions:\n",
      "  - &coalitions\n",
      "    kind: roots\n",
      "    upset_roots:\n",
      "      - [1, 2]\n",
      "  - *coalitions\n"
     ]
    }
   ],
   "source": [
    "lincs learn classification-model problem.yml learning-set.csv \\\n",
    "  --model-type ucncs --ucncs.strategy max-sat-by-separation"
   ]
  }
 ],
 "metadata": {
  "kernelspec": {
   "display_name": "Bash",
   "language": "bash",
   "name": "bash"
  },
  "language_info": {
   "codemirror_mode": "shell",
   "file_extension": ".sh",
   "mimetype": "text/x-sh",
   "name": "bash"
  }
 },
 "nbformat": 4,
 "nbformat_minor": 5
}
