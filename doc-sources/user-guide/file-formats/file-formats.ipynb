{
 "cells": [
  {
   "cell_type": "code",
   "execution_count": 1,
   "metadata": {},
   "outputs": [
    {
     "name": "stdout",
     "output_type": "stream",
     "text": [
      "kind: classification-problem\n",
      "format_version: 1\n",
      "criteria:\n",
      "  - name: Criterion 1\n",
      "    value_type: real\n",
      "    preference_direction: increasing\n",
      "    min_value: 0\n",
      "    max_value: 20\n",
      "  - name: Criterion 2\n",
      "    value_type: real\n",
      "    preference_direction: decreasing\n",
      "    min_value: -5\n",
      "    max_value: 5\n",
      "ordered_categories:\n",
      "  - name: Low\n",
      "  - name: Medium\n",
      "  - name: High\n"
     ]
    }
   ],
   "source": [
    "cat problem.yml"
   ]
  },
  {
   "cell_type": "code",
   "execution_count": 2,
   "metadata": {},
   "outputs": [
    {
     "name": "stdout",
     "output_type": "stream",
     "text": [
      "kind: ncs-classification-model\n",
      "format_version: 1\n",
      "accepted_values:\n",
      "  - kind: thresholds\n",
      "    thresholds: [7.49331188, 15.9249287]\n",
      "  - kind: thresholds\n",
      "    thresholds: [4.49812794, -3.15932083]\n",
      "sufficient_coalitions:\n",
      "  - &coalitions\n",
      "    kind: weights\n",
      "    criterion_weights: [0.938825667, 0.343733728]\n",
      "  - *coalitions\n"
     ]
    }
   ],
   "source": [
    "lincs generate classification-model problem.yml  --random-seed 42 | tail -n +2 >mrsort-model.yml\n",
    "cat mrsort-model.yml"
   ]
  },
  {
   "cell_type": "code",
   "execution_count": 3,
   "metadata": {},
   "outputs": [
    {
     "name": "stdout",
     "output_type": "stream",
     "text": [
      "kind: ncs-classification-model\n",
      "format_version: 1\n",
      "accepted_values:\n",
      "  - kind: thresholds\n",
      "    thresholds: [7.49331188, 15.9249287]\n",
      "  - kind: thresholds\n",
      "    thresholds: [4.49812794, -3.15932083]\n",
      "sufficient_coalitions:\n",
      "  - kind: roots\n",
      "    upset_roots:\n",
      "      - [1]\n",
      "  - kind: roots\n",
      "    upset_roots:\n",
      "      - [0, 1]\n"
     ]
    }
   ],
   "source": [
    "cat ncs-model.yml"
   ]
  },
  {
   "cell_type": "code",
   "execution_count": 4,
   "metadata": {},
   "outputs": [
    {
     "name": "stdout",
     "output_type": "stream",
     "text": [
      "name,\"Criterion 1\",\"Criterion 2\",category\n",
      "\"Alternative 1\",10.8156891,4.39045048,Medium\n",
      "\"Alternative 2\",0.25551182,-1.45864725,Low\n",
      "\"Alternative 3\",18.4786396,4.31117153,Medium\n",
      "\"Alternative 4\",18.0154629,1.33949804,Medium\n",
      "\"Alternative 5\",9.30789757,2.66963387,Medium\n"
     ]
    }
   ],
   "source": [
    "lincs classify problem.yml mrsort-model.yml unclassified-alternatives.csv | tail -n +2"
   ]
  },
  {
   "cell_type": "code",
   "execution_count": 5,
   "metadata": {},
   "outputs": [
    {
     "name": "stdout",
     "output_type": "stream",
     "text": [
      "name,\"Criterion 1\",\"Criterion 2\",category\n",
      "\"Alternative 1\",10.8156891,4.39045048,\n",
      "\"Alternative 2\",0.25551182,-1.45864725,\n",
      "\"Alternative 3\",18.4786396,4.31117153,\n",
      "\"Alternative 4\",18.0154629,1.33949804,\n",
      "\"Alternative 5\",9.30789757,2.66963387,\n"
     ]
    }
   ],
   "source": [
    "cat unclassified-alternatives.csv"
   ]
  }
 ],
 "metadata": {
  "kernelspec": {
   "display_name": "Bash",
   "language": "bash",
   "name": "bash"
  },
  "language_info": {
   "codemirror_mode": "shell",
   "file_extension": ".sh",
   "mimetype": "text/x-sh",
   "name": "bash"
  }
 },
 "nbformat": 4,
 "nbformat_minor": 4
}
