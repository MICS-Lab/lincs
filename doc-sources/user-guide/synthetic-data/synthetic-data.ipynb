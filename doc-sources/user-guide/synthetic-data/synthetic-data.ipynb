{
 "cells": [
  {
   "cell_type": "code",
   "execution_count": 1,
   "id": "b337eb6e-6cf2-41ac-8e96-5bfb9342f002",
   "metadata": {
    "append_to_source": [
     "--random-seed 57 | tee problem.yml"
    ]
   },
   "outputs": [
    {
     "name": "stdout",
     "output_type": "stream",
     "text": [
      "# Reproduction command (with lincs version 1.1.0a21.dev0): lincs generate classification-problem 4 3 --random-seed 57\n",
      "kind: classification-problem\n",
      "format_version: 1\n",
      "criteria:\n",
      "  - name: Criterion 1\n",
      "    value_type: real\n",
      "    preference_direction: increasing\n",
      "    min_value: 0\n",
      "    max_value: 1\n",
      "  - name: Criterion 2\n",
      "    value_type: real\n",
      "    preference_direction: increasing\n",
      "    min_value: 0\n",
      "    max_value: 1\n",
      "  - name: Criterion 3\n",
      "    value_type: real\n",
      "    preference_direction: increasing\n",
      "    min_value: 0\n",
      "    max_value: 1\n",
      "  - name: Criterion 4\n",
      "    value_type: real\n",
      "    preference_direction: increasing\n",
      "    min_value: 0\n",
      "    max_value: 1\n",
      "ordered_categories:\n",
      "  - name: Worst category\n",
      "  - name: Intermediate category 1\n",
      "  - name: Best category\n"
     ]
    }
   ],
   "source": [
    "lincs generate classification-problem 4 3"
   ]
  },
  {
   "cell_type": "code",
   "execution_count": 2,
   "id": "85bfffa3-8576-4aa0-84bb-1aa1e8f745e6",
   "metadata": {
    "append_to_source": [
     "--random-seed 58 | tee model.yml"
    ]
   },
   "outputs": [
    {
     "name": "stdout",
     "output_type": "stream",
     "text": [
      "# Reproduction command (with lincs version 1.1.0a21.dev0): lincs generate classification-model problem.yml --random-seed 58 --model-type mrsort\n",
      "kind: ncs-classification-model\n",
      "format_version: 1\n",
      "accepted_values:\n",
      "  - kind: thresholds\n",
      "    thresholds: [0.367803454, 0.826752901]\n",
      "  - kind: thresholds\n",
      "    thresholds: [0.452181786, 0.883535683]\n",
      "  - kind: thresholds\n",
      "    thresholds: [0.496139139, 0.953250349]\n",
      "  - kind: thresholds\n",
      "    thresholds: [0.0841096193, 0.955762744]\n",
      "sufficient_coalitions:\n",
      "  - &coalitions\n",
      "    kind: weights\n",
      "    criterion_weights: [1.40245283, 1.20123053, 0.164875031, 2.07359672]\n",
      "  - *coalitions\n"
     ]
    }
   ],
   "source": [
    "lincs generate classification-model problem.yml"
   ]
  },
  {
   "cell_type": "code",
   "execution_count": 3,
   "id": "690f90ed-ab7e-4547-aa53-b484f1fceb43",
   "metadata": {
    "append_to_source": [
     "--random-seed 59 | tee learning-set.csv"
    ]
   },
   "outputs": [
    {
     "name": "stdout",
     "output_type": "stream",
     "text": [
      "# Reproduction command (with lincs version 1.1.0a21.dev0): lincs generate classified-alternatives problem.yml model.yml 100 --random-seed 59 --misclassified-count 0\n",
      "name,\"Criterion 1\",\"Criterion 2\",\"Criterion 3\",\"Criterion 4\",category\n",
      "\"Alternative 1\",0.924035132,0.804616809,0.157870576,0.637420833,\"Best category\"\n",
      "\"Alternative 2\",0.866915047,0.979161799,0.0841569453,0.397855282,\"Best category\"\n",
      "\"Alternative 3\",0.573573709,0.698698461,0.281939775,0.941189826,\"Intermediate category 1\"\n",
      "\"Alternative 4\",0.256280571,0.199831605,0.563980401,0.529548883,\"Intermediate category 1\"\n",
      "\"Alternative 5\",0.219823346,0.8424474,0.648620784,0.053520117,\"Intermediate category 1\"\n",
      "\"Alternative 6\",0.627752244,0.723132849,0.410974413,0.624833643,\"Intermediate category 1\"\n",
      "\"Alternative 7\",0.402543366,0.914177537,0.450162083,0.536128104,\"Best category\"\n",
      "\"Alternative 8\",0.233922437,0.144151345,0.134331703,0.105883092,\"Intermediate category 1\"\n",
      "\"Alternative 9\",0.104712769,0.724370539,0.472990215,0.928077281,\"Intermediate category 1\"\n",
      "\"Alternative 10\",0.113847531,0.598642349,0.286046982,0.655789971,\"Intermediate category 1\"\n",
      "\"Alternative 11\",0.838211715,0.434930474,0.314073414,0.265605181,\"Best category\"\n",
      "\"Alternative 12\",0.0763762817,0.578992069,0.769427001,0.0356702022,\"Intermediate category 1\"\n",
      "\"Alternative 13\",0.257969975,0.293045044,0.934417486,0.296749532,\"Intermediate category 1\"\n",
      "\"Alternative 14\",0.808039665,0.332388908,0.335329622,0.342465609,\"Intermediate category 1\"\n",
      "\"Alternative 15\",0.491347492,0.876065493,0.222734109,0.915191174,\"Intermediate category 1\"\n",
      "\"Alternative 16\",0.434248149,0.808637619,0.644393921,0.723547459,\"Intermediate category 1\"\n",
      "\"Alternative 17\",0.96176672,0.130121619,0.439492226,0.417710453,\"Best category\"\n",
      "\"Alternative 18\",0.439125597,0.873497784,0.640228033,0.418058515,\"Intermediate category 1\"\n",
      "\"Alternative 19\",0.913099587,0.238504052,0.556060195,0.487828821,\"Best category\"\n",
      "\"Alternative 20\",0.535451114,0.840772688,0.443259418,0.660249591,\"Intermediate category 1\"\n",
      "\"Alternative 21\",0.139129668,0.594039023,0.935379267,0.447389543,\"Intermediate category 1\"\n",
      "\"Alternative 22\",0.637828529,0.171783969,0.949956,0.759079874,\"Intermediate category 1\"\n",
      "\"Alternative 23\",0.453194767,0.702216506,0.389209837,0.719196141,\"Intermediate category 1\"\n",
      "\"Alternative 24\",0.614884853,0.885231853,0.671898663,0.57053721,\"Best category\"\n",
      "\"Alternative 25\",0.763498187,0.457734495,0.310351372,0.689966738,\"Intermediate category 1\"\n",
      "\"Alternative 26\",0.294111133,0.973739624,0.200388506,0.431130499,\"Best category\"\n",
      "\"Alternative 27\",0.284727544,0.638391793,0.699518085,0.939281881,\"Intermediate category 1\"\n",
      "\"Alternative 28\",0.922915876,0.148084641,0.341020316,0.670194507,\"Best category\"\n",
      "\"Alternative 29\",0.700360894,0.414161533,0.64040041,0.823079526,\"Intermediate category 1\"\n",
      "\"Alternative 30\",0.0429203883,0.274236828,0.741116464,0.374636739,\"Intermediate category 1\"\n",
      "\"Alternative 31\",0.0203762036,0.618232429,0.811867476,0.700553298,\"Intermediate category 1\"\n",
      "\"Alternative 32\",0.283026755,0.844620228,0.437411547,0.439584792,\"Intermediate category 1\"\n",
      "\"Alternative 33\",0.930066228,0.942414165,0.541773021,0.786044717,\"Best category\"\n",
      "\"Alternative 34\",0.902781188,0.167439327,0.391666442,0.0993636698,\"Best category\"\n",
      "\"Alternative 35\",0.593847632,0.335027307,0.896017909,0.494984627,\"Intermediate category 1\"\n",
      "\"Alternative 36\",0.161655977,0.658885539,0.809617519,0.266868532,\"Intermediate category 1\"\n",
      "\"Alternative 37\",0.186294481,0.877574861,0.633744061,0.78739059,\"Intermediate category 1\"\n",
      "\"Alternative 38\",0.514081478,0.227844343,0.728249788,0.465032369,\"Intermediate category 1\"\n",
      "\"Alternative 39\",0.0380737111,0.639882743,0.911510587,0.455901146,\"Intermediate category 1\"\n",
      "\"Alternative 40\",0.770783961,0.934010208,0.959354281,0.302457154,\"Best category\"\n",
      "\"Alternative 41\",0.226763889,0.52504611,0.67642957,0.577798009,\"Intermediate category 1\"\n",
      "\"Alternative 42\",0.358545303,0.699765205,0.262474477,0.385027438,\"Intermediate category 1\"\n",
      "\"Alternative 43\",0.392809063,0.725733578,0.757067502,0.971865177,\"Best category\"\n",
      "\"Alternative 44\",0.388577789,0.185179174,0.915572703,0.549937844,\"Intermediate category 1\"\n",
      "\"Alternative 45\",0.630834639,0.177640542,0.993132412,0.116599612,\"Intermediate category 1\"\n",
      "\"Alternative 46\",0.72286135,0.418888032,0.480325639,0.0297679808,\"Intermediate category 1\"\n",
      "\"Alternative 47\",0.224593535,0.812699437,0.658226609,0.703109503,\"Intermediate category 1\"\n",
      "\"Alternative 48\",0.580769479,0.0624200292,0.589106023,0.180019617,\"Intermediate category 1\"\n",
      "\"Alternative 49\",0.159608096,0.617473543,0.800398588,0.998153508,\"Best category\"\n",
      "\"Alternative 50\",0.619770169,0.101330966,0.861961663,0.879801989,\"Intermediate category 1\"\n",
      "\"Alternative 51\",0.141938522,0.564249158,0.544640183,0.74797678,\"Intermediate category 1\"\n",
      "\"Alternative 52\",0.364802182,0.31709525,0.539756835,0.344355524,\"Intermediate category 1\"\n",
      "\"Alternative 53\",0.268003911,0.649109721,0.772018194,0.755381584,\"Intermediate category 1\"\n",
      "\"Alternative 54\",0.886406422,0.383286923,0.0108292298,0.0965500623,\"Best category\"\n",
      "\"Alternative 55\",0.301314712,0.586523235,0.0323188715,0.469378471,\"Intermediate category 1\"\n",
      "\"Alternative 56\",0.220969871,0.840610206,0.25461933,0.8217116,\"Intermediate category 1\"\n",
      "\"Alternative 57\",0.0277750548,0.742769361,0.271800846,0.174004331,\"Intermediate category 1\"\n",
      "\"Alternative 58\",0.553638995,0.342642158,0.238838032,0.465545684,\"Intermediate category 1\"\n",
      "\"Alternative 59\",0.545981586,0.114832014,0.224180982,0.862187624,\"Intermediate category 1\"\n",
      "\"Alternative 60\",0.656637609,0.373551548,0.796464324,0.875395238,\"Intermediate category 1\"\n",
      "\"Alternative 61\",0.996133149,0.65176028,0.637801588,0.209595099,\"Best category\"\n",
      "\"Alternative 62\",0.935166657,0.912786484,0.78987205,0.510270953,\"Best category\"\n",
      "\"Alternative 63\",0.850663543,0.557322502,0.0791170746,0.887506723,\"Best category\"\n",
      "\"Alternative 64\",0.53743279,0.62961942,0.686615407,0.886590362,\"Intermediate category 1\"\n",
      "\"Alternative 65\",0.449118674,0.767256916,0.936198056,0.179786995,\"Intermediate category 1\"\n",
      "\"Alternative 66\",0.647881627,0.777467608,0.112525985,0.213093206,\"Intermediate category 1\"\n",
      "\"Alternative 67\",0.812514782,0.0816764757,0.551712513,0.308459014,\"Intermediate category 1\"\n",
      "\"Alternative 68\",0.92703563,0.744860649,0.646522284,0.483405888,\"Best category\"\n",
      "\"Alternative 69\",0.616723418,0.568372846,0.0492146537,0.806197166,\"Intermediate category 1\"\n",
      "\"Alternative 70\",0.405198276,0.477805763,0.44563055,0.44120279,\"Intermediate category 1\"\n",
      "\"Alternative 71\",0.567286253,0.565028727,0.169662818,0.332739085,\"Intermediate category 1\"\n",
      "\"Alternative 72\",0.494578719,0.963422775,0.75563246,0.0879964083,\"Best category\"\n",
      "\"Alternative 73\",0.725306034,0.700582027,0.229962245,0.805516303,\"Intermediate category 1\"\n",
      "\"Alternative 74\",0.519173086,0.815685928,0.590295672,0.9302665,\"Intermediate category 1\"\n",
      "\"Alternative 75\",0.346778005,0.728421807,0.569930851,0.709910572,\"Intermediate category 1\"\n",
      "\"Alternative 76\",0.921256125,0.378520638,0.237422988,0.44561401,\"Best category\"\n",
      "\"Alternative 77\",0.678187668,0.48716706,0.639999509,0.540209413,\"Intermediate category 1\"\n",
      "\"Alternative 78\",0.889745593,0.472752303,0.488363445,0.873987556,\"Best category\"\n",
      "\"Alternative 79\",0.420010835,0.459029645,0.472754359,0.293196231,\"Intermediate category 1\"\n",
      "\"Alternative 80\",0.225312099,0.360145628,0.457164645,0.101542227,\"Intermediate category 1\"\n",
      "\"Alternative 81\",0.88688916,0.177984864,0.471940666,0.268945575,\"Best category\"\n",
      "\"Alternative 82\",0.339163125,0.363395751,0.142212018,0.93243885,\"Intermediate category 1\"\n",
      "\"Alternative 83\",0.89841038,0.980060041,0.250560075,0.696300864,\"Best category\"\n",
      "\"Alternative 84\",0.71513176,0.861236155,0.838442802,0.904345751,\"Intermediate category 1\"\n",
      "\"Alternative 85\",0.583914876,0.772616446,0.629444897,0.395859212,\"Intermediate category 1\"\n",
      "\"Alternative 86\",0.192873433,0.97083956,0.164028689,0.271254599,\"Best category\"\n",
      "\"Alternative 87\",0.126726747,0.508063018,0.99871397,0.233865172,\"Intermediate category 1\"\n",
      "\"Alternative 88\",0.283775389,0.61464709,0.515921533,0.900095344,\"Intermediate category 1\"\n",
      "\"Alternative 89\",0.188918874,0.474532068,0.72676158,0.645770729,\"Intermediate category 1\"\n",
      "\"Alternative 90\",0.947579265,0.472726405,0.851463974,0.698694289,\"Best category\"\n",
      "\"Alternative 91\",0.783602595,0.19188942,0.210642248,0.803099632,\"Intermediate category 1\"\n",
      "\"Alternative 92\",0.725464284,0.895535111,0.14437139,0.984602213,\"Best category\"\n",
      "\"Alternative 93\",0.148840547,0.613524258,0.808407187,0.533553779,\"Intermediate category 1\"\n",
      "\"Alternative 94\",0.930123031,0.119966216,0.93763411,0.970297754,\"Best category\"\n",
      "\"Alternative 95\",0.34551549,0.198960632,0.386953562,0.784570217,\"Intermediate category 1\"\n",
      "\"Alternative 96\",0.00632618088,0.529579997,0.547730803,0.481798708,\"Intermediate category 1\"\n",
      "\"Alternative 97\",0.570042908,0.279982924,0.769442201,0.897038698,\"Intermediate category 1\"\n",
      "\"Alternative 98\",0.0743672848,0.738984287,0.229361087,0.0378124714,\"Intermediate category 1\"\n",
      "\"Alternative 99\",0.903167307,0.795302689,0.270567596,0.652023256,\"Best category\"\n",
      "\"Alternative 100\",0.189440459,0.873497963,0.612085819,0.743348122,\"Intermediate category 1\"\n"
     ]
    }
   ],
   "source": [
    "lincs generate classified-alternatives problem.yml model.yml 100"
   ]
  },
  {
   "cell_type": "code",
   "execution_count": 4,
   "id": "6cee157b-121d-4cdb-971f-fd82ee31c810",
   "metadata": {
    "append_to_source": [
     "--mrsort.weights-profiles-breed.accuracy-heuristic.random-seed 60"
    ]
   },
   "outputs": [
    {
     "name": "stdout",
     "output_type": "stream",
     "text": [
      "# Reproduction command (with lincs version 1.1.0a21.dev0): lincs learn classification-model problem.yml learning-set.csv --model-type mrsort --mrsort.strategy weights-profiles-breed --mrsort.weights-profiles-breed.models-count 9 --mrsort.weights-profiles-breed.accuracy-heuristic.random-seed 60 --mrsort.weights-profiles-breed.initialization-strategy maximize-discrimination-per-criterion --mrsort.weights-profiles-breed.weights-strategy linear-program --mrsort.weights-profiles-breed.linear-program.solver glop --mrsort.weights-profiles-breed.profiles-strategy accuracy-heuristic --mrsort.weights-profiles-breed.accuracy-heuristic.processor cpu --mrsort.weights-profiles-breed.breed-strategy reinitialize-least-accurate --mrsort.weights-profiles-breed.reinitialize-least-accurate.portion 0.5 --mrsort.weights-profiles-breed.target-accuracy 1.0\n",
      "kind: ncs-classification-model\n",
      "format_version: 1\n",
      "accepted_values:\n",
      "  - kind: thresholds\n",
      "    thresholds: [0, 0.838211715]\n",
      "  - kind: thresholds\n",
      "    thresholds: [0.459029645, 0.885231853]\n",
      "  - kind: thresholds\n",
      "    thresholds: [0.644393921, 0.646522284]\n",
      "  - kind: thresholds\n",
      "    thresholds: [0.709910572, 0.941189826]\n",
      "sufficient_coalitions:\n",
      "  - &coalitions\n",
      "    kind: weights\n",
      "    criterion_weights: [1, 1, 1.01327896e-06, 0.999998987]\n",
      "  - *coalitions\n"
     ]
    }
   ],
   "source": [
    "lincs learn classification-model problem.yml learning-set.csv"
   ]
  }
 ],
 "metadata": {
  "kernelspec": {
   "display_name": "Bash",
   "language": "bash",
   "name": "bash"
  },
  "language_info": {
   "codemirror_mode": "shell",
   "file_extension": ".sh",
   "mimetype": "text/x-sh",
   "name": "bash"
  }
 },
 "nbformat": 4,
 "nbformat_minor": 5
}
