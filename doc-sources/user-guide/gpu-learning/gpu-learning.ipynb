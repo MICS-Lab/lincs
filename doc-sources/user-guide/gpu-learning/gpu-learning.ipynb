{
 "cells": [
  {
   "cell_type": "code",
   "execution_count": 1,
   "id": "41ad80e6-330a-41c2-a08a-f34d7c1f86ff",
   "metadata": {},
   "outputs": [],
   "source": [
    "lincs generate classification-problem 4 3 --output-problem problem.yml --random-seed 40\n",
    "lincs generate classification-model problem.yml --output-model model.yml --random-seed 41\n",
    "lincs generate classified-alternatives problem.yml model.yml 1000 --output-alternatives learning-set.csv --random-seed 42"
   ]
  },
  {
   "cell_type": "code",
   "execution_count": 2,
   "id": "63f8cc41-d294-4bf4-adf7-5e811f6ab3d5",
   "metadata": {
    "append_to_source": [
     "",
     "--mrsort.weights-profiles-breed.accuracy-heuristic.random-seed 43"
    ]
   },
   "outputs": [
    {
     "name": "stdout",
     "output_type": "stream",
     "text": [
      "# Reproduction command (with lincs version 1.1.0a19): lincs learn classification-model problem.yml learning-set.csv --model-type mrsort --mrsort.strategy weights-profiles-breed --mrsort.weights-profiles-breed.models-count 9 --mrsort.weights-profiles-breed.accuracy-heuristic.random-seed 43 --mrsort.weights-profiles-breed.initialization-strategy maximize-discrimination-per-criterion --mrsort.weights-profiles-breed.weights-strategy linear-program --mrsort.weights-profiles-breed.linear-program.solver glop --mrsort.weights-profiles-breed.profiles-strategy accuracy-heuristic --mrsort.weights-profiles-breed.accuracy-heuristic.processor gpu --mrsort.weights-profiles-breed.breed-strategy reinitialize-least-accurate --mrsort.weights-profiles-breed.reinitialize-least-accurate.portion 0.5 --mrsort.weights-profiles-breed.target-accuracy 1.0\n",
      "kind: ncs-classification-model\n",
      "format_version: 1\n",
      "accepted_values:\n",
      "  - kind: thresholds\n",
      "    thresholds: [0.339874953, 0.421424538]\n",
      "  - kind: thresholds\n",
      "    thresholds: [0.0556534864, 0.326433569]\n",
      "  - kind: thresholds\n",
      "    thresholds: [0.162616938, 0.67343241]\n",
      "  - kind: thresholds\n",
      "    thresholds: [0.0878681168, 0.252649099]\n",
      "sufficient_coalitions:\n",
      "  - &coalitions\n",
      "    kind: weights\n",
      "    criterion_weights: [0, 1.01327896e-06, 0.999998987, 0]\n",
      "  - *coalitions\n"
     ]
    }
   ],
   "source": [
    "lincs learn classification-model problem.yml learning-set.csv \\\n",
    "  --mrsort.weights-profiles-breed.accuracy-heuristic.processor gpu"
   ]
  }
 ],
 "metadata": {
  "kernelspec": {
   "display_name": "Bash",
   "language": "bash",
   "name": "bash"
  },
  "language_info": {
   "codemirror_mode": "shell",
   "file_extension": ".sh",
   "mimetype": "text/x-sh",
   "name": "bash"
  }
 },
 "nbformat": 4,
 "nbformat_minor": 5
}
