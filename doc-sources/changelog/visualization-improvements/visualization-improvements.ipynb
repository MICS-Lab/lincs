{
 "cells": [
  {
   "cell_type": "code",
   "execution_count": 1,
   "id": "b6ee7e37-a5de-42f7-bd38-420e51569297",
   "metadata": {},
   "outputs": [],
   "source": [
    "rm -f model-1.1.png\n",
    "lincs visualize classification-model problem.yml model.yml --alternatives alternatives.csv model-1.1.png"
   ]
  }
 ],
 "metadata": {
  "kernelspec": {
   "display_name": "Bash",
   "language": "bash",
   "name": "bash"
  },
  "language_info": {
   "codemirror_mode": "shell",
   "file_extension": ".sh",
   "mimetype": "text/x-sh",
   "name": "bash"
  }
 },
 "nbformat": 4,
 "nbformat_minor": 5
}
