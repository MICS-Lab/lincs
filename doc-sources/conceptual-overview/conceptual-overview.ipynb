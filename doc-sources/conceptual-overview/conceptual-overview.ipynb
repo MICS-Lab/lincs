{
 "cells": [
  {
   "cell_type": "code",
   "execution_count": 1,
   "id": "020882cf-adc2-48f1-a4de-b50246b49865",
   "metadata": {},
   "outputs": [],
   "source": [
    "rm -f concept-example-model.png\n",
    "lincs visualize classification-model problem.yml model.yml concept-example-model.png"
   ]
  },
  {
   "cell_type": "code",
   "execution_count": 2,
   "id": "9d094783-0dba-491f-8bbc-db5dfcf92692",
   "metadata": {},
   "outputs": [
    {
     "name": "stdout",
     "output_type": "stream",
     "text": [
      "# Reproduction command (with lincs version 1.1.0a14.dev0): lincs classify problem.yml model.yml alternatives.csv\n",
      "name,Math,Physics,Literature,History,category\n",
      "A,1,1,1,1,\"Full scholarship\"\n",
      "B,1,1,1,0,\"Full scholarship\"\n",
      "C,0.800000012,0.699999988,0.850000024,0.600000024,\"Partial scholarship\"\n",
      "D,1,0,1,0,\"Partial scholarship\"\n",
      "E,1,1,0,0,\"No scholarship\"\n"
     ]
    }
   ],
   "source": [
    "lincs classify problem.yml model.yml alternatives.csv"
   ]
  }
 ],
 "metadata": {
  "kernelspec": {
   "display_name": "Bash",
   "language": "bash",
   "name": "bash"
  },
  "language_info": {
   "codemirror_mode": "shell",
   "file_extension": ".sh",
   "mimetype": "text/x-sh",
   "name": "bash"
  }
 },
 "nbformat": 4,
 "nbformat_minor": 5
}
